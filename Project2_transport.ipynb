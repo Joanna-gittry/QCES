{
  "cells": [
    {
      "cell_type": "markdown",
      "metadata": {
        "id": "z9HdaKw6Pj09"
      },
      "source": [
        "<a href=\"https://colab.research.google.com/github/johnryantaylor/QCES/blob/main/Project2_transport.ipynb\" target=\"_parent\"><img src=\"https://colab.research.google.com/assets/colab-badge.svg\" alt=\"Open In Colab\"/></a>"
      ]
    },
    {
      "cell_type": "markdown",
      "metadata": {
        "id": "_Sg_8hbCPj1D"
      },
      "source": [
        "# Project 2: Tracer transport\n",
        "\n",
        "A critical aspect of understanding climate and environmental systems is describing the movement of substances. This could include pollution or water vapor in the atmosphere, salt in an estuary, or chemicals in a river. We often model the transport of these substances using an advection/diffusion equation for the concentration of the substance. In this context, we sometimes refer to the concentration field as a `tracer' since it helps us track the movement of individual molecules. We can also use this framework to describe the transport of heat, although in this case the tracer field (temperature or heat content) tracks the movement of thermal energy.\n",
        "\n",
        "In this project we will use Dedalus to solve advection diffusion equations to describe the vertical distribution of heat in the ocean and the concentration of pollution in a river.\n",
        "\n",
        "Student tasks are in [Section 1.4](#section1pt4), [Section 1.6](#section1pt6), and [Section 2.3](#section2pt3)"
      ]
    },
    {
      "cell_type": "markdown",
      "metadata": {
        "id": "LWMANgGdPj1E"
      },
      "source": [
        "## Setup\n",
        "If you are using Google colab, run the script below to install Dedalus"
      ]
    },
    {
      "cell_type": "code",
      "execution_count": 1,
      "metadata": {
        "id": "azZJBs24Pj1E",
        "outputId": "5e4b8c1b-f52d-487c-d3c6-4e20b5963072",
        "colab": {
          "base_uri": "https://localhost:8080/"
        }
      },
      "outputs": [
        {
          "output_type": "stream",
          "name": "stdout",
          "text": [
            "env: OMP_NUM_THREADS=1\n",
            "env: NUMEXPR_MAX_THREADS=1\n",
            "Dedalus not installed yet.\n",
            "Installing for Google Colab.\n",
            "\n",
            "Reading package lists... Done\n",
            "Building dependency tree... Done\n",
            "Reading state information... Done\n",
            "The following additional packages will be installed:\n",
            "  libfftw3-bin libfftw3-double3 libfftw3-long3 libfftw3-quad3 libfftw3-single3\n",
            "Suggested packages:\n",
            "  libfftw3-doc\n",
            "The following NEW packages will be installed:\n",
            "  libfftw3-bin libfftw3-dev libfftw3-double3 libfftw3-long3 libfftw3-quad3 libfftw3-single3\n",
            "0 upgraded, 6 newly installed, 0 to remove and 49 not upgraded.\n",
            "Need to get 4,654 kB of archives.\n",
            "After this operation, 24.7 MB of additional disk space will be used.\n",
            "Get:1 http://archive.ubuntu.com/ubuntu jammy/main amd64 libfftw3-double3 amd64 3.3.8-2ubuntu8 [770 kB]\n",
            "Get:2 http://archive.ubuntu.com/ubuntu jammy/main amd64 libfftw3-long3 amd64 3.3.8-2ubuntu8 [335 kB]\n",
            "Get:3 http://archive.ubuntu.com/ubuntu jammy/main amd64 libfftw3-quad3 amd64 3.3.8-2ubuntu8 [614 kB]\n",
            "Get:4 http://archive.ubuntu.com/ubuntu jammy/main amd64 libfftw3-single3 amd64 3.3.8-2ubuntu8 [800 kB]\n",
            "Get:5 http://archive.ubuntu.com/ubuntu jammy/main amd64 libfftw3-bin amd64 3.3.8-2ubuntu8 [35.5 kB]\n",
            "Get:6 http://archive.ubuntu.com/ubuntu jammy/main amd64 libfftw3-dev amd64 3.3.8-2ubuntu8 [2,101 kB]\n",
            "Fetched 4,654 kB in 1s (8,214 kB/s)\n",
            "Selecting previously unselected package libfftw3-double3:amd64.\n",
            "(Reading database ... 123623 files and directories currently installed.)\n",
            "Preparing to unpack .../0-libfftw3-double3_3.3.8-2ubuntu8_amd64.deb ...\n",
            "Unpacking libfftw3-double3:amd64 (3.3.8-2ubuntu8) ...\n",
            "Selecting previously unselected package libfftw3-long3:amd64.\n",
            "Preparing to unpack .../1-libfftw3-long3_3.3.8-2ubuntu8_amd64.deb ...\n",
            "Unpacking libfftw3-long3:amd64 (3.3.8-2ubuntu8) ...\n",
            "Selecting previously unselected package libfftw3-quad3:amd64.\n",
            "Preparing to unpack .../2-libfftw3-quad3_3.3.8-2ubuntu8_amd64.deb ...\n",
            "Unpacking libfftw3-quad3:amd64 (3.3.8-2ubuntu8) ...\n",
            "Selecting previously unselected package libfftw3-single3:amd64.\n",
            "Preparing to unpack .../3-libfftw3-single3_3.3.8-2ubuntu8_amd64.deb ...\n",
            "Unpacking libfftw3-single3:amd64 (3.3.8-2ubuntu8) ...\n",
            "Selecting previously unselected package libfftw3-bin.\n",
            "Preparing to unpack .../4-libfftw3-bin_3.3.8-2ubuntu8_amd64.deb ...\n",
            "Unpacking libfftw3-bin (3.3.8-2ubuntu8) ...\n",
            "Selecting previously unselected package libfftw3-dev:amd64.\n",
            "Preparing to unpack .../5-libfftw3-dev_3.3.8-2ubuntu8_amd64.deb ...\n",
            "Unpacking libfftw3-dev:amd64 (3.3.8-2ubuntu8) ...\n",
            "Setting up libfftw3-single3:amd64 (3.3.8-2ubuntu8) ...\n",
            "Setting up libfftw3-long3:amd64 (3.3.8-2ubuntu8) ...\n",
            "Setting up libfftw3-quad3:amd64 (3.3.8-2ubuntu8) ...\n",
            "Setting up libfftw3-double3:amd64 (3.3.8-2ubuntu8) ...\n",
            "Setting up libfftw3-bin (3.3.8-2ubuntu8) ...\n",
            "Setting up libfftw3-dev:amd64 (3.3.8-2ubuntu8) ...\n",
            "Processing triggers for man-db (2.10.2-1) ...\n",
            "Processing triggers for libc-bin (2.35-0ubuntu3.4) ...\n",
            "/sbin/ldconfig.real: /usr/local/lib/libtbbbind_2_0.so.3 is not a symbolic link\n",
            "\n",
            "/sbin/ldconfig.real: /usr/local/lib/libtcm_debug.so.1 is not a symbolic link\n",
            "\n",
            "/sbin/ldconfig.real: /usr/local/lib/libtbbbind.so.3 is not a symbolic link\n",
            "\n",
            "/sbin/ldconfig.real: /usr/local/lib/libtbb.so.12 is not a symbolic link\n",
            "\n",
            "/sbin/ldconfig.real: /usr/local/lib/libtbbbind_2_5.so.3 is not a symbolic link\n",
            "\n",
            "/sbin/ldconfig.real: /usr/local/lib/libtcm.so.1 is not a symbolic link\n",
            "\n",
            "/sbin/ldconfig.real: /usr/local/lib/libur_loader.so.0 is not a symbolic link\n",
            "\n",
            "/sbin/ldconfig.real: /usr/local/lib/libhwloc.so.15 is not a symbolic link\n",
            "\n",
            "/sbin/ldconfig.real: /usr/local/lib/libur_adapter_opencl.so.0 is not a symbolic link\n",
            "\n",
            "/sbin/ldconfig.real: /usr/local/lib/libtbbmalloc.so.2 is not a symbolic link\n",
            "\n",
            "/sbin/ldconfig.real: /usr/local/lib/libur_adapter_level_zero.so.0 is not a symbolic link\n",
            "\n",
            "/sbin/ldconfig.real: /usr/local/lib/libumf.so.0 is not a symbolic link\n",
            "\n",
            "/sbin/ldconfig.real: /usr/local/lib/libtbbmalloc_proxy.so.2 is not a symbolic link\n",
            "\n",
            "Reading package lists... Done\n",
            "Building dependency tree... Done\n",
            "Reading state information... Done\n",
            "The following additional packages will be installed:\n",
            "  libfftw3-mpi3\n",
            "Suggested packages:\n",
            "  libfftw3-doc\n",
            "The following NEW packages will be installed:\n",
            "  libfftw3-mpi-dev libfftw3-mpi3\n",
            "0 upgraded, 2 newly installed, 0 to remove and 49 not upgraded.\n",
            "Need to get 102 kB of archives.\n",
            "After this operation, 1,052 kB of additional disk space will be used.\n",
            "Get:1 http://archive.ubuntu.com/ubuntu jammy/universe amd64 libfftw3-mpi3 amd64 3.3.8-2ubuntu8 [48.9 kB]\n",
            "Get:2 http://archive.ubuntu.com/ubuntu jammy/universe amd64 libfftw3-mpi-dev amd64 3.3.8-2ubuntu8 [53.3 kB]\n",
            "Fetched 102 kB in 0s (458 kB/s)\n",
            "Selecting previously unselected package libfftw3-mpi3:amd64.\n",
            "(Reading database ... 123726 files and directories currently installed.)\n",
            "Preparing to unpack .../libfftw3-mpi3_3.3.8-2ubuntu8_amd64.deb ...\n",
            "Unpacking libfftw3-mpi3:amd64 (3.3.8-2ubuntu8) ...\n",
            "Selecting previously unselected package libfftw3-mpi-dev:amd64.\n",
            "Preparing to unpack .../libfftw3-mpi-dev_3.3.8-2ubuntu8_amd64.deb ...\n",
            "Unpacking libfftw3-mpi-dev:amd64 (3.3.8-2ubuntu8) ...\n",
            "Setting up libfftw3-mpi3:amd64 (3.3.8-2ubuntu8) ...\n",
            "Setting up libfftw3-mpi-dev:amd64 (3.3.8-2ubuntu8) ...\n",
            "Processing triggers for libc-bin (2.35-0ubuntu3.4) ...\n",
            "/sbin/ldconfig.real: /usr/local/lib/libtbbbind_2_0.so.3 is not a symbolic link\n",
            "\n",
            "/sbin/ldconfig.real: /usr/local/lib/libtcm_debug.so.1 is not a symbolic link\n",
            "\n",
            "/sbin/ldconfig.real: /usr/local/lib/libtbbbind.so.3 is not a symbolic link\n",
            "\n",
            "/sbin/ldconfig.real: /usr/local/lib/libtbb.so.12 is not a symbolic link\n",
            "\n",
            "/sbin/ldconfig.real: /usr/local/lib/libtbbbind_2_5.so.3 is not a symbolic link\n",
            "\n",
            "/sbin/ldconfig.real: /usr/local/lib/libtcm.so.1 is not a symbolic link\n",
            "\n",
            "/sbin/ldconfig.real: /usr/local/lib/libur_loader.so.0 is not a symbolic link\n",
            "\n",
            "/sbin/ldconfig.real: /usr/local/lib/libhwloc.so.15 is not a symbolic link\n",
            "\n",
            "/sbin/ldconfig.real: /usr/local/lib/libur_adapter_opencl.so.0 is not a symbolic link\n",
            "\n",
            "/sbin/ldconfig.real: /usr/local/lib/libtbbmalloc.so.2 is not a symbolic link\n",
            "\n",
            "/sbin/ldconfig.real: /usr/local/lib/libur_adapter_level_zero.so.0 is not a symbolic link\n",
            "\n",
            "/sbin/ldconfig.real: /usr/local/lib/libumf.so.0 is not a symbolic link\n",
            "\n",
            "/sbin/ldconfig.real: /usr/local/lib/libtbbmalloc_proxy.so.2 is not a symbolic link\n",
            "\n",
            "Requirement already satisfied: cython in /usr/local/lib/python3.10/dist-packages (3.0.11)\n",
            "Collecting mpi4py<4.0\n",
            "  Downloading mpi4py-3.1.6.tar.gz (2.4 MB)\n",
            "\u001b[2K     \u001b[90m━━━━━━━━━━━━━━━━━━━━━━━━━━━━━━━━━━━━━━━━\u001b[0m \u001b[32m2.4/2.4 MB\u001b[0m \u001b[31m25.5 MB/s\u001b[0m eta \u001b[36m0:00:00\u001b[0m\n",
            "\u001b[?25h  Installing build dependencies ... \u001b[?25l\u001b[?25hdone\n",
            "  Getting requirements to build wheel ... \u001b[?25l\u001b[?25hdone\n",
            "  Preparing metadata (pyproject.toml) ... \u001b[?25l\u001b[?25hdone\n",
            "Requirement already satisfied: numpy in /usr/local/lib/python3.10/dist-packages (1.26.4)\n",
            "Requirement already satisfied: setuptools in /usr/local/lib/python3.10/dist-packages (75.1.0)\n",
            "Requirement already satisfied: wheel in /usr/local/lib/python3.10/dist-packages (0.44.0)\n",
            "Building wheels for collected packages: mpi4py\n",
            "  Building wheel for mpi4py (pyproject.toml) ... \u001b[?25l\u001b[?25hdone\n",
            "  Created wheel for mpi4py: filename=mpi4py-3.1.6-cp310-cp310-linux_x86_64.whl size=2746325 sha256=e2e135b1091cbcdcc0bf2fd7a1f2f6694cdfdaaaa3bdde4eca4c3a5f599c8318\n",
            "  Stored in directory: /root/.cache/pip/wheels/4c/ca/89/8fc1fb1c620afca13bb41c630b1f948bbf446e0aaa4b762e10\n",
            "Successfully built mpi4py\n",
            "Installing collected packages: mpi4py\n",
            "Successfully installed mpi4py-3.1.6\n",
            "Collecting http://github.com/dedalusproject/dedalus/zipball/master/\n",
            "  Downloading http://github.com/dedalusproject/dedalus/zipball/master/\n",
            "\u001b[2K     \u001b[32m|\u001b[0m \u001b[32m24.5 MB\u001b[0m \u001b[31m24.3 MB/s\u001b[0m \u001b[33m0:00:00\u001b[0m\n",
            "\u001b[?25h  Preparing metadata (pyproject.toml) ... \u001b[?25l\u001b[?25hdone\n",
            "Collecting docopt (from dedalus==3.0.3)\n",
            "  Downloading docopt-0.6.2.tar.gz (25 kB)\n",
            "  Preparing metadata (setup.py) ... \u001b[?25l\u001b[?25hdone\n",
            "Requirement already satisfied: h5py>=3.0.0 in /usr/local/lib/python3.10/dist-packages (from dedalus==3.0.3) (3.12.1)\n",
            "Requirement already satisfied: matplotlib in /usr/local/lib/python3.10/dist-packages (from dedalus==3.0.3) (3.8.0)\n",
            "Requirement already satisfied: mpi4py>=2.0.0 in /usr/local/lib/python3.10/dist-packages (from dedalus==3.0.3) (3.1.6)\n",
            "Requirement already satisfied: numexpr in /usr/local/lib/python3.10/dist-packages (from dedalus==3.0.3) (2.10.1)\n",
            "Requirement already satisfied: numpy>=1.20.0 in /usr/local/lib/python3.10/dist-packages (from dedalus==3.0.3) (1.26.4)\n",
            "Collecting py (from dedalus==3.0.3)\n",
            "  Downloading py-1.11.0-py2.py3-none-any.whl.metadata (2.8 kB)\n",
            "Requirement already satisfied: pytest in /usr/local/lib/python3.10/dist-packages (from dedalus==3.0.3) (7.4.4)\n",
            "Collecting pytest-benchmark (from dedalus==3.0.3)\n",
            "  Downloading pytest_benchmark-5.1.0-py3-none-any.whl.metadata (25 kB)\n",
            "Collecting pytest-cov (from dedalus==3.0.3)\n",
            "  Downloading pytest_cov-6.0.0-py3-none-any.whl.metadata (27 kB)\n",
            "Collecting pytest-parallel (from dedalus==3.0.3)\n",
            "  Downloading pytest_parallel-0.1.1-py3-none-any.whl.metadata (3.0 kB)\n",
            "Requirement already satisfied: scipy>=1.4.0 in /usr/local/lib/python3.10/dist-packages (from dedalus==3.0.3) (1.13.1)\n",
            "Requirement already satisfied: xarray in /usr/local/lib/python3.10/dist-packages (from dedalus==3.0.3) (2024.10.0)\n",
            "Requirement already satisfied: contourpy>=1.0.1 in /usr/local/lib/python3.10/dist-packages (from matplotlib->dedalus==3.0.3) (1.3.0)\n",
            "Requirement already satisfied: cycler>=0.10 in /usr/local/lib/python3.10/dist-packages (from matplotlib->dedalus==3.0.3) (0.12.1)\n",
            "Requirement already satisfied: fonttools>=4.22.0 in /usr/local/lib/python3.10/dist-packages (from matplotlib->dedalus==3.0.3) (4.54.1)\n",
            "Requirement already satisfied: kiwisolver>=1.0.1 in /usr/local/lib/python3.10/dist-packages (from matplotlib->dedalus==3.0.3) (1.4.7)\n",
            "Requirement already satisfied: packaging>=20.0 in /usr/local/lib/python3.10/dist-packages (from matplotlib->dedalus==3.0.3) (24.1)\n",
            "Requirement already satisfied: pillow>=6.2.0 in /usr/local/lib/python3.10/dist-packages (from matplotlib->dedalus==3.0.3) (10.4.0)\n",
            "Requirement already satisfied: pyparsing>=2.3.1 in /usr/local/lib/python3.10/dist-packages (from matplotlib->dedalus==3.0.3) (3.2.0)\n",
            "Requirement already satisfied: python-dateutil>=2.7 in /usr/local/lib/python3.10/dist-packages (from matplotlib->dedalus==3.0.3) (2.8.2)\n",
            "Requirement already satisfied: iniconfig in /usr/local/lib/python3.10/dist-packages (from pytest->dedalus==3.0.3) (2.0.0)\n",
            "Requirement already satisfied: pluggy<2.0,>=0.12 in /usr/local/lib/python3.10/dist-packages (from pytest->dedalus==3.0.3) (1.5.0)\n",
            "Requirement already satisfied: exceptiongroup>=1.0.0rc8 in /usr/local/lib/python3.10/dist-packages (from pytest->dedalus==3.0.3) (1.2.2)\n",
            "Requirement already satisfied: tomli>=1.0.0 in /usr/local/lib/python3.10/dist-packages (from pytest->dedalus==3.0.3) (2.0.2)\n",
            "Collecting pytest (from dedalus==3.0.3)\n",
            "  Downloading pytest-8.3.3-py3-none-any.whl.metadata (7.5 kB)\n",
            "Requirement already satisfied: py-cpuinfo in /usr/local/lib/python3.10/dist-packages (from pytest-benchmark->dedalus==3.0.3) (9.0.0)\n",
            "Collecting coverage>=7.5 (from coverage[toml]>=7.5->pytest-cov->dedalus==3.0.3)\n",
            "  Downloading coverage-7.6.4-cp310-cp310-manylinux_2_5_x86_64.manylinux1_x86_64.manylinux_2_17_x86_64.manylinux2014_x86_64.whl.metadata (8.2 kB)\n",
            "Collecting tblib (from pytest-parallel->dedalus==3.0.3)\n",
            "  Downloading tblib-3.0.0-py3-none-any.whl.metadata (25 kB)\n",
            "Requirement already satisfied: pandas>=2.1 in /usr/local/lib/python3.10/dist-packages (from xarray->dedalus==3.0.3) (2.2.2)\n",
            "Requirement already satisfied: pytz>=2020.1 in /usr/local/lib/python3.10/dist-packages (from pandas>=2.1->xarray->dedalus==3.0.3) (2024.2)\n",
            "Requirement already satisfied: tzdata>=2022.7 in /usr/local/lib/python3.10/dist-packages (from pandas>=2.1->xarray->dedalus==3.0.3) (2024.2)\n",
            "Requirement already satisfied: six>=1.5 in /usr/local/lib/python3.10/dist-packages (from python-dateutil>=2.7->matplotlib->dedalus==3.0.3) (1.16.0)\n",
            "Downloading py-1.11.0-py2.py3-none-any.whl (98 kB)\n",
            "\u001b[2K   \u001b[90m━━━━━━━━━━━━━━━━━━━━━━━━━━━━━━━━━━━━━━━━\u001b[0m \u001b[32m98.7/98.7 kB\u001b[0m \u001b[31m12.8 MB/s\u001b[0m eta \u001b[36m0:00:00\u001b[0m\n",
            "\u001b[?25hDownloading pytest_benchmark-5.1.0-py3-none-any.whl (44 kB)\n",
            "\u001b[2K   \u001b[90m━━━━━━━━━━━━━━━━━━━━━━━━━━━━━━━━━━━━━━━━\u001b[0m \u001b[32m44.3/44.3 kB\u001b[0m \u001b[31m168.0 MB/s\u001b[0m eta \u001b[36m0:00:00\u001b[0m\n",
            "\u001b[?25hDownloading pytest-8.3.3-py3-none-any.whl (342 kB)\n",
            "\u001b[2K   \u001b[90m━━━━━━━━━━━━━━━━━━━━━━━━━━━━━━━━━━━━━━━━\u001b[0m \u001b[32m342.3/342.3 kB\u001b[0m \u001b[31m26.7 MB/s\u001b[0m eta \u001b[36m0:00:00\u001b[0m\n",
            "\u001b[?25hDownloading pytest_cov-6.0.0-py3-none-any.whl (22 kB)\n",
            "Downloading pytest_parallel-0.1.1-py3-none-any.whl (7.0 kB)\n",
            "Downloading coverage-7.6.4-cp310-cp310-manylinux_2_5_x86_64.manylinux1_x86_64.manylinux_2_17_x86_64.manylinux2014_x86_64.whl (234 kB)\n",
            "\u001b[2K   \u001b[90m━━━━━━━━━━━━━━━━━━━━━━━━━━━━━━━━━━━━━━━━\u001b[0m \u001b[32m234.6/234.6 kB\u001b[0m \u001b[31m209.2 MB/s\u001b[0m eta \u001b[36m0:00:00\u001b[0m\n",
            "\u001b[?25hDownloading tblib-3.0.0-py3-none-any.whl (12 kB)\n",
            "Building wheels for collected packages: dedalus, docopt\n",
            "  Building wheel for dedalus (pyproject.toml) ... \u001b[?25l\u001b[?25hdone\n",
            "  Created wheel for dedalus: filename=dedalus-3.0.3-cp310-cp310-linux_x86_64.whl size=3261295 sha256=226c0c96d97ac237c9a3b9c87e1bab6dbb38b3922cb6f1f84f411145542fdd2b\n",
            "  Stored in directory: /tmp/pip-ephem-wheel-cache-ji6ial75/wheels/2c/16/80/8c5f40fc4de8dc37ba4cdd4e05d7639677a5f0659c3bbd79a7\n",
            "  Building wheel for docopt (setup.py) ... \u001b[?25l\u001b[?25hdone\n",
            "  Created wheel for docopt: filename=docopt-0.6.2-py2.py3-none-any.whl size=13706 sha256=21171aec514f85d0d212accebbbb99c8db3407f07d8a4e607f109f6a4c444d1c\n",
            "  Stored in directory: /tmp/pip-ephem-wheel-cache-ji6ial75/wheels/fc/ab/d4/5da2067ac95b36618c629a5f93f809425700506f72c9732fac\n",
            "Successfully built dedalus docopt\n",
            "Installing collected packages: docopt, tblib, pytest, py, coverage, pytest-parallel, pytest-benchmark, pytest-cov, dedalus\n",
            "  Attempting uninstall: pytest\n",
            "    Found existing installation: pytest 7.4.4\n",
            "    Uninstalling pytest-7.4.4:\n",
            "      Successfully uninstalled pytest-7.4.4\n",
            "Successfully installed coverage-7.6.4 dedalus-3.0.3 docopt-0.6.2 py-1.11.0 pytest-8.3.3 pytest-benchmark-5.1.0 pytest-cov-6.0.0 pytest-parallel-0.1.1 tblib-3.0.0\n",
            "\u001b[2K   \u001b[90m━━━━━━━━━━━━━━━━━━━━━━━━━━━━━━━━━━━━━━━━\u001b[0m \u001b[32m516.3/516.3 kB\u001b[0m \u001b[31m9.9 MB/s\u001b[0m eta \u001b[36m0:00:00\u001b[0m\n",
            "\u001b[2K   \u001b[90m━━━━━━━━━━━━━━━━━━━━━━━━━━━━━━━━━━━━━━━━\u001b[0m \u001b[32m1.6/1.6 MB\u001b[0m \u001b[31m47.9 MB/s\u001b[0m eta \u001b[36m0:00:00\u001b[0m\n",
            "\u001b[?25h\n",
            "Dedalus successfully installed :)\n"
          ]
        }
      ],
      "source": [
        "# Set environment variables for best performance\n",
        "%env OMP_NUM_THREADS=1\n",
        "%env NUMEXPR_MAX_THREADS=1\n",
        "\n",
        "# Minimize logging output\n",
        "import logging\n",
        "logging.disable(logging.DEBUG)\n",
        "\n",
        "# Check if running on google colab\n",
        "import os\n",
        "using_google_colab = bool(os.getenv(\"COLAB_RELEASE_TAG\"))\n",
        "\n",
        "# Check for Dedalus\n",
        "try:\n",
        "    import dedalus.public as de\n",
        "    print(\"Dedalus already installed :)\")\n",
        "except:\n",
        "    print(\"Dedalus not installed yet.\")\n",
        "    if using_google_colab:\n",
        "        print(\"Installing for Google Colab.\")\n",
        "        print()\n",
        "        # Step 1: Install FFTW\n",
        "        !apt-get install libfftw3-dev\n",
        "        !apt-get install libfftw3-mpi-dev\n",
        "        # Step 2: Set paths for Dedalus installation\n",
        "        import os\n",
        "        os.environ['MPI_INCLUDE_PATH'] = \"/usr/lib/x86_64-linux-gnu/openmpi/include\"\n",
        "        os.environ['MPI_LIBRARY_PATH'] = \"/usr/lib/x86_64-linux-gnu\"\n",
        "        os.environ['FFTW_INCLUDE_PATH'] = \"/usr/include\"\n",
        "        os.environ['FFTW_LIBRARY_PATH'] = \"/usr/lib/x86_64-linux-gnu\"\n",
        "        # Step 3: Install Dedalus using pip\n",
        "        !pip3 install cython \"mpi4py<4.0\" numpy setuptools wheel\n",
        "        !CC=mpicc pip3 install --no-cache --no-build-isolation http://github.com/dedalusproject/dedalus/zipball/master/\n",
        "        !pip3 install -q ipympl\n",
        "        # Step 4: Check installation\n",
        "        print()\n",
        "        try:\n",
        "            import dedalus.public as de\n",
        "            print(\"Dedalus successfully installed :)\")\n",
        "        except:\n",
        "            print(\"Error installing Dedalus :(\")\n",
        "            raise\n",
        "    else:\n",
        "        print(\"See website for installation instructions:\")\n",
        "        print(\"https://dedalus-project.readthedocs.io/en/latest/pages/installation.html\")\n",
        "\n",
        "# Setup interactive matplotlib\n",
        "if using_google_colab:\n",
        "    from google.colab import output\n",
        "    output.enable_custom_widget_manager()"
      ]
    },
    {
      "cell_type": "markdown",
      "metadata": {
        "id": "bG90IO4KPj1G"
      },
      "source": [
        "## 1. Thermal structure in the ocean\n",
        "\n",
        "Most of the ocean has a stable thermal stratification with warm water at the surface and cold water in the abyss (exceptions occur in salt-stratified waters like the Arctic Ocean). Since the ocean is a massive thermal reservoir, understanding the distribution of this heat is important to quantifying the ocean's role in a changing climate. The structure of the temperature field can also inform us about the circulation in the ocean interior.\n"
      ]
    },
    {
      "cell_type": "markdown",
      "metadata": {
        "id": "9dJadMlcPj1H"
      },
      "source": [
        "### 1.1 Measured temperature profile\n",
        "\n",
        "The code below plots a sample temperature profile obtained off the coast of California. The data was obtained by digitizing Figure 3 in Munk, 1966."
      ]
    },
    {
      "cell_type": "code",
      "execution_count": 2,
      "metadata": {
        "id": "n6pFPg1aPj1H",
        "outputId": "4cc774d7-98b6-49ed-8d87-1fbf65749767",
        "colab": {
          "base_uri": "https://localhost:8080/",
          "height": 467
        }
      },
      "outputs": [
        {
          "output_type": "execute_result",
          "data": {
            "text/plain": [
              "Text(0, 0.5, 'Depth (m)')"
            ]
          },
          "metadata": {},
          "execution_count": 2
        },
        {
          "output_type": "display_data",
          "data": {
            "text/plain": [
              "<Figure size 640x480 with 1 Axes>"
            ],
            "image/png": "[encoded data removed]"
          },
          "metadata": {}
        }
      ],
      "source": [
        "import matplotlib.pyplot as plt\n",
        "\n",
        "# Temperature measurements extracted from Figure 3 in Munk, 1966\n",
        "CTD_T = [1.1296296296296295, 1.122004357298475, 1.1143790849673203, 1.1067538126361656, 1.1143790849673203, 1.1143790849673203, 1.1372549019607843, 1.122004357298475, 1.1372549019607843, 1.1525054466230937, 1.2287581699346406, 1.2745098039215685, 1.343137254901961, 1.4041394335511983, 1.526143790849673, 1.6405228758169934, 1.8997821350762527, 2.242919389978214, 2.69281045751634, 3.104575163398693, 3.104575163398693, 3.218954248366013, 3.4324618736383443, 3.8289760348583877, 4.042483660130719, 4.438997821350762]\n",
        "CTD_z = [-4976.958525345623, -4869.431643625192, -4677.419354838709, -4470.046082949309, -4270.353302611367, -4070.6605222734256, -3932.411674347158, -3786.4823348694317, -3586.78955453149, -3394.7772657450078, -3195.084485407066, -2995.3917050691243, -2803.379416282642, -2580.6451612903224, -2350.230414746544, -2112.1351766513058, -1843.3179723502303, -1597.5422427035332, -1344.0860215053763, -1144.3932411674346, -1144.3932411674346, -1121.351766513057, -990.7834101382491, -821.8125960061443, -698.9247311827958, -583.7173579109067]\n",
        "\n",
        "plt.scatter(CTD_T,CTD_z,s=10)\n",
        "plt.xlabel('T (ºC)')\n",
        "plt.ylabel('Depth (m)')\n"
      ]
    },
    {
      "cell_type": "markdown",
      "metadata": {
        "id": "oUaM9dpePj1I"
      },
      "source": [
        "### 1.2 Abyssal recipes\n",
        "\n",
        "Munk (1966) proposed that the thermal structure of the ocean interior is set by a balance between upwelling and diffusion. In this view, cold waters sink near the poles and spread across the seafloor before slowly rising through the ocean interior. If we assume, as Munk did, that the water upwells uniformly across the globe, the upwelling speed is approximately $10^{-7}$ m/s. This is far too small to directly measure, but it is large enough to have a major impact on the distribution of tracers. Since light can only penetrate through the top ~100m of ocean, we can ignore solar heating, except in that it sets the temperature near the ocean surface."
      ]
    },
    {
      "cell_type": "markdown",
      "metadata": {
        "id": "daTG6KraPj1I"
      },
      "source": [
        "### 1.3 Steady advection/diffusion equation\n",
        "\n",
        "Dedalus can solve differential equations in various forms. In addition to time-dependent initial value problems (IVPs), Dedalus can solve linear and nonlinear boundary value problems. The code below uses Dedalus to solve a linear boundary value problem (IVBP) for the steady state advection/diffusion equation.\n",
        "\n",
        "Here, the top and bottom temperature are set from the measured profile and these are used as boundary conditions. The vertical (upwelling) velocity is set to $10^{-7} m/s$, and the diffusivity is set to $10^{-7}$ $m^2/s$, to approximate the molecular diffusivity of heat in seawater."
      ]
    },
    {
      "cell_type": "code",
      "execution_count": 24,
      "metadata": {
        "id": "s6o7sw93Pj1J",
        "outputId": "c3477bad-a4ab-4f53-f4fd-71101c1374f8",
        "colab": {
          "base_uri": "https://localhost:8080/",
          "height": 442
        }
      },
      "outputs": [
        {
          "output_type": "stream",
          "name": "stderr",
          "text": [
            "INFO:subsystems:Building subproblem matrices 1/1 (~100%) Elapsed: 0s, Remaining: 0s, Rate: 1.3e+01/s\n"
          ]
        },
        {
          "output_type": "stream",
          "name": "stdout",
          "text": [
            "2024-11-07 11:45:59,982 subsystems 0/1 INFO :: Building subproblem matrices 1/1 (~100%) Elapsed: 0s, Remaining: 0s, Rate: 1.3e+01/s\n"
          ]
        },
        {
          "output_type": "execute_result",
          "data": {
            "text/plain": [
              "Text(0, 0.5, 'Depth (m)')"
            ]
          },
          "metadata": {},
          "execution_count": 24
        },
        {
          "output_type": "display_data",
          "data": {
            "text/plain": [
              "<Figure size 600x400 with 1 Axes>"
            ],
            "image/png": "[encoded data removed]"
          },
          "metadata": {}
        }
      ],
      "source": [
        "\"\"\"\n",
        "Dedalus script to solve the steady advection/diffusion equation\n",
        "\"\"\"\n",
        "\n",
        "import numpy as np\n",
        "import matplotlib.pyplot as plt\n",
        "import dedalus.public as d3\n",
        "import logging\n",
        "logger = logging.getLogger(__name__)\n",
        "\n",
        "# Set various parameters. Note that the depth and the top and bottom temperature\n",
        "# are taken from the CTD data in the code cell above. That cell must be run first to define CTD_T and CTD_z.\n",
        "z_surface = CTD_z[-1]\n",
        "z_bottom = CTD_z[0]\n",
        "T_surface = CTD_T[-1]\n",
        "T_bottom = CTD_T[0]\n",
        "Nz = 1000\n",
        "\n",
        "# Set the upwelling velocity\n",
        "w = 1e-7 # m/s\n",
        "# Set the diffusivity\n",
        "kappa=0.86*1e-4 # m^2/s\n",
        "\n",
        "# Bases\n",
        "zcoord = d3.Coordinate('z')\n",
        "dist = d3.Distributor(zcoord, dtype=np.float64)\n",
        "zbasis = d3.Chebyshev(zcoord, size=Nz, bounds=(z_bottom, z_surface))\n",
        "z = dist.local_grid(zbasis)\n",
        "\n",
        "# Fields\n",
        "T = dist.Field(name='T', bases=zbasis)\n",
        "\n",
        "# Add two tau variables to allow us to apply two boundary conditions\n",
        "tau_1 = dist.Field(name='tau_1')\n",
        "tau_2 = dist.Field(name='tau_2')\n",
        "lift_basis = zbasis.derivative_basis(1)\n",
        "lift = lambda A: d3.Lift(A, lift_basis, -1)\n",
        "\n",
        "# Substitutions\n",
        "dz = lambda A: d3.Differentiate(A, zcoord)\n",
        "Tz = dz(T) + lift(tau_1)\n",
        "Tzz = dz(Tz) + lift(tau_2)\n",
        "\n",
        "# Problem\n",
        "problem = d3.LBVP([T, tau_1, tau_2], namespace=locals())\n",
        "problem.add_equation(\"w*Tz - kappa*Tzz = 0\")\n",
        "problem.add_equation(\"T(z=z_surface) = T_surface\")\n",
        "problem.add_equation(\"T(z=z_bottom) = T_bottom\")\n",
        "\n",
        "# Solver\n",
        "solver = problem.build_solver()\n",
        "solver.solve()\n",
        "\n",
        "# Plot\n",
        "plt.figure(figsize=(6, 4))\n",
        "Tg=T['g']\n",
        "plt.scatter(CTD_T,CTD_z,s=10)\n",
        "plt.plot(Tg,z,'k')\n",
        "plt.xlabel('Temperature (ºC)')\n",
        "plt.ylabel('Depth (m)')"
      ]
    },
    {
      "cell_type": "markdown",
      "metadata": {
        "id": "b4l4aSeCPj1J"
      },
      "source": [
        "### 1.4 Student investigation\n",
        "<a id='section1pt4'></a>\n",
        "Note that the profile above is not a good fit to the data. This implies that molecular diffusion isn't sufficient to transport heat down from the surface and stop the ocean from filling up with cold, dense water.\n",
        "\n",
        "Munk (1966) proposed that small-scale turbulence in the ocean interior results in a diffusivity that is orders of magnitude larger than the molecular value. Find a diffusivity that gives a good match with the data and test it in the Dedalus script above. Comment on the ability of this model (steady advection/diffusion) to fit the data."
      ]
    },
    {
      "cell_type": "markdown",
      "metadata": {
        "id": "5-Ec93NhPj1J"
      },
      "source": [
        "Changing kappa manually, I found out that kappa = 0.86 * 10^-4 almost match with the data. Using dimensional analysis, can find out that kappa is of the same order as z*w, where w is about 10^-7 m^2/s and z is of order 10^3 m according to the initial condtions of the steady advection/diffusion equation, so that kappa is of order 10^-4, which matches the result obtained manually above.\n"
      ]
    },
    {
      "cell_type": "markdown",
      "metadata": {
        "id": "78ZoYI7oPj1K"
      },
      "source": [
        "### 1.5 Turning ocean mixing upside down\n",
        "\n",
        "Decades of research to measure the turbulent diffusivity in the ocean consistently found values much smaller than the one predicted by Munk (1966). Specifically, while larger values of the turbulent diffusivity were found near the bottom of the ocean over rough topographic features, the values in the upper ocean were about 10x smaller than the values predicted by Munk. 50 years after Munk's seminal paper, Ferrari et al. (2016) proposed that a depth-dependent turbulent diffusivity could be balanced by <em>downwelling</em>, with negative vertical velocities in the ocean interior. In this theory, the overturning circulation is upwelling in thin boundary layers along the sloping sides of the ocean basins.\n",
        "\n",
        "When the diffusivity, $\\kappa$, is a function of $z$, the steady advection/diffusion equation can be written\n",
        "\n",
        "$$ w\\frac{dT}{dz} = \\frac{d}{dz}\\left(\\kappa(z) \\frac{dT}{dz}\\right)$$\n",
        "\n",
        "The Dedalus script below solves the previous equation and again compares the results with the observed temperature profile. For the depth-dependent diffusivity, $\\kappa(z)$, we take\n",
        "\n",
        "$$ \\kappa(z)=\\kappa_{bg} + (\\kappa_0-\\kappa_{bg})e^{-(z+D)/l} $$\n",
        "\n",
        "using the form from Rogers et al., 2023, where $\\kappa_{bg}=1\\times 10^{-5} m^2/s$ is the background diffusivity characteristic of the upper water column, $\\kappa_0=8.6\\times 10^{-4} m^2/s$ characterizes the enhanced mixing near the bottom of the ocean, $D$ is a reference depth where $\\kappa=\\kappa_0$, and $l=667m$ is an exponential decay scale. In the script below, we start with $w=0$."
      ]
    },
    {
      "cell_type": "code",
      "execution_count": 25,
      "metadata": {
        "id": "e3WeEJnnPj1K",
        "outputId": "7e9bbec7-304f-40aa-c2c8-241f16971ece",
        "colab": {
          "base_uri": "https://localhost:8080/",
          "height": 442
        }
      },
      "outputs": [
        {
          "output_type": "stream",
          "name": "stderr",
          "text": [
            "INFO:subsystems:Building subproblem matrices 1/1 (~100%) Elapsed: 0s, Remaining: 0s, Rate: 2.1e+00/s\n"
          ]
        },
        {
          "output_type": "stream",
          "name": "stdout",
          "text": [
            "2024-11-07 11:46:18,793 subsystems 0/1 INFO :: Building subproblem matrices 1/1 (~100%) Elapsed: 0s, Remaining: 0s, Rate: 2.1e+00/s\n"
          ]
        },
        {
          "output_type": "execute_result",
          "data": {
            "text/plain": [
              "Text(0, 0.5, 'Depth (m)')"
            ]
          },
          "metadata": {},
          "execution_count": 25
        },
        {
          "output_type": "display_data",
          "data": {
            "text/plain": [
              "<Figure size 600x400 with 1 Axes>"
            ],
            "image/png": "[encoded data removed]"
          },
          "metadata": {}
        }
      ],
      "source": [
        "\"\"\"\n",
        "Dedalus script to solve the steady advection/diffusion equation\n",
        "with a spatially-variable diffusivity\n",
        "\"\"\"\n",
        "\n",
        "import numpy as np\n",
        "import matplotlib.pyplot as plt\n",
        "import dedalus.public as d3\n",
        "import logging\n",
        "logger = logging.getLogger(__name__)\n",
        "\n",
        "# Set various parameters. Note that the depth and the top and bottom temperature\n",
        "# are taken from the CTD data in the code cell above. That cell must be run first to define CTD_T and CTD_z.\n",
        "z_surface = CTD_z[-1]\n",
        "z_bottom = CTD_z[0]\n",
        "T_surface = CTD_T[-1]\n",
        "T_bottom = CTD_T[0]\n",
        "Nz = 1000\n",
        "\n",
        "# Set the vertical velocity\n",
        "w = 0.75*1e-8 # m/s\n",
        "\n",
        "# Bases\n",
        "zcoord = d3.Coordinate('z')\n",
        "dist = d3.Distributor(zcoord, dtype=np.float64)\n",
        "zbasis = d3.Chebyshev(zcoord, size=Nz, bounds=(z_bottom, z_surface))\n",
        "z = dist.local_grid(zbasis)\n",
        "\n",
        "# Fields\n",
        "T = dist.Field(name='T', bases=zbasis)\n",
        "kappa = dist.Field(name='kappa', bases=zbasis)\n",
        "# Set the diffusivity\n",
        "# Below is the diffusivity profile from Rogers et al., 2023\n",
        "kappa['g']=1e-5 + (8.6e-4-1e-5)*np.exp((-5e3-z)/667) # m^2/s\n",
        "\n",
        "# Add two tau variables to allow us to apply two boundary conditions\n",
        "tau_1 = dist.Field(name='tau_1')\n",
        "tau_2 = dist.Field(name='tau_2')\n",
        "lift_basis = zbasis.derivative_basis(1)\n",
        "lift = lambda A: d3.Lift(A, lift_basis, -1)\n",
        "\n",
        "# Substitutions\n",
        "dz = lambda A: d3.Differentiate(A, zcoord)\n",
        "Tz = dz(T) + lift(tau_1)\n",
        "Tzz = dz(Tz) + lift(tau_2)\n",
        "\n",
        "# Problem\n",
        "problem = d3.LBVP([T, tau_1, tau_2], namespace=locals())\n",
        "problem.add_equation(\"w*Tz - dz(kappa*Tz) + lift(tau_2) = 0\")\n",
        "problem.add_equation(\"T(z=z_surface) = T_surface\")\n",
        "problem.add_equation(\"T(z=z_bottom) = T_bottom\")\n",
        "\n",
        "# Solver\n",
        "solver = problem.build_solver()\n",
        "solver.solve()\n",
        "\n",
        "# Plot\n",
        "plt.figure(figsize=(6, 4))\n",
        "Tg=T['g']\n",
        "plt.scatter(CTD_T,CTD_z,s=10)\n",
        "plt.plot(Tg,z,'k')\n",
        "plt.xlabel('Temperature (ºC)')\n",
        "plt.ylabel('Depth (m)')"
      ]
    },
    {
      "cell_type": "markdown",
      "metadata": {
        "id": "5yMu0osQPj1K"
      },
      "source": [
        "### 1.6 Student investigation\n",
        "<a id='section1pt6'></a>\n",
        "Note from the results of the script above that the density profile is reasonable, even though $w=0$. In the box below, comment on the balance in this case and what this implies about the diffusive heat flux.\n",
        "\n",
        "Next, find a vertical velocity that produces a better agreement with the observations and report it below. Then, try varying the details of the $\\kappa(z)$ profile. How sensitive is the optimal $w$ to your choice of $\\kappa(z)$? What does this imply about the circulation in the ocean interior if $\\kappa(z)$ varies between regions of smooth and rough topography?\n",
        "\n",
        "(As an aside, note that the requied vertical velocity is much smaller than the one used by Munk (1966). This implies that the dense, cold water that sinks at the poles must rise elsewhere. Ferrari et al. (2016) proposed that this occurs in boundary layers near the seafloor.)"
      ]
    },
    {
      "cell_type": "markdown",
      "metadata": {
        "id": "936K4wYjPj1K"
      },
      "source": [
        "For w=0, the diffusive heat flux kappa*dT/dz is independent of z. Also, for this equation we need z to be of the same order as l.\n",
        "\n",
        "Manually choosing a non-zero vertical velocity: w=0.7*10^-8, which works much better than w=0. Since in the equation of kappa, at reference depth z=-D, kappa(z=-D)=kappa_0, z is defined to be negative. This means that a positive w in this case gives a downwelling velocity.\n",
        "\n",
        "optimal w reacts sensitively to changes in background diffusivity: double the background diffusivity results in w also being doubled. So if kappa varies between regions of smooth and rough topography, the diffusion of heat varies in different topographies in order to balance the downwelling velocity."
      ]
    },
    {
      "cell_type": "markdown",
      "metadata": {
        "id": "heuOIC-7Pj1K"
      },
      "source": [
        "## 2. Transport of pollution in a river\n",
        "\n",
        "Advection/diffusion equations are a common way to model the material transport in many physical systems. In this section we will model the transport and dilution of a pollutants added to a river.\n",
        "\n",
        "For simplicity, we will model the river as a rectangular channel, and we will neglect depth variations. Let $x$ be the coordinate along the length of the river, and $y$ be the cross-stream coordinate. We will model the river current as\n",
        "\n",
        "$$ u(y) = U_0\\left(1-\\frac{(y-w/2)^2}{(w/2)^2}\\right) $$\n",
        "\n",
        "where $w$ is the width of the river and $U_0$ is the maximum current speed which occurs at the center of the river (the $y$-coordinate will run from 0 to $w$).\n",
        "\n",
        "Since we want to know how the pollution levels vary in time, we will solve the time-dependent advection/diffusion equation. We will model the addition of pollution by adding a spatially-dependent source term to the right hand side of the equation governing pollutant concentration:\n",
        "\n",
        "$$ \\frac{\\partial c}{\\partial t} + u(y)\\frac{\\partial c}{\\partial x} = \\kappa \\nabla^2 c + S(x,y) $$\n",
        "\n",
        "where $\\nabla^2=(\\partial_x^2 + \\partial_y^2)$ is the Laplacian operator for diffusion in 2D Cartesian coordinates, and $S$ is the source term."
      ]
    },
    {
      "cell_type": "markdown",
      "metadata": {
        "id": "o7twyPzsPj1K"
      },
      "source": [
        "### 2.1 Dedalus script\n",
        "\n",
        "The script below solves the time-dependent advection/diffusion equation with a source term."
      ]
    },
    {
      "cell_type": "code",
      "execution_count": 66,
      "metadata": {
        "id": "orcx29DzPj1L",
        "outputId": "7920f3b6-7567-45f0-8ce3-8abbd83ca5e2",
        "colab": {
          "base_uri": "https://localhost:8080/"
        }
      },
      "outputs": [
        {
          "output_type": "stream",
          "name": "stderr",
          "text": [
            "INFO:subsystems:Building subproblem matrices 1/1 (~100%) Elapsed: 0s, Remaining: 0s, Rate: 4.0e+00/s\n"
          ]
        },
        {
          "output_type": "stream",
          "name": "stdout",
          "text": [
            "2024-11-07 12:56:03,698 subsystems 0/1 INFO :: Building subproblem matrices 1/1 (~100%) Elapsed: 0s, Remaining: 0s, Rate: 4.0e+00/s\n"
          ]
        },
        {
          "output_type": "stream",
          "name": "stderr",
          "text": [
            "INFO:__main__:Starting main loop\n"
          ]
        },
        {
          "output_type": "stream",
          "name": "stdout",
          "text": [
            "2024-11-07 12:56:03,708 __main__ 0/1 INFO :: Starting main loop\n"
          ]
        },
        {
          "output_type": "stream",
          "name": "stderr",
          "text": [
            "INFO:__main__:Iteration=1, Time=1.953125e+00, dt=1.953125e+00\n"
          ]
        },
        {
          "output_type": "stream",
          "name": "stdout",
          "text": [
            "2024-11-07 12:56:03,747 __main__ 0/1 INFO :: Iteration=1, Time=1.953125e+00, dt=1.953125e+00\n"
          ]
        },
        {
          "output_type": "stream",
          "name": "stderr",
          "text": [
            "INFO:__main__:Iteration=11, Time=2.148438e+01, dt=1.953125e+00\n"
          ]
        },
        {
          "output_type": "stream",
          "name": "stdout",
          "text": [
            "2024-11-07 12:56:03,780 __main__ 0/1 INFO :: Iteration=11, Time=2.148438e+01, dt=1.953125e+00\n"
          ]
        },
        {
          "output_type": "stream",
          "name": "stderr",
          "text": [
            "INFO:__main__:Iteration=21, Time=4.101562e+01, dt=1.953125e+00\n"
          ]
        },
        {
          "output_type": "stream",
          "name": "stdout",
          "text": [
            "2024-11-07 12:56:03,812 __main__ 0/1 INFO :: Iteration=21, Time=4.101562e+01, dt=1.953125e+00\n"
          ]
        },
        {
          "output_type": "stream",
          "name": "stderr",
          "text": [
            "INFO:__main__:Iteration=31, Time=6.054688e+01, dt=1.953125e+00\n"
          ]
        },
        {
          "output_type": "stream",
          "name": "stdout",
          "text": [
            "2024-11-07 12:56:03,843 __main__ 0/1 INFO :: Iteration=31, Time=6.054688e+01, dt=1.953125e+00\n"
          ]
        },
        {
          "output_type": "stream",
          "name": "stderr",
          "text": [
            "INFO:__main__:Iteration=41, Time=8.007812e+01, dt=1.953125e+00\n"
          ]
        },
        {
          "output_type": "stream",
          "name": "stdout",
          "text": [
            "2024-11-07 12:56:03,873 __main__ 0/1 INFO :: Iteration=41, Time=8.007812e+01, dt=1.953125e+00\n"
          ]
        },
        {
          "output_type": "stream",
          "name": "stderr",
          "text": [
            "INFO:__main__:Iteration=51, Time=9.960938e+01, dt=1.953125e+00\n"
          ]
        },
        {
          "output_type": "stream",
          "name": "stdout",
          "text": [
            "2024-11-07 12:56:03,903 __main__ 0/1 INFO :: Iteration=51, Time=9.960938e+01, dt=1.953125e+00\n"
          ]
        },
        {
          "output_type": "stream",
          "name": "stderr",
          "text": [
            "INFO:__main__:Iteration=61, Time=1.191406e+02, dt=1.953125e+00\n"
          ]
        },
        {
          "output_type": "stream",
          "name": "stdout",
          "text": [
            "2024-11-07 12:56:03,932 __main__ 0/1 INFO :: Iteration=61, Time=1.191406e+02, dt=1.953125e+00\n"
          ]
        },
        {
          "output_type": "stream",
          "name": "stderr",
          "text": [
            "INFO:__main__:Iteration=71, Time=1.386719e+02, dt=1.953125e+00\n"
          ]
        },
        {
          "output_type": "stream",
          "name": "stdout",
          "text": [
            "2024-11-07 12:56:03,968 __main__ 0/1 INFO :: Iteration=71, Time=1.386719e+02, dt=1.953125e+00\n"
          ]
        },
        {
          "output_type": "stream",
          "name": "stderr",
          "text": [
            "INFO:__main__:Iteration=81, Time=1.582031e+02, dt=1.953125e+00\n"
          ]
        },
        {
          "output_type": "stream",
          "name": "stdout",
          "text": [
            "2024-11-07 12:56:04,007 __main__ 0/1 INFO :: Iteration=81, Time=1.582031e+02, dt=1.953125e+00\n"
          ]
        },
        {
          "output_type": "stream",
          "name": "stderr",
          "text": [
            "INFO:__main__:Iteration=91, Time=1.777344e+02, dt=1.953125e+00\n"
          ]
        },
        {
          "output_type": "stream",
          "name": "stdout",
          "text": [
            "2024-11-07 12:56:04,046 __main__ 0/1 INFO :: Iteration=91, Time=1.777344e+02, dt=1.953125e+00\n"
          ]
        },
        {
          "output_type": "stream",
          "name": "stderr",
          "text": [
            "INFO:__main__:Iteration=101, Time=1.972656e+02, dt=1.953125e+00\n"
          ]
        },
        {
          "output_type": "stream",
          "name": "stdout",
          "text": [
            "2024-11-07 12:56:04,083 __main__ 0/1 INFO :: Iteration=101, Time=1.972656e+02, dt=1.953125e+00\n"
          ]
        },
        {
          "output_type": "stream",
          "name": "stderr",
          "text": [
            "INFO:__main__:Iteration=111, Time=2.167969e+02, dt=1.953125e+00\n"
          ]
        },
        {
          "output_type": "stream",
          "name": "stdout",
          "text": [
            "2024-11-07 12:56:04,120 __main__ 0/1 INFO :: Iteration=111, Time=2.167969e+02, dt=1.953125e+00\n"
          ]
        },
        {
          "output_type": "stream",
          "name": "stderr",
          "text": [
            "INFO:__main__:Iteration=121, Time=2.363281e+02, dt=1.953125e+00\n"
          ]
        },
        {
          "output_type": "stream",
          "name": "stdout",
          "text": [
            "2024-11-07 12:56:04,155 __main__ 0/1 INFO :: Iteration=121, Time=2.363281e+02, dt=1.953125e+00\n"
          ]
        },
        {
          "output_type": "stream",
          "name": "stderr",
          "text": [
            "INFO:__main__:Iteration=131, Time=2.558594e+02, dt=1.953125e+00\n"
          ]
        },
        {
          "output_type": "stream",
          "name": "stdout",
          "text": [
            "2024-11-07 12:56:04,188 __main__ 0/1 INFO :: Iteration=131, Time=2.558594e+02, dt=1.953125e+00\n"
          ]
        },
        {
          "output_type": "stream",
          "name": "stderr",
          "text": [
            "INFO:__main__:Iteration=141, Time=2.753906e+02, dt=1.953125e+00\n"
          ]
        },
        {
          "output_type": "stream",
          "name": "stdout",
          "text": [
            "2024-11-07 12:56:04,220 __main__ 0/1 INFO :: Iteration=141, Time=2.753906e+02, dt=1.953125e+00\n"
          ]
        },
        {
          "output_type": "stream",
          "name": "stderr",
          "text": [
            "INFO:__main__:Iteration=151, Time=2.949219e+02, dt=1.953125e+00\n"
          ]
        },
        {
          "output_type": "stream",
          "name": "stdout",
          "text": [
            "2024-11-07 12:56:04,250 __main__ 0/1 INFO :: Iteration=151, Time=2.949219e+02, dt=1.953125e+00\n"
          ]
        },
        {
          "output_type": "stream",
          "name": "stderr",
          "text": [
            "INFO:__main__:Iteration=161, Time=3.144531e+02, dt=1.953125e+00\n"
          ]
        },
        {
          "output_type": "stream",
          "name": "stdout",
          "text": [
            "2024-11-07 12:56:04,279 __main__ 0/1 INFO :: Iteration=161, Time=3.144531e+02, dt=1.953125e+00\n"
          ]
        },
        {
          "output_type": "stream",
          "name": "stderr",
          "text": [
            "INFO:__main__:Iteration=171, Time=3.339844e+02, dt=1.953125e+00\n"
          ]
        },
        {
          "output_type": "stream",
          "name": "stdout",
          "text": [
            "2024-11-07 12:56:04,308 __main__ 0/1 INFO :: Iteration=171, Time=3.339844e+02, dt=1.953125e+00\n"
          ]
        },
        {
          "output_type": "stream",
          "name": "stderr",
          "text": [
            "INFO:__main__:Iteration=181, Time=3.535156e+02, dt=1.953125e+00\n"
          ]
        },
        {
          "output_type": "stream",
          "name": "stdout",
          "text": [
            "2024-11-07 12:56:04,338 __main__ 0/1 INFO :: Iteration=181, Time=3.535156e+02, dt=1.953125e+00\n"
          ]
        },
        {
          "output_type": "stream",
          "name": "stderr",
          "text": [
            "INFO:__main__:Iteration=191, Time=3.730469e+02, dt=1.953125e+00\n"
          ]
        },
        {
          "output_type": "stream",
          "name": "stdout",
          "text": [
            "2024-11-07 12:56:04,367 __main__ 0/1 INFO :: Iteration=191, Time=3.730469e+02, dt=1.953125e+00\n"
          ]
        },
        {
          "output_type": "stream",
          "name": "stderr",
          "text": [
            "INFO:__main__:Iteration=201, Time=3.925781e+02, dt=1.953125e+00\n"
          ]
        },
        {
          "output_type": "stream",
          "name": "stdout",
          "text": [
            "2024-11-07 12:56:04,405 __main__ 0/1 INFO :: Iteration=201, Time=3.925781e+02, dt=1.953125e+00\n"
          ]
        },
        {
          "output_type": "stream",
          "name": "stderr",
          "text": [
            "INFO:__main__:Iteration=211, Time=4.121094e+02, dt=1.953125e+00\n"
          ]
        },
        {
          "output_type": "stream",
          "name": "stdout",
          "text": [
            "2024-11-07 12:56:04,436 __main__ 0/1 INFO :: Iteration=211, Time=4.121094e+02, dt=1.953125e+00\n"
          ]
        },
        {
          "output_type": "stream",
          "name": "stderr",
          "text": [
            "INFO:__main__:Iteration=221, Time=4.316406e+02, dt=1.953125e+00\n"
          ]
        },
        {
          "output_type": "stream",
          "name": "stdout",
          "text": [
            "2024-11-07 12:56:04,469 __main__ 0/1 INFO :: Iteration=221, Time=4.316406e+02, dt=1.953125e+00\n"
          ]
        },
        {
          "output_type": "stream",
          "name": "stderr",
          "text": [
            "INFO:__main__:Iteration=231, Time=4.511719e+02, dt=1.953125e+00\n"
          ]
        },
        {
          "output_type": "stream",
          "name": "stdout",
          "text": [
            "2024-11-07 12:56:04,503 __main__ 0/1 INFO :: Iteration=231, Time=4.511719e+02, dt=1.953125e+00\n"
          ]
        },
        {
          "output_type": "stream",
          "name": "stderr",
          "text": [
            "INFO:__main__:Iteration=241, Time=4.707031e+02, dt=1.953125e+00\n"
          ]
        },
        {
          "output_type": "stream",
          "name": "stdout",
          "text": [
            "2024-11-07 12:56:04,534 __main__ 0/1 INFO :: Iteration=241, Time=4.707031e+02, dt=1.953125e+00\n"
          ]
        },
        {
          "output_type": "stream",
          "name": "stderr",
          "text": [
            "INFO:__main__:Iteration=251, Time=4.902344e+02, dt=1.953125e+00\n"
          ]
        },
        {
          "output_type": "stream",
          "name": "stdout",
          "text": [
            "2024-11-07 12:56:04,576 __main__ 0/1 INFO :: Iteration=251, Time=4.902344e+02, dt=1.953125e+00\n"
          ]
        },
        {
          "output_type": "stream",
          "name": "stderr",
          "text": [
            "INFO:__main__:Iteration=261, Time=5.097656e+02, dt=1.953125e+00\n"
          ]
        },
        {
          "output_type": "stream",
          "name": "stdout",
          "text": [
            "2024-11-07 12:56:04,612 __main__ 0/1 INFO :: Iteration=261, Time=5.097656e+02, dt=1.953125e+00\n"
          ]
        },
        {
          "output_type": "stream",
          "name": "stderr",
          "text": [
            "INFO:__main__:Iteration=271, Time=5.292969e+02, dt=1.953125e+00\n"
          ]
        },
        {
          "output_type": "stream",
          "name": "stdout",
          "text": [
            "2024-11-07 12:56:04,642 __main__ 0/1 INFO :: Iteration=271, Time=5.292969e+02, dt=1.953125e+00\n"
          ]
        },
        {
          "output_type": "stream",
          "name": "stderr",
          "text": [
            "INFO:__main__:Iteration=281, Time=5.488281e+02, dt=1.953125e+00\n"
          ]
        },
        {
          "output_type": "stream",
          "name": "stdout",
          "text": [
            "2024-11-07 12:56:04,673 __main__ 0/1 INFO :: Iteration=281, Time=5.488281e+02, dt=1.953125e+00\n"
          ]
        },
        {
          "output_type": "stream",
          "name": "stderr",
          "text": [
            "INFO:__main__:Iteration=291, Time=5.683594e+02, dt=1.953125e+00\n"
          ]
        },
        {
          "output_type": "stream",
          "name": "stdout",
          "text": [
            "2024-11-07 12:56:04,702 __main__ 0/1 INFO :: Iteration=291, Time=5.683594e+02, dt=1.953125e+00\n"
          ]
        },
        {
          "output_type": "stream",
          "name": "stderr",
          "text": [
            "INFO:__main__:Iteration=301, Time=5.878906e+02, dt=1.953125e+00\n"
          ]
        },
        {
          "output_type": "stream",
          "name": "stdout",
          "text": [
            "2024-11-07 12:56:04,732 __main__ 0/1 INFO :: Iteration=301, Time=5.878906e+02, dt=1.953125e+00\n"
          ]
        },
        {
          "output_type": "stream",
          "name": "stderr",
          "text": [
            "INFO:__main__:Iteration=311, Time=6.074219e+02, dt=1.953125e+00\n"
          ]
        },
        {
          "output_type": "stream",
          "name": "stdout",
          "text": [
            "2024-11-07 12:56:04,761 __main__ 0/1 INFO :: Iteration=311, Time=6.074219e+02, dt=1.953125e+00\n"
          ]
        },
        {
          "output_type": "stream",
          "name": "stderr",
          "text": [
            "INFO:__main__:Iteration=321, Time=6.269531e+02, dt=1.953125e+00\n"
          ]
        },
        {
          "output_type": "stream",
          "name": "stdout",
          "text": [
            "2024-11-07 12:56:04,792 __main__ 0/1 INFO :: Iteration=321, Time=6.269531e+02, dt=1.953125e+00\n"
          ]
        },
        {
          "output_type": "stream",
          "name": "stderr",
          "text": [
            "INFO:__main__:Iteration=331, Time=6.464844e+02, dt=1.953125e+00\n"
          ]
        },
        {
          "output_type": "stream",
          "name": "stdout",
          "text": [
            "2024-11-07 12:56:04,825 __main__ 0/1 INFO :: Iteration=331, Time=6.464844e+02, dt=1.953125e+00\n"
          ]
        },
        {
          "output_type": "stream",
          "name": "stderr",
          "text": [
            "INFO:__main__:Iteration=341, Time=6.660156e+02, dt=1.953125e+00\n"
          ]
        },
        {
          "output_type": "stream",
          "name": "stdout",
          "text": [
            "2024-11-07 12:56:04,860 __main__ 0/1 INFO :: Iteration=341, Time=6.660156e+02, dt=1.953125e+00\n"
          ]
        },
        {
          "output_type": "stream",
          "name": "stderr",
          "text": [
            "INFO:__main__:Iteration=351, Time=6.855469e+02, dt=1.953125e+00\n"
          ]
        },
        {
          "output_type": "stream",
          "name": "stdout",
          "text": [
            "2024-11-07 12:56:04,889 __main__ 0/1 INFO :: Iteration=351, Time=6.855469e+02, dt=1.953125e+00\n"
          ]
        },
        {
          "output_type": "stream",
          "name": "stderr",
          "text": [
            "INFO:__main__:Iteration=361, Time=7.050781e+02, dt=1.953125e+00\n"
          ]
        },
        {
          "output_type": "stream",
          "name": "stdout",
          "text": [
            "2024-11-07 12:56:04,917 __main__ 0/1 INFO :: Iteration=361, Time=7.050781e+02, dt=1.953125e+00\n"
          ]
        },
        {
          "output_type": "stream",
          "name": "stderr",
          "text": [
            "INFO:__main__:Iteration=371, Time=7.246094e+02, dt=1.953125e+00\n"
          ]
        },
        {
          "output_type": "stream",
          "name": "stdout",
          "text": [
            "2024-11-07 12:56:04,946 __main__ 0/1 INFO :: Iteration=371, Time=7.246094e+02, dt=1.953125e+00\n"
          ]
        },
        {
          "output_type": "stream",
          "name": "stderr",
          "text": [
            "INFO:__main__:Iteration=381, Time=7.441406e+02, dt=1.953125e+00\n"
          ]
        },
        {
          "output_type": "stream",
          "name": "stdout",
          "text": [
            "2024-11-07 12:56:04,983 __main__ 0/1 INFO :: Iteration=381, Time=7.441406e+02, dt=1.953125e+00\n"
          ]
        },
        {
          "output_type": "stream",
          "name": "stderr",
          "text": [
            "INFO:__main__:Iteration=391, Time=7.636719e+02, dt=1.953125e+00\n"
          ]
        },
        {
          "output_type": "stream",
          "name": "stdout",
          "text": [
            "2024-11-07 12:56:05,024 __main__ 0/1 INFO :: Iteration=391, Time=7.636719e+02, dt=1.953125e+00\n"
          ]
        },
        {
          "output_type": "stream",
          "name": "stderr",
          "text": [
            "INFO:__main__:Iteration=401, Time=7.832031e+02, dt=1.953125e+00\n"
          ]
        },
        {
          "output_type": "stream",
          "name": "stdout",
          "text": [
            "2024-11-07 12:56:05,060 __main__ 0/1 INFO :: Iteration=401, Time=7.832031e+02, dt=1.953125e+00\n"
          ]
        },
        {
          "output_type": "stream",
          "name": "stderr",
          "text": [
            "INFO:__main__:Iteration=411, Time=8.027344e+02, dt=1.953125e+00\n"
          ]
        },
        {
          "output_type": "stream",
          "name": "stdout",
          "text": [
            "2024-11-07 12:56:05,107 __main__ 0/1 INFO :: Iteration=411, Time=8.027344e+02, dt=1.953125e+00\n"
          ]
        },
        {
          "output_type": "stream",
          "name": "stderr",
          "text": [
            "INFO:__main__:Iteration=421, Time=8.222656e+02, dt=1.953125e+00\n"
          ]
        },
        {
          "output_type": "stream",
          "name": "stdout",
          "text": [
            "2024-11-07 12:56:05,167 __main__ 0/1 INFO :: Iteration=421, Time=8.222656e+02, dt=1.953125e+00\n"
          ]
        },
        {
          "output_type": "stream",
          "name": "stderr",
          "text": [
            "INFO:__main__:Iteration=431, Time=8.417969e+02, dt=1.953125e+00\n"
          ]
        },
        {
          "output_type": "stream",
          "name": "stdout",
          "text": [
            "2024-11-07 12:56:05,223 __main__ 0/1 INFO :: Iteration=431, Time=8.417969e+02, dt=1.953125e+00\n"
          ]
        },
        {
          "output_type": "stream",
          "name": "stderr",
          "text": [
            "INFO:__main__:Iteration=441, Time=8.613281e+02, dt=1.953125e+00\n"
          ]
        },
        {
          "output_type": "stream",
          "name": "stdout",
          "text": [
            "2024-11-07 12:56:05,281 __main__ 0/1 INFO :: Iteration=441, Time=8.613281e+02, dt=1.953125e+00\n"
          ]
        },
        {
          "output_type": "stream",
          "name": "stderr",
          "text": [
            "INFO:__main__:Iteration=451, Time=8.808594e+02, dt=1.953125e+00\n"
          ]
        },
        {
          "output_type": "stream",
          "name": "stdout",
          "text": [
            "2024-11-07 12:56:05,325 __main__ 0/1 INFO :: Iteration=451, Time=8.808594e+02, dt=1.953125e+00\n"
          ]
        },
        {
          "output_type": "stream",
          "name": "stderr",
          "text": [
            "INFO:__main__:Iteration=461, Time=9.003906e+02, dt=1.953125e+00\n"
          ]
        },
        {
          "output_type": "stream",
          "name": "stdout",
          "text": [
            "2024-11-07 12:56:05,377 __main__ 0/1 INFO :: Iteration=461, Time=9.003906e+02, dt=1.953125e+00\n"
          ]
        },
        {
          "output_type": "stream",
          "name": "stderr",
          "text": [
            "INFO:__main__:Iteration=471, Time=9.199219e+02, dt=1.953125e+00\n"
          ]
        },
        {
          "output_type": "stream",
          "name": "stdout",
          "text": [
            "2024-11-07 12:56:05,430 __main__ 0/1 INFO :: Iteration=471, Time=9.199219e+02, dt=1.953125e+00\n"
          ]
        },
        {
          "output_type": "stream",
          "name": "stderr",
          "text": [
            "INFO:__main__:Iteration=481, Time=9.394531e+02, dt=1.953125e+00\n"
          ]
        },
        {
          "output_type": "stream",
          "name": "stdout",
          "text": [
            "2024-11-07 12:56:05,481 __main__ 0/1 INFO :: Iteration=481, Time=9.394531e+02, dt=1.953125e+00\n"
          ]
        },
        {
          "output_type": "stream",
          "name": "stderr",
          "text": [
            "INFO:__main__:Iteration=491, Time=9.589844e+02, dt=1.953125e+00\n"
          ]
        },
        {
          "output_type": "stream",
          "name": "stdout",
          "text": [
            "2024-11-07 12:56:05,530 __main__ 0/1 INFO :: Iteration=491, Time=9.589844e+02, dt=1.953125e+00\n"
          ]
        },
        {
          "output_type": "stream",
          "name": "stderr",
          "text": [
            "INFO:__main__:Iteration=501, Time=9.785156e+02, dt=1.953125e+00\n"
          ]
        },
        {
          "output_type": "stream",
          "name": "stdout",
          "text": [
            "2024-11-07 12:56:05,586 __main__ 0/1 INFO :: Iteration=501, Time=9.785156e+02, dt=1.953125e+00\n"
          ]
        },
        {
          "output_type": "stream",
          "name": "stderr",
          "text": [
            "INFO:__main__:Iteration=511, Time=9.980469e+02, dt=1.953125e+00\n"
          ]
        },
        {
          "output_type": "stream",
          "name": "stdout",
          "text": [
            "2024-11-07 12:56:05,644 __main__ 0/1 INFO :: Iteration=511, Time=9.980469e+02, dt=1.953125e+00\n"
          ]
        },
        {
          "output_type": "stream",
          "name": "stderr",
          "text": [
            "INFO:__main__:Iteration=521, Time=1.017578e+03, dt=1.953125e+00\n"
          ]
        },
        {
          "output_type": "stream",
          "name": "stdout",
          "text": [
            "2024-11-07 12:56:05,694 __main__ 0/1 INFO :: Iteration=521, Time=1.017578e+03, dt=1.953125e+00\n"
          ]
        },
        {
          "output_type": "stream",
          "name": "stderr",
          "text": [
            "INFO:__main__:Iteration=531, Time=1.037109e+03, dt=1.953125e+00\n"
          ]
        },
        {
          "output_type": "stream",
          "name": "stdout",
          "text": [
            "2024-11-07 12:56:05,742 __main__ 0/1 INFO :: Iteration=531, Time=1.037109e+03, dt=1.953125e+00\n"
          ]
        },
        {
          "output_type": "stream",
          "name": "stderr",
          "text": [
            "INFO:__main__:Iteration=541, Time=1.056641e+03, dt=1.953125e+00\n"
          ]
        },
        {
          "output_type": "stream",
          "name": "stdout",
          "text": [
            "2024-11-07 12:56:05,789 __main__ 0/1 INFO :: Iteration=541, Time=1.056641e+03, dt=1.953125e+00\n"
          ]
        },
        {
          "output_type": "stream",
          "name": "stderr",
          "text": [
            "INFO:__main__:Iteration=551, Time=1.076172e+03, dt=1.953125e+00\n"
          ]
        },
        {
          "output_type": "stream",
          "name": "stdout",
          "text": [
            "2024-11-07 12:56:05,830 __main__ 0/1 INFO :: Iteration=551, Time=1.076172e+03, dt=1.953125e+00\n"
          ]
        },
        {
          "output_type": "stream",
          "name": "stderr",
          "text": [
            "INFO:__main__:Iteration=561, Time=1.095703e+03, dt=1.953125e+00\n"
          ]
        },
        {
          "output_type": "stream",
          "name": "stdout",
          "text": [
            "2024-11-07 12:56:05,870 __main__ 0/1 INFO :: Iteration=561, Time=1.095703e+03, dt=1.953125e+00\n"
          ]
        },
        {
          "output_type": "stream",
          "name": "stderr",
          "text": [
            "INFO:__main__:Iteration=571, Time=1.115234e+03, dt=1.953125e+00\n"
          ]
        },
        {
          "output_type": "stream",
          "name": "stdout",
          "text": [
            "2024-11-07 12:56:05,911 __main__ 0/1 INFO :: Iteration=571, Time=1.115234e+03, dt=1.953125e+00\n"
          ]
        },
        {
          "output_type": "stream",
          "name": "stderr",
          "text": [
            "INFO:__main__:Iteration=581, Time=1.134766e+03, dt=1.953125e+00\n"
          ]
        },
        {
          "output_type": "stream",
          "name": "stdout",
          "text": [
            "2024-11-07 12:56:05,953 __main__ 0/1 INFO :: Iteration=581, Time=1.134766e+03, dt=1.953125e+00\n"
          ]
        },
        {
          "output_type": "stream",
          "name": "stderr",
          "text": [
            "INFO:__main__:Iteration=591, Time=1.154297e+03, dt=1.953125e+00\n"
          ]
        },
        {
          "output_type": "stream",
          "name": "stdout",
          "text": [
            "2024-11-07 12:56:05,997 __main__ 0/1 INFO :: Iteration=591, Time=1.154297e+03, dt=1.953125e+00\n"
          ]
        },
        {
          "output_type": "stream",
          "name": "stderr",
          "text": [
            "INFO:__main__:Iteration=601, Time=1.173828e+03, dt=1.953125e+00\n"
          ]
        },
        {
          "output_type": "stream",
          "name": "stdout",
          "text": [
            "2024-11-07 12:56:06,050 __main__ 0/1 INFO :: Iteration=601, Time=1.173828e+03, dt=1.953125e+00\n"
          ]
        },
        {
          "output_type": "stream",
          "name": "stderr",
          "text": [
            "INFO:__main__:Iteration=611, Time=1.193359e+03, dt=1.953125e+00\n"
          ]
        },
        {
          "output_type": "stream",
          "name": "stdout",
          "text": [
            "2024-11-07 12:56:06,105 __main__ 0/1 INFO :: Iteration=611, Time=1.193359e+03, dt=1.953125e+00\n"
          ]
        },
        {
          "output_type": "stream",
          "name": "stderr",
          "text": [
            "INFO:__main__:Iteration=621, Time=1.212891e+03, dt=1.953125e+00\n"
          ]
        },
        {
          "output_type": "stream",
          "name": "stdout",
          "text": [
            "2024-11-07 12:56:06,160 __main__ 0/1 INFO :: Iteration=621, Time=1.212891e+03, dt=1.953125e+00\n"
          ]
        },
        {
          "output_type": "stream",
          "name": "stderr",
          "text": [
            "INFO:__main__:Iteration=631, Time=1.232422e+03, dt=1.953125e+00\n"
          ]
        },
        {
          "output_type": "stream",
          "name": "stdout",
          "text": [
            "2024-11-07 12:56:06,209 __main__ 0/1 INFO :: Iteration=631, Time=1.232422e+03, dt=1.953125e+00\n"
          ]
        },
        {
          "output_type": "stream",
          "name": "stderr",
          "text": [
            "INFO:__main__:Iteration=641, Time=1.251953e+03, dt=1.953125e+00\n"
          ]
        },
        {
          "output_type": "stream",
          "name": "stdout",
          "text": [
            "2024-11-07 12:56:06,255 __main__ 0/1 INFO :: Iteration=641, Time=1.251953e+03, dt=1.953125e+00\n"
          ]
        },
        {
          "output_type": "stream",
          "name": "stderr",
          "text": [
            "INFO:__main__:Iteration=651, Time=1.271484e+03, dt=1.953125e+00\n"
          ]
        },
        {
          "output_type": "stream",
          "name": "stdout",
          "text": [
            "2024-11-07 12:56:06,299 __main__ 0/1 INFO :: Iteration=651, Time=1.271484e+03, dt=1.953125e+00\n"
          ]
        },
        {
          "output_type": "stream",
          "name": "stderr",
          "text": [
            "INFO:__main__:Iteration=661, Time=1.291016e+03, dt=1.953125e+00\n"
          ]
        },
        {
          "output_type": "stream",
          "name": "stdout",
          "text": [
            "2024-11-07 12:56:06,344 __main__ 0/1 INFO :: Iteration=661, Time=1.291016e+03, dt=1.953125e+00\n"
          ]
        },
        {
          "output_type": "stream",
          "name": "stderr",
          "text": [
            "INFO:__main__:Iteration=671, Time=1.310547e+03, dt=1.953125e+00\n"
          ]
        },
        {
          "output_type": "stream",
          "name": "stdout",
          "text": [
            "2024-11-07 12:56:06,388 __main__ 0/1 INFO :: Iteration=671, Time=1.310547e+03, dt=1.953125e+00\n"
          ]
        },
        {
          "output_type": "stream",
          "name": "stderr",
          "text": [
            "INFO:__main__:Iteration=681, Time=1.330078e+03, dt=1.953125e+00\n"
          ]
        },
        {
          "output_type": "stream",
          "name": "stdout",
          "text": [
            "2024-11-07 12:56:06,437 __main__ 0/1 INFO :: Iteration=681, Time=1.330078e+03, dt=1.953125e+00\n"
          ]
        },
        {
          "output_type": "stream",
          "name": "stderr",
          "text": [
            "INFO:__main__:Iteration=691, Time=1.349609e+03, dt=1.953125e+00\n"
          ]
        },
        {
          "output_type": "stream",
          "name": "stdout",
          "text": [
            "2024-11-07 12:56:06,484 __main__ 0/1 INFO :: Iteration=691, Time=1.349609e+03, dt=1.953125e+00\n"
          ]
        },
        {
          "output_type": "stream",
          "name": "stderr",
          "text": [
            "INFO:__main__:Iteration=701, Time=1.369141e+03, dt=1.953125e+00\n"
          ]
        },
        {
          "output_type": "stream",
          "name": "stdout",
          "text": [
            "2024-11-07 12:56:06,526 __main__ 0/1 INFO :: Iteration=701, Time=1.369141e+03, dt=1.953125e+00\n"
          ]
        },
        {
          "output_type": "stream",
          "name": "stderr",
          "text": [
            "INFO:__main__:Iteration=711, Time=1.388672e+03, dt=1.953125e+00\n"
          ]
        },
        {
          "output_type": "stream",
          "name": "stdout",
          "text": [
            "2024-11-07 12:56:06,571 __main__ 0/1 INFO :: Iteration=711, Time=1.388672e+03, dt=1.953125e+00\n"
          ]
        },
        {
          "output_type": "stream",
          "name": "stderr",
          "text": [
            "INFO:__main__:Iteration=721, Time=1.408203e+03, dt=1.953125e+00\n"
          ]
        },
        {
          "output_type": "stream",
          "name": "stdout",
          "text": [
            "2024-11-07 12:56:06,615 __main__ 0/1 INFO :: Iteration=721, Time=1.408203e+03, dt=1.953125e+00\n"
          ]
        },
        {
          "output_type": "stream",
          "name": "stderr",
          "text": [
            "INFO:__main__:Iteration=731, Time=1.427734e+03, dt=1.953125e+00\n"
          ]
        },
        {
          "output_type": "stream",
          "name": "stdout",
          "text": [
            "2024-11-07 12:56:06,668 __main__ 0/1 INFO :: Iteration=731, Time=1.427734e+03, dt=1.953125e+00\n"
          ]
        },
        {
          "output_type": "stream",
          "name": "stderr",
          "text": [
            "INFO:__main__:Iteration=741, Time=1.447266e+03, dt=1.953125e+00\n"
          ]
        },
        {
          "output_type": "stream",
          "name": "stdout",
          "text": [
            "2024-11-07 12:56:06,710 __main__ 0/1 INFO :: Iteration=741, Time=1.447266e+03, dt=1.953125e+00\n"
          ]
        },
        {
          "output_type": "stream",
          "name": "stderr",
          "text": [
            "INFO:__main__:Iteration=751, Time=1.466797e+03, dt=1.953125e+00\n"
          ]
        },
        {
          "output_type": "stream",
          "name": "stdout",
          "text": [
            "2024-11-07 12:56:06,757 __main__ 0/1 INFO :: Iteration=751, Time=1.466797e+03, dt=1.953125e+00\n"
          ]
        },
        {
          "output_type": "stream",
          "name": "stderr",
          "text": [
            "INFO:__main__:Iteration=761, Time=1.486328e+03, dt=1.953125e+00\n"
          ]
        },
        {
          "output_type": "stream",
          "name": "stdout",
          "text": [
            "2024-11-07 12:56:06,802 __main__ 0/1 INFO :: Iteration=761, Time=1.486328e+03, dt=1.953125e+00\n"
          ]
        },
        {
          "output_type": "stream",
          "name": "stderr",
          "text": [
            "INFO:solvers:Simulation stop time reached.\n"
          ]
        },
        {
          "output_type": "stream",
          "name": "stdout",
          "text": [
            "2024-11-07 12:56:06,837 solvers 0/1 INFO :: Simulation stop time reached.\n"
          ]
        },
        {
          "output_type": "stream",
          "name": "stderr",
          "text": [
            "INFO:solvers:Final iteration: 768\n"
          ]
        },
        {
          "output_type": "stream",
          "name": "stdout",
          "text": [
            "2024-11-07 12:56:06,842 solvers 0/1 INFO :: Final iteration: 768\n"
          ]
        },
        {
          "output_type": "stream",
          "name": "stderr",
          "text": [
            "INFO:solvers:Final sim time: 1500.0\n"
          ]
        },
        {
          "output_type": "stream",
          "name": "stdout",
          "text": [
            "2024-11-07 12:56:06,846 solvers 0/1 INFO :: Final sim time: 1500.0\n"
          ]
        },
        {
          "output_type": "stream",
          "name": "stderr",
          "text": [
            "INFO:solvers:Setup time (init - iter 0): 0.2965 sec\n"
          ]
        },
        {
          "output_type": "stream",
          "name": "stdout",
          "text": [
            "2024-11-07 12:56:06,849 solvers 0/1 INFO :: Setup time (init - iter 0): 0.2965 sec\n"
          ]
        },
        {
          "output_type": "stream",
          "name": "stderr",
          "text": [
            "INFO:solvers:Warmup time (iter 0-10): 0.06101 sec\n"
          ]
        },
        {
          "output_type": "stream",
          "name": "stdout",
          "text": [
            "2024-11-07 12:56:06,854 solvers 0/1 INFO :: Warmup time (iter 0-10): 0.06101 sec\n"
          ]
        },
        {
          "output_type": "stream",
          "name": "stderr",
          "text": [
            "INFO:solvers:Run time (iter 10-end): 3.064 sec\n"
          ]
        },
        {
          "output_type": "stream",
          "name": "stdout",
          "text": [
            "2024-11-07 12:56:06,858 solvers 0/1 INFO :: Run time (iter 10-end): 3.064 sec\n"
          ]
        },
        {
          "output_type": "stream",
          "name": "stderr",
          "text": [
            "INFO:solvers:CPU time (iter 10-end): 0.0008511 cpu-hr\n"
          ]
        },
        {
          "output_type": "stream",
          "name": "stdout",
          "text": [
            "2024-11-07 12:56:06,864 solvers 0/1 INFO :: CPU time (iter 10-end): 0.0008511 cpu-hr\n"
          ]
        },
        {
          "output_type": "stream",
          "name": "stderr",
          "text": [
            "INFO:solvers:Speed: 4.29e+06 mode-stages/cpu-sec\n"
          ]
        },
        {
          "output_type": "stream",
          "name": "stdout",
          "text": [
            "2024-11-07 12:56:06,871 solvers 0/1 INFO :: Speed: 4.29e+06 mode-stages/cpu-sec\n"
          ]
        }
      ],
      "source": [
        "\"\"\"\n",
        "Script to solve the time-dependent advection/diffusion equation\n",
        "\"\"\"\n",
        "\n",
        "import numpy as np\n",
        "import matplotlib.pyplot as plt\n",
        "import dedalus.public as dedalus\n",
        "import logging\n",
        "logger = logging.getLogger(__name__)\n",
        "\n",
        "# Set parameters\n",
        "U0 = 0.1 # maximum current speed in m/s\n",
        "w = 10 # width of the river in m\n",
        "L = 50 # length of the river section to simulate\n",
        "kappa = 5*1e-2 # diffusivity in m^2/s\n",
        "S0 = 1 # amplitude of the pollution source term\n",
        "S_w = 1 # width of the source term in m\n",
        "S_x = 10 # center of the forcing in x\n",
        "S_y = 0 # center of the forcing in y\n",
        "S_t = 1 # forcing timescale\n",
        "\n",
        "# Numerical parameters\n",
        "Nx = 256 # number of gridoints in x\n",
        "Ny = 32 # number of gridpoints in y\n",
        "stop_sim_time=1500 # end time in seconds\n",
        "timestep = (L/Nx)/U0 # timestep in seconds, calculated from the CFL number\n",
        "\n",
        "import numpy as np\n",
        "import dedalus.public as dedalus\n",
        "import logging\n",
        "logger = logging.getLogger(__name__)\n",
        "\n",
        "# Bases and coordinates\n",
        "coords = dedalus.CartesianCoordinates('x', 'y')\n",
        "dist = dedalus.Distributor(coords, dtype=np.float64)\n",
        "xbasis = dedalus.RealFourier(coords['x'], size=Nx, bounds=(0, L), dealias=3/2)\n",
        "ybasis = dedalus.ChebyshevT(coords['y'], size=Ny, bounds=(0, w), dealias=3/2)\n",
        "x, y = dist.local_grids(xbasis, ybasis)\n",
        "ex, ey = coords.unit_vector_fields(dist) # x and y unit vectors\n",
        "\n",
        "# Fields\n",
        "c = dist.Field(name='b', bases=(xbasis,ybasis))\n",
        "u = dist.Field(name='u', bases=(xbasis,ybasis))\n",
        "tau_1 = dist.Field(name='tau_1', bases=xbasis)\n",
        "tau_2 = dist.Field(name='tau_2', bases=xbasis)\n",
        "\n",
        "# Specify the velocity field\n",
        "u['g'] = U0 * (1- (y - w/2)**2.0/(w/2)**2.0) # parabolic velocity profile\n",
        "\n",
        "# Substitutions\n",
        "lift_basis = ybasis.derivative_basis(1)\n",
        "lift = lambda A: dedalus.Lift(A, lift_basis, -1)\n",
        "grad_c = dedalus.grad(c) + ey*lift(tau_1)\n",
        "dx = lambda A: dedalus.Differentiate(A, coords['x'])\n",
        "\n",
        "S = dist.Field(name='u', bases=(xbasis,ybasis))\n",
        "S['g'] = S0*np.exp(-(x-S_x)**2.0/S_w**2.0-(y-S_y)**2.0/S_w**2.0)\n",
        "\n",
        "# Problem\n",
        "problem = dedalus.IVP([c, tau_1, tau_2], namespace=locals())\n",
        "problem.add_equation(\"dt(c) + u*dx(c) - kappa*div(grad_c) + lift(tau_2) = S/S_t\")\n",
        "problem.add_equation(\"c(y=0) = 0\")\n",
        "problem.add_equation(\"c(y=w) = 0\")\n",
        "\n",
        "# Now, set the solver\n",
        "solver = problem.build_solver(dedalus.RK222)\n",
        "solver.stop_sim_time = stop_sim_time\n",
        "\n",
        "# Create an array to periodically save the concentration field for plotting later\n",
        "c.change_scales(1)\n",
        "c_save = [np.copy(c['g'])];\n",
        "\n",
        "t_save = [solver.sim_time]; # Save the initial condition and the initial time\n",
        "# Main loop\n",
        "try:\n",
        "    logger.info('Starting main loop')\n",
        "    while solver.proceed:\n",
        "        solver.step(timestep)\n",
        "        if (solver.iteration-1) % 10 == 0:\n",
        "            logger.info('Iteration=%i, Time=%e, dt=%e' %(solver.iteration, solver.sim_time, timestep))\n",
        "            c.change_scales(1)\n",
        "            c_save.append(np.copy(c['g']))\n",
        "            t_save.append(solver.sim_time)\n",
        "except:\n",
        "    logger.error('Exception raised, triggering end of main loop.')\n",
        "    raise\n",
        "finally:\n",
        "    solver.log_stats()\n",
        "\n",
        "# Convert the variables to numpy arrays for allow array slicing\n",
        "c_save = np.array(c_save)"
      ]
    },
    {
      "cell_type": "markdown",
      "metadata": {
        "id": "lG0-UGYSPj1L"
      },
      "source": [
        "## 2.2 Visualization\n",
        "\n",
        "The script below makes a movie of the results from the saved variables. To run this, you need to have ffmpeg installed.  If you don't already have it installed, you can install ffmpeg with the command:\n",
        "\n",
        "`conda install -c conda-forge ffmpeg`"
      ]
    },
    {
      "cell_type": "code",
      "execution_count": 51,
      "metadata": {
        "id": "GIwcf9tUPj1L",
        "outputId": "dbb49b1d-a63a-4c8b-8d6c-cbf6de08d5ce",
        "colab": {
          "base_uri": "https://localhost:8080/",
          "height": 890
        }
      },
      "outputs": [
        {
          "output_type": "stream",
          "name": "stderr",
          "text": [
            "INFO:matplotlib.animation:Animation.save using <class 'matplotlib.animation.FFMpegWriter'>\n"
          ]
        },
        {
          "output_type": "stream",
          "name": "stdout",
          "text": [
            "2024-11-07 12:37:00,791 matplotlib.animation 0/1 INFO :: Animation.save using <class 'matplotlib.animation.FFMpegWriter'>\n"
          ]
        },
        {
          "output_type": "stream",
          "name": "stderr",
          "text": [
            "INFO:matplotlib.animation:MovieWriter._run: running command: ffmpeg -f rawvideo -vcodec rawvideo -s 600x600 -pix_fmt rgba -framerate 25.0 -i pipe: -vcodec h264 -pix_fmt yuv420p -y /tmp/tmp0_vgp3zo/temp.m4v\n"
          ]
        },
        {
          "output_type": "stream",
          "name": "stdout",
          "text": [
            "2024-11-07 12:37:00,796 matplotlib.animation 0/1 INFO :: MovieWriter._run: running command: ffmpeg -f rawvideo -vcodec rawvideo -s 600x600 -pix_fmt rgba -framerate 25.0 -i pipe: -vcodec h264 -pix_fmt yuv420p -y /tmp/tmp0_vgp3zo/temp.m4v\n"
          ]
        },
        {
          "output_type": "execute_result",
          "data": {
            "text/plain": [
              "<IPython.core.display.HTML object>"
            ],
            "text/html": [
              "<video width=\"600\" height=\"600\" controls autoplay loop>\n",
              "  <source type=\"video/mp4\" src=\"data:video/mp4;base64,AAAAIGZ0eXBNNFYgAAACAE00ViBpc29taXNvMmF2YzEAAAAIZnJlZQAAcBJtZGF0AAACrgYF//+q\n",
              "3EXpvebZSLeWLNgg2SPu73gyNjQgLSBjb3JlIDE2MyByMzA2MCA1ZGI2YWE2IC0gSC4yNjQvTVBF\n",
              "Ry00IEFWQyBjb2RlYyAtIENvcHlsZWZ0IDIwMDMtMjAyMSAtIGh0dHA6Ly93d3cudmlkZW9sYW4u\n",
              "b3JnL3gyNjQuaHRtbCAtIG9wdGlvbnM6IGNhYmFjPTEgcmVmPTMgZGVibG9jaz0xOjA6MCBhbmFs\n",
              "eXNlPTB4MzoweDExMyBtZT1oZXggc3VibWU9NyBwc3k9MSBwc3lfcmQ9MS4wMDowLjAwIG1peGVk\n",
              "X3JlZj0xIG1lX3JhbmdlPTE2IGNocm9tYV9tZT0xIHRyZWxsaXM9MSA4eDhkY3Q9MSBjcW09MCBk\n",
              "ZWFkem9uZT0yMSwxMSBmYXN0X3Bza2lwPTEgY2hyb21hX3FwX29mZnNldD0tMiB0aHJlYWRzPTMg\n",
              "bG9va2FoZWFkX3RocmVhZHM9MSBzbGljZWRfdGhyZWFkcz0wIG5yPTAgZGVjaW1hdGU9MSBpbnRl\n",
              "cmxhY2VkPTAgYmx1cmF5X2NvbXBhdD0wIGNvbnN0cmFpbmVkX2ludHJhPTAgYmZyYW1lcz0zIGJf\n",
              "cHlyYW1pZD0yIGJfYWRhcHQ9MSBiX2JpYXM9MCBkaXJlY3Q9MSB3ZWlnaHRiPTEgb3Blbl9nb3A9\n",
              "MCB3ZWlnaHRwPTIga2V5aW50PTI1MCBrZXlpbnRfbWluPTI1IHNjZW5lY3V0PTQwIGludHJhX3Jl\n",
              "ZnJlc2g9MCByY19sb29rYWhlYWQ9NDAgcmM9Y3JmIG1idHJlZT0xIGNyZj0yMy4wIHFjb21wPTAu\n",
              "NjAgcXBtaW49MCBxcG1heD02OSBxcHN0ZXA9NCBpcF9yYXRpbz0xLjQwIGFxPTE6MS4wMACAAAAP\n",
              "7GWIhAA7//73Tr8Cm0WXagOSVwr2yqQmWblSawHypgAAAwAAAwAAAwLa9HiTO+TU8TYAAAMBBwAo\n",
              "YVMRISAUsbwqBIiSFwOM2zAH7Mfnl4kAoCjb52TJceI7LMwtYO8mo1dXqalPZBOWairsF1cuClW8\n",
              "2qIbZjPp4sHlZSmT361wHAJWxCinv2uD7IEEjDLx/N9fBzMI8rze6JcJvioUCPbugZSCW+2RujFA\n",
              "lxeAbvjBHhoYiBVv009DlPzvssS4XAMHt86VdukzVizVDOTTLyFxq8/5RQo2LvmBRpq9ezISkAUL\n",
              "wo1ct1k0jlbzpIQV+C8ixKnXAyvu8kaywN9pRrQGPm2hJIHiOOI2WNC7npcpyozNVRTVMmoDOiUg\n",
              "jbWIkVy7SOs1rfNWiuToMyPK94W8O97MOwGLHaZ2g783kJnKKvetUixK8wjmeB0DlaTo75kgMUCQ\n",
              "bBgPmwAWvPaAG0TfDk2Np0FmcOuLtNjYqxnFsLWSpFFslZRhJ7ucf3dC/fkVCBqKVuaX2S6M9tRg\n",
              "xB8YC1nm6RA1xblNUCgvNRN8evx7KRdTEATDjm0YKtHjTi4HtzuT26ZuP48EkYokn+zPql8np3FG\n",
              "Io3wa4Nm8MIbyQBzT71le6EpaElowKh4X1xT2BgtWra1aqW59AjVxYaFxnnCkWjIFmFxwPJ2JrKt\n",
              "tr7N0WNl20VtxoqX0jNoc9K1L2xdspSn//W6K6rSQRm88z4wPJd54jXEQ0qEROcBRzPCChrccabc\n",
              "bct3k6sAztsBieBKdcDAOdINCxnshplceN18SCRXNLyPAHt7Iso9gQ6Q+6Naw+xyS3dfVpc6dOHI\n",
              "6cI1C72+ZJvbXa1zKzDm/Jml51+qkN9IYGNTNR3i8ay/wVHOtZCeeN26n/6TsRQWMreHyvFVX3wX\n",
              "xyOchUc5xmsePoqNuP1eA7mcQOANwxIWBz/532O4QZL+RDUvNsQPZ5G/pDzDJIxtx7XahruXnPxI\n",
              "AAOXzY3QkGpyzs+E7fyeuwsLG4aVQGaZ99CcWQuyW+RGkBORKXeRrpN5H+MP1IgRi+4YUcxZyqgF\n",
              "qqm64moeL73noIqTFExXRvVBIGy9CKXhcuEQnotxVuS3/9OABpqufPv08tbboqe6PYV32lPo6FUM\n",
              "IYgmd4nwfafwThVe0ToVZ/RCHgncftdVbsF+IVheEwd6w/hGqw+qKXk8/bNWb14VedStI0AIQtAT\n",
              "/FB6+yFgTpeRqdTnT6G9VTYmPwJua8JgGn/s74GdZYeKaMvU11xG2W63siUPPvxGXTghErzAhNq2\n",
              "M8om7nYy6lZZ6PkYVKfX96kfi4DLQbL7qb7xJfElt7JdXwzm5Gr+Oh1Wp5mAiJxmFhdmn33FwwJe\n",
              "vSZE3nYDWrAhbyU0DzG2gyEQHtUimRPE2I69ZHjlbqBIsiPJKpKSGc1kBCY+I1Vj8sI5rSb8Xn+9\n",
              "R9j3uxuuI+h42nwq+bwrcI7UIay1tg48gIHo1iPz9vIebUxCvyI9gUy7SSuz+4clWTCM06ZqKnE4\n",
              "JinxX7zbLOyftEHLu+yDrOY5wk9mYzg6v4IUF3BiwtLmgz74MksVpGAZuZnLYDW4soNpzFLkqd/s\n",
              "jNCJP4/9yGKpUE/mC4Kza33tsfw+WImnF7dBdQtZ/wDay/SFhFDBFRHNT3mHsyzn212bkLiHc07F\n",
              "ADc1yuE9xiqKILVZi2pkzpQ4t7iGX1wOwf95TySl6DyNHUYgeZHqdASjDGjOTGC9G4wFmtf3Z1Qd\n",
              "AmxHk/KKD9P1WLhfMsweTJenTmQj9sQsSVSu0YM7oBEi1H1Ago8JfarwZA80iRXWi4HYQk0vX3Ww\n",
              "2L4lUA5Pe3OWahYIWG+VkYqsltLXI/5h7DeTQ1Ie5aCHaP258cUdy4hkeoRDyFF0zv4yxBB1guj0\n",
              "HapaO7xRPUoHX3pu5W/2eDD8VpnVi3orcLDd3F8TeVnf9dmrB75JKGC2VZWMGvOXJsYsmvu2kiPc\n",
              "kelQEGmJ3/2MGb0jo80HkAt+z8fBX9NCm+N4i3rv0KKXKJmqGsrrz9li+urAt6GzoWGE21f12y2H\n",
              "1XUVHWuJ7r/mUFvmmgODfdPHmNxjnEjYFw9ux7h65MM6vNL8WwYGJLNjz+Q4gBdRgNxFfKzI4SSe\n",
              "BOFUGlrnE/+UuSbd3Jb2FY9Z5uUOWcf+mSHb7RTao1HSVkaXJNmK/89HagW6LFWhmkv5QOsDwMVE\n",
              "joo1rW7ndEziY6YsOsho264YelUelKcJ+vpwgHLtC9sxHnMA/MOXFQGjcpCGRdFdlUplDzgYZlIz\n",
              "AwNXDHe31lVAIZ7fiO5y3IMBNsY1Ly44MYJlpegPsgAi1HRm88p64JCqfVmPLg6u1yOuX/h02wAz\n",
              "3ePKwUGxgAO6KA+Bhp+SFDETVtwZ9ICocMkWcHH/QpcsDY+dxwAbL7qoLhcLIz0/v4C66ce4W5c1\n",
              "C5Bjsnof9MwVpoL1+K+UyRzuynspXE3o6poucwjjXlrekP4OhAvtH1WRVTGPKIbc9rbeL9T6bDzL\n",
              "jNTivGBmWDuKaTvfitweBoAxxsl0zl9JH2hQszBjZprNoZRHTYz/pxTDwiCMwJZKsTSxeJbuf9zN\n",
              "N54RlCzIlZ0NQOw3Xydlay1kxaSd591fYBtGRbybz/YxfyR62HHYyugnJ4cHLRKSywbNvbdbvyaP\n",
              "wKJ30nJEUuJYPzhg8ef10iFLIfNMUda3Yb3JGCWWGCx+sUEYtt3P/dNwTjUDipN18ELea5RqjBVE\n",
              "LR27XYWk9WDs6a8+B1BsklP/BKwF68e9U06WeLfT/kxLDM/TpkVpGMyoqwp745lPsneo8XfHxW+V\n",
              "dZXDewpZCG2kNhYwQj4ubkgTPNMzl4pLbr5TEO2nArt0h2qECUGzJ1LbP/4/cslWpC49akpppIdw\n",
              "8AmUakTlm0aVet+XKt/zDvqHVKVOp5w8Fh7910c9QBF7MZQPITSq+wr/9rz2oYAXhl6xAABkOVMu\n",
              "Bt9/FxY2PJk1KPp7uCwEzHyxXcWihgr+kuXydnNuTq4BuL27ACHZfwMRnMJFYwZZMrgAWg4pq8pR\n",
              "1fbZJwoXNcOMQSRGxe+R7anzJS5pv9+FoODj3Qe/FYN7i2+ltFDZvjLvH9yM2QHVNpswk7RJ1YsG\n",
              "dXlZEaxheJ1oWSLBxCuc7wGGzQBG7FRLfegmcEaAyosaJ3qsN75xUbHWjfpGO+a2AOPCaSpvMeT0\n",
              "jP3A5YPaYYtC/wey4EZiX10FewDvNXjQfdEPrnpmbmu/ABVKiAIpiibnOeYbcDvwsNuI8U1z4zNX\n",
              "IjtAUXLIQ45d7Y2isUfmgtxkDo7G6ox9XXg/yub6+RSD97Igd3vauKgA+YmAqZ+jTvnWrZ8S16Jm\n",
              "73UNxXOqocW3gVx1vzMPSvf5QBVYf4hczpQfaRQfNBAVICT9W4ktBQjnGem6mDybLLMU6LdcWSiX\n",
              "NaQ/jGLOs7+gQ8ay+OwH0paLfFG/eIUZy/uAAAcPGZiGL41hYDf5BYTMwL0vl+tv5SOrg1VmvWu1\n",
              "5GIteSepYkEM3IVCKRipvglam53PSJNAAA6TPCa8eksAGolLk/0/WCpZ8xS5ReqcJ9nlWJg0JebP\n",
              "6ulnv9526Yglo+qgXi4a3k8uJu+5XL8oWP1dmFI4ZJM30a2xubUXNv9+0M6se6nf28GkUiJ/GT6N\n",
              "qHqrLebgO/n5dBWteZEIVnzjzPpyL9dChjstz5tPRMOsFSief4Tfe9Fwqw5yBvtHlmNEpIy5iWCV\n",
              "1jnI4BkuY7MjvKjuqjJNjrZcT0oXKYV7hjW9vmIgePMa/2+BFriP83SPLW/JGDjajGVsG325+7jI\n",
              "YmY9C8LXmQSFpbyOXEkJgsvKe4oIzUP59RDW1afxFwvRKk5n+0AO4ek+ML2pFi5sYTXyVzdwUV3o\n",
              "icZkk2mnQHW1N39qPrg4Cr9GfbCvaw/yOQMMGw5D7WPeYyTMSAJzPfKsm2AxJOjs+Nu//UFXwSq6\n",
              "x9Tsii68g7qMqftZROrJvWiYLVbVRZ6RnWeF3OSfgf47+pXlXc0+/y5RGau7v0/ZcPdKnwlO5qUr\n",
              "+tgnTpzN5/dGW6o+nBAq4YnlUmksSAvRkh+ezWNNiURUIrSgx/L4h6tuyPLfEV4nk69T4wgM5rcc\n",
              "+ZFjS/5WhQkr0TWn94p2VyfZ05lkh/sEtRWJYPfAXeHBa5mpjBa4lfHLHIiUh23fl5MvUVLT3Mmu\n",
              "B/CI1YNp43yK9H1V1adktx+f1R0ZGSVoLqFuCBb4JsJ4puaHHEgyA1E3u7nxcGpFwjhlt9DI0g1P\n",
              "hI3L3RK2GoHVhi1bLzxsJPfd8i9cBonCX+GKF7dORgf2yddUBQjeryac82cYTC1h2so8EF2VH+Iv\n",
              "gLU3TUvUY5UuHpsN1oFxFxR5BDOlbzDZra12XADHHzoJGvRu6ts3TiUhcfJiRQkxgeHzSCq1q/zo\n",
              "T+s2ozYfQ1vsbe7TGTfVdKTRewihMcDfdTBNeSTyzwDTdBvA7luhwnBlNt1RVkZWa88iQKDXpllT\n",
              "qyNJ2dKo8jMw6tT9KzqSIqkDF+TnqOdAdlgCfuttt1OKm+S9M8TGyyO8JwZdEiaq4QkWgPo8dl7B\n",
              "urScpoKJqaALgDTJA8Dpn8tBnCT2ddcdXhXqrC1u4dFEqMu0/3e0WFMqCLlPyIChGKVENi7+uEzj\n",
              "gSY101NvfcBDh7ovQx0jyKY1yIrVj7hzneWLGWMJX1RE2aXVbgkhvr3GR9WUXwnO9JfUDayAj+DT\n",
              "r0lYkoh507Gd01quzzjt08dq9TtAr1YDhWB4wSdn3ATqfw+Adj3R4DG2+Tsk78HNSAlSbdz+oFER\n",
              "Wni3sIPLbCMZffrXESHHg+CSWhhSJTzzkTq0f0WBKww0MOydJ117W680xk4PGjDod8FABintIzi2\n",
              "Xxbp6VugezdaJq6RedNOCtAq595R0p222TtjWPV3FoRtoDP0XbCSUlj5iR6D1J8X0iJIMZULup65\n",
              "uWQQ89MctNuzxlq2/AOl+uOKcnF5axuFJQxbHa4cjeYg2DYFBdnVa5FOjM0/SMQ5YeuxexpDvXvM\n",
              "CB1JFJ6Dl/LgDejjTHLGO8LgPTfK+oeMQucXh4B/Vtl5FgCnGTGeO/9kfuW+jgQcmwBX7IOa/zqV\n",
              "KRWNEswSGOM4UFftPK2IEvC5ulT3ZysfcxsysGsY8jCSawZg45lKkALd5wzv518h7bwPrSmb99ug\n",
              "AIN4WmSWyeyKJ+9A+IdqZkUaBZirwiN5fl6aaqJe97ZtaUXnTecaLKerWQT5SLK6nnCznaPrsvmn\n",
              "7uc5l6rdV8YF0hmp2Q+JBjMcm/RScOgUCHHkphr8MTEZAu8qFOa2avgQJhf5jSI0Xek2RPXEE90l\n",
              "TtUZqF1hG9vdUyqLMJMsgtAaJuYyjh+yaF6X7a6dwjzpor9SBTSstbAZwLExCkWuA5pOAAADAAAD\n",
              "AAADAAADAAADAAADAAADAAADAAADAAADAAADAASVAAADZUGaJGxDv/6plgAAAwA6RqnBEtw2+UcC\n",
              "/NMLcYWKm6uIK5Fpl1IGACIM0YNSATa1Xtb2F0K0Jz3BvIHDkdWS0IAhPmYFwdzKcqBPXmqvVXcK\n",
              "cycuXE0S9Hn+AEXwsqURDZTwtyX1NvZFRNyHzLE9WmPJwToY3w1Hg//ql95/t0PDqo+2bhtmOvb2\n",
              "Zo/AAFi4+n8OC3zIkMc8vLKGK471tLQ6jasvVFZZ2upTP2jxsvu7mgvxPUcnSuIIp0VVWWZUkoZM\n",
              "40kVfbsfZTpHWpcCc+cL1sMT3czYyvpgTOgvaxrBdj3bTF8zPE/91uXl8t0NIOHAz68tXQAwcarE\n",
              "glsvL6fIJM3GVuN0JeXOu9lRZ+n+rcsuiXJXEUfh48af9oGE/G+t85fpXENCNEvhwBsLp70VPtO6\n",
              "GBEo45zTaVbp2dYu6RxS0q0PN8vN/Wg6CPc+G3FAxbHarEQIev4a/MqDvBlrU8i/vZlpXy1YEvEd\n",
              "pmSg5KV63/SHgo7zXIt7MMSrqo/Lj3KeKOmWFQ6GihtxcS4uNR9W9oOxCMMmDFJaAHlOqE14oIHO\n",
              "Hei8o03bC/6EUgp0j8sH+xe6fhPjLa6nI5FomAxOulAdqrHEqO9cpTh+RZDGq5Xif6HZvcHU5TOQ\n",
              "HVb0ZlRcWMDR4qS9mFx86gRXm3SK/olEDagZ0nrRqmQqfcnbdinL0HlDVJsMVdqsUBg1IPNRvpmQ\n",
              "ScvTwALDcVNNcUA9msJ3HyYrf5n5UJI7EztIt8y1nfdwuv/WDdGYAiZvWQ2dGLldEElQUjsgzGgO\n",
              "4fRwUtZ6SrnEq624kdi69DTI9v/YZ7XdXraHUUvDQi4QsdVvgpc2PKgEO4/gknJwkQrGTCltVHL/\n",
              "Q2c0AuDpx8ugLmZK3eL5aAOhjcWpocCKt4WkZBfLl2M0D5dIjHaie5PlWTOuDPxjYgqnt4QsuXHr\n",
              "hFeVwI8ZscStp6+FAa/wlohGy5NUnQezfisAOlsDBOKpT3KkwRNoqSmzIpACYEqXRaGzmhU2pO+Z\n",
              "otXJF0F9gzUX/lIZiACbzl2r5Zof8RindQcBJkdCJIfLF4eiDaqmDcczaKgmT78T0co9Oo9yhL27\n",
              "RbXqlWIfxywsQn525uqEDeIUT+bEuQw+LzJvQoPoAJAtw3aay1DFbD0j9GLIQGpXAAABeUGeQniF\n",
              "/wAAAwBFZLVU6QfMsrQsS2iOAGjo7e74AJx2yyp6jZfYirGrxVLciM5izUkvO2sl7/dCf0L++qUF\n",
              "yBntnMuNtGZj6icQfGafujOPRGeviFuu5zgO6TjNOf4jicXRV3QDm+Oy0MXB+iAhxUlJuly3dd8Q\n",
              "zCJ6yilYvJ8Lvx9kxVHSmYX9tLUifWlseaAPIWj221HVOmhs5ugdLE6X1bNC6Dq/HeL55oZaT2+l\n",
              "zDumtUhBAyLAEc/7cr29ckc1oabUjukNjXEK/r+Pwwk/TB1Q9d71+vnMSaGoIo/D77zG7aYTKyD/\n",
              "kCwRp/tZMVcBweFneNAEXlCJdG6ZgJXblViq+nd6Q4l4lDmn5iftWVENFTQTKz+C3fouPyCIlFTN\n",
              "Eiqxy1TSG9r2eiW0aarqpe6C1Ynm5t4t9TPvJUWMBH2LdTjRM+d4yUXikc+gVwJsJDdqFjtziKdF\n",
              "G1WtHLIxNzKfa3ahk/7pI2KDXw176SZh1xJgAAUlAAAA3QGeYXRCvwAAAwBfo3/PJG3pow8DCWbg\n",
              "AJam6ifXm87eGT5Y53dQy1tKMqKd/3zorXv1s6OLXOo9VGIjKaTkfmWDX5gvwrlHsWJy24NrcGi+\n",
              "GVEzbxqdJaZptO2k7U2x9wG7Oif4JD1lOWwIZM2Aykzid+Ii4qkq219K2D7sk5HmxPz724H5cWen\n",
              "K7i08LPMnmRfN5PwcuHfefAhiV7hdMkDiRE1iHrmBa12Q1vdn1PvpZYgF/cp5KC5HXMVjKwNgDqO\n",
              "izSg0MNe/GwGghGad67TmHya7GUswWQAAFJAAAAA3wGeY2pCvwAAAwBfnQyoxjE68dPwW2EXUE/n\n",
              "4AB8FL7RCjCzY0wVxbTP5/NrczyFHiOA8Vr4oaSq7UK+BGYzg3i1BO55uIkWzYUBQG8iUK4wrdty\n",
              "5bobCltgVcVwPbEx10VbACy5+tLjC1HPwLz2d6TthUlRYWAZo9crhTkRhVFU3xQFrta4Odcl5007\n",
              "rwEVQB4ErP99x5pBLVUIdcj6oo1tvoWR/Ot9jLlI2gL/x2+ivH7sNmggcXMcXbTucFehGGuXkdot\n",
              "b1skXZhQyQZmbiaC0eu8mAbxVzq8eAAAUEEAAAMGQZpoSahBaJlMCHf//qmWAAADADpDhTAOKerR\n",
              "j5KF7dk8KRq2BRxaZ7z4Vsy6ZO4AS5L6qVwrrRZ1m3EEyGN+jwBYmxrJOcLHdZFEH+fv+PyJDgdG\n",
              "TBrKzlMDRaFYEiUXyxuIgVZiF+cDc8tTBzC+dzDOZ/qU2nh0bb4aRCLENDO94zKXADNUKi/iw+DZ\n",
              "nBmkQQRNb7XcmL4gTli1CtwzX7RrmiYCevf4fdTkceT150p+CgkHNuSjtlkuFGBI9Psr5EduOPMh\n",
              "IV4MQrHsCpoaX/DHkjpimDfQWbeaurEokGSqnbnUlay24bUs2lqfwqMYYqfxRy+n6Ck7tB7uA36I\n",
              "msegdG/U/Wu9NsO1zkQ3QeEEcA5ofu7wXKPV8e9/NscnuVjzU7SeRSrVtZ2hVwoF0ZqX03G19oqj\n",
              "d890UwuY9T5Oh8z1efGADgzoSReAFY5HYN71kc7plJR1lq+lQ1ywvyouj/g3Sgj2UHbvRktAzoSh\n",
              "CyJVmpmfiS47XMMheH1ZP1rQL9jHX1Xnk/ED7IuCGXsuh4DdNUjjmI7rTjzvfbzhK1rF2tQTVNHu\n",
              "PnVgv+VMHsDrxP42lUk+MMUUzt25I8XniqaG2guxQ/3L87HMGHyjwRSlWfXYU/Qnlfd3BLHB6+Fs\n",
              "ynWhi6ZgjpgJcFTWjwoXUaNlJ1zmtoayMBIXMsH8fG5SqK4aIh5ZeApgJ3lrTepYmUzKPf32toC6\n",
              "uJR9LUzBj8u8/Q4i70bqCio8Ls0KPnsPYkZpGtw5SGoMOkTC/5wGn6fn9VJdsmNzpGcBG29aNCZG\n",
              "piZXE2mgDX/U19MXOm6TJ7a1dqh6LU+AkMf91Zc0ROrvdcqa+1qHWgqPwPsdOymn3WY9x9YtLOGd\n",
              "7LJ2xbBocQuyZtqbygIzb3ZX9SgTN4wfSs0uJNyo0XmwEA23srKTeuVIUoGRXiOhPxM1xNi1qtPy\n",
              "NwC95Iyeng9y4KgQgIEhaVI4J97+iMXmpRrdwvvEykOTn0PbvY7TzCsUkvFNVTupZqigEtTR+6N6\n",
              "2lmk4jEFAAAA8EGehkURLC//AAADAEV84IRQVs8CE0RlFQnEOwJ0AAE7LP6mtcquYWHKLLqFLOLd\n",
              "6/3Ej4gw1gXSkG1YBz9GoWjRUVc+X8R1hh1iz2a+O03Cfpj1wN64eI3RcnbUdMUlrrT5fL4sLX3B\n",
              "jkc/3khwiMxGEuA+SnTLzeNVj2tPnqjIzbpKIZhdrbVLDPIErkCpEDb6k3EdGZ8CtnstAjsjOIO8\n",
              "uqL+rzRiUPHGkEbOC86qPnAS9MS2hiEw0WAcdJC3p9blZTlfIk/KXSBBrLeJcwk7vzz9BwG+VDOE\n",
              "+zKs9wyufX6zy32qNlEkoU0AAAMCTwAAALwBnqV0Qr8AAAMAX6N/zyRt6aMPBAZ/wARAaJ0tA+cA\n",
              "A5bUccf/u1FcBUk3hhUCuOfIntpUjcWiGF5hK3An4q3RzUt6uCMrmgqU7UPDZSQSxDgMLsj+Up9d\n",
              "gDvbNqbh7aSmY3aUFZGJvKKaFDuB7w41CexixyPRxWuczYzojT73a6Jxd+Ij+6mtzSvH/q436zJx\n",
              "ZLZZmLdKh9kZB31fN+lMyujpA7QYxF8wiVtX9pqclLj0njv+kvIGQAAGfQAAANoBnqdqQr8AAAMA\n",
              "X4f7rYnRXrlW+RzZABEHdV8vb9nVjYPF7b1nqhwFqYdFhWmJ/Pjg2hLv7qEqZbNpJnDwsyFzeGkB\n",
              "7qeXohPw3YwfFQrnV+hUeSBrA+DH8gWjXJVU5kpDLC1mrNc7WfwP7EQCw0GQF5aljNujBSVwiosD\n",
              "5vuYotUE45WsBc/2TDfvuqGtF05C4cU4oZcgas2Y2KmSCAUOGegDZcs/jnf8zCvaC0nCtbsxKxwu\n",
              "4YAwDuneFgOzzIkoMkaHgM/4cSxDESJwfGYdOBRS8KjSAAAEvAAAAfRBmqxJqEFsmUwId//+qZYA\n",
              "AAMAK3qHEVABNFalM2B79q/powBbFBt9mnCFB3HayvfMvFgkcupfGTIZvjHPb+lBMc5W2JEzAlLs\n",
              "Q/d6Q5tC89709c8hGRS9xkffoL4+hu+GtQBnALM9bJ4MeW4AbzRNhzGWZiU2Ce1yB2B9OeVc4h9s\n",
              "iGDh0gBRKsA9ut6pZBa1CAlSeYJXv0dhNFHvtFuEVbtFer+doomx49D74byaGUcHAU0vgk3DYkw1\n",
              "Ormt65ayru2Jv/p8CBzUTqUZeFg3JtlBtyGG02pX8nIJNd63gAo+0/TlkMuhUgOcU2KV+OT2HVwR\n",
              "D2zxOfTW/Sc/Gbv45n1zRke1qZqIaeep93ZfHICV1HGtU56Hd9XxDwY2aj8UuLp++xip+m+wTRDH\n",
              "/5j6GigcnrmLLVuGD/rBUSnji0zrKKlIk/6QPCMKTBN7mmo9PDFA0mbdQVSkzGhtYa2RLIuvaCpC\n",
              "UtZY5/UVqxFSG9X8WvqjWWOIgzyTA4/P4QjM4UGYEJ/a1JvjVwPRSOeGW/MEYCh8yzIdqWT8wwNh\n",
              "4FFQsR7yET3nDP8L6J4lCvxaG5R5QGB4NJVWs8X/VCLcxvNWwORO2v2rk86CJhPMXoAHdn0bt79C\n",
              "B13ZQTot2cvE9O4I9A+4HhFT3U8vkZJysAAR8AAAARRBnspFFSwv/wAAAwAzcuAeuAEycUBlXUxj\n",
              "hKQwrHqSAFEClNVpFz28s6Og1hOYUkmBHwg/vSeqHTClcontnr/f5H6tT0e8iL5bkwNjQ3z3PlXR\n",
              "tg3FP6TyMF30snZTQcrVmLAoWowiU2TxaHTMBw9AoXhth8EOXc8vnYoVDP0WhBq94UD3zzmshtjd\n",
              "r73CLUx5ILKOn8d2QRjXR1t2B6C3Y9ycN3VpPGJrN6y5E5IBlVVg5v6XpkV1P93EzYtd852pX8xe\n",
              "BfCkJXAB+kXDWtgYP9ddULaD/mSnkXPHL/aeN7ovv3FeEV2F+qwzxmN86xc0zpt7/4V2NDFpuKfT\n",
              "yjGDz8Bx+DGQek+bKH1bKC3nwiwAAZ8AAACQAZ7pdEK/AAADAER7ESwAQojzBtHzJQTW7ws7qydK\n",
              "SZgBGbtRnMJg7+Gi72xyfz7IfxssEV4k8ywujx8Jd7lSeq2hOcmlpoeCwbrCeq2WonkBOt1XZPxT\n",
              "wz3e2YXwS4Lz1LWXO/YRAwTlxj1gchh2DVL26vzodsocgcQlRZmvEq3lYj2q54tD16b98G6sAAfM\n",
              "AAAAlAGe62pCvwAAAwBFSs/vyAA2gatdA7iagtBF+V1vBP0hc9CYsRAXgaPBdgoVx0Mx919Ipr25\n",
              "83ktre6G2iL+XSIWAWmPHrrYrM7WZnUGUSlzQV/msa875Vk0t03PgqPCne20nArPvbvxARhKV+0C\n",
              "Mk6Sa9jLUVuVYH8g0+N3T1MQZehsAp/BmreMvwULxDGxQBAABEwAAAG9QZrwSahBbJlMCHf//qmW\n",
              "AAADACuMkQqACFEYuL5WwXiWi/5THOnvtEm1MeKOA26Yf3uO4+MTaEujNRWMUA763JrKoWor9g96\n",
              "ccyyhjSS6LwMZOjnxVCACgWQqao6Uk18afpfLpOGwEJ+y49XxIUM0TnElj+becE/BTn+KfIRcFuX\n",
              "V3EN+OIQKGMk95R5lqwmqEnCc241TwsTQ8afjoLEXosED0GbPapgyHQuN3g8PX2+3KPjmFo+127J\n",
              "HJYqxCg3rBOXJIJKqlCJRXlXATZQiVs1mnVk361qQFQUg4ig+44yLP05Zsbth6Wts6K7j2qQof4h\n",
              "0kNw4vv9aVWCIlxWb0RpbG3L6hte7eHUnZzWvSscLm66NSXJIiHbsAsuKfCS/P0holUcdm0+FNqn\n",
              "T5yigt3uWDeBqaPwjEHQGlXuC4w/5ipfBtkBUOlRiWGTPDbjifvdnxakL0XuzEtwpsfLizKbnzeq\n",
              "mJQ4OCEOh2EdE/IuRt/nGqdVJti/eM3AnNA8sF3bZk24w20di/vY49o0/YNz1mR7Bz4en5TLl4NO\n",
              "dKV6FG4jcOlBpJS1LhE1+VrIl9N/F5uIzJKSyB7B0QAAARpBnw5FFSwv/wAAAwAziuZAAbGFZTjI\n",
              "HZO7ES5WVW/8ifB8amFPSoL0WEmPNRtFlRK0zcL7U1mbEF/MNIXCRlKiQICfOrtW3jBsUGXW4O61\n",
              "joYgwAUYz7dTaZtxyECeROZfr7CbtAG5Vn7qfj5DMM3svejxzK0Fc2E/UKohJDPnO2B/r6qVTYla\n",
              "59N4uLVZcaV0ivi7biJi1AdGJnfmEal85z3sNuPxThtdaCCjJ1W6kATOBFjiNdalv9xbZzeS/GqT\n",
              "HgBitklJ786zdzMGXxSBolKToms4IlGnZG3PWSE77zswYCiWFGC5F/bpQwwUxjFsqaTyrS+lMPg8\n",
              "2xTzNyi1IpmHa7v8ArToGswW7J8+alJO8ob1xgAAMWEAAACrAZ8tdEK/AAADAEWeIgBNWcjvkdVI\n",
              "4mO1kLD635/dIFJuOWpxCj9qZejj+9/6DrO2ZPJz7PW4c9g2I12Kkxxb8aWsVObF8ccl0nGJXZcs\n",
              "GLVK7o6IwCO71vhlN+LBqTQeTEyEtvylMqT5amwIjIWCgrJmuWXJ3a7a+35IsG5ASffEYWUIoUxP\n",
              "AKGOOvlbdm0Vf1vfuCzfS53HPnId9BsN44i3IOpvrkAAAEHBAAAAugGfL2pCvwAAAwBFduYgA/Z/\n",
              "yyY1BCRxGLeabmz/hPsjiK8/PFMmGOq2WhFqTeU2F76yzsuNxbLy3NzTUPgVRnlVRhsWzktBLhCi\n",
              "kcO+k+C20cYPIMxUswocumZBQdBqM/n/PP0K+Ow4cYcXZiHienfB6hL+o4JTAk6ot3X9o2ud9RJD\n",
              "eJQBtM0u8qgCVHx2xzMKpQYPvlk1Fr4yNKJwmfMgL36lxDuI5pzf2Fa8XvyqTsWqghscAAAakAAA\n",
              "Aa1BmzRJqEFsmUwId//+qZYAAAMALKyPe1hRT+gAh+uYAX3c+HYovTIFBvllemyAJya+MRUCdOrn\n",
              "Q2apmG6k9pcoILDwvsrgKwbwaLwOG0b/oTaVRq9imoT77vwvpeMVIhn56fuoB6Ao6sNThW2rHiFu\n",
              "C3NO9r+OSPdu7MXqRuWUTY75ZgETktZrsY/ebAq9TyKtfvUmwB7Q0b+krJFDBOTDTzr36t7O5HVi\n",
              "UHmW/W1uYyR+cqJmLIpPXKVG/pxZwTX6nac91q6EHJ/eyZz29O3IDqzD+1qWqDlFWBzvDXmgA7p7\n",
              "aIJ+bge8X9pGI6PwPOnnEwp3GCRLFFaCw0+NIFac80alNDCYiQ3BUQ8REilV8EerM9W49Cy1HCue\n",
              "cvVNwHSveslEFwLm8qt4nI6aiTOfqP1/tsB+JPtJ909gln2J6hccSd7Uu64oTRUxMSQ+2UzswTpN\n",
              "WowDulVOfc1KM87J/5XFtjCWQUu5lYZd0181wZqj/HlLrYAWZtUlJBzBjs22i7FIl7SvWRdGwaQ6\n",
              "qoUDjML1K/1epwgTbURKnF7gxfUl54oWL3WP8q0AATMAAADhQZ9SRRUsL/8AAAMANMFwdo1ABcYU\n",
              "CZfcvj/BjyTMG7zT0qf81iGJRebx+jFMCRjCwwhORa49bytSq1lcvhJgLnWc+vk7zc8giL4SJonn\n",
              "EnFWerrvkzFPGHBsreuRDYIGJOnPfhspISWUWB+YG1eL85ZgbPzOaKQLRuTwmuit/BxvyvGSSr68\n",
              "nxKdU1rRn3K8peCCtm4nzZ+f/btSnXSW7R86IKc2XAt7/e/byI/WXnn45NHZ4NeVDHCKG70yul8D\n",
              "VVC66SgpB1sFRprxIEj+fB21A7TTMBKmUeqYOeAAABAxAAAAtAGfcXRCvwAAAwBFPlcSAA2fJvIx\n",
              "jT8zoQ6f0pF31oqWyKmUudyikwqWvg2b32t5WCeunHwNNmkuu6/b8fPKaJTkp+gcLgCmuRdW6N11\n",
              "F/sCvO/FZgwOuO0JSeRXXu0CdSTPHS52Czq0T5sY64L8x6Veo6X8Y8NFhZCc68HN5fGZNkpcPaxN\n",
              "IbRjRTBwL7n7J2kz0W2oMK5/bQAUED7KmimLaBMeaKx0S1E2TQKdEqgAAAMBIwAAAIwBn3NqQr8A\n",
              "AAMARHsRLABCiPMG0fMlBNWSdbNfMdgxXelIwdCNqqXjRqmokt1JKF1xUHBRSN/9Sxrp9EMwh9fq\n",
              "UhyHrPQG8PFMEiZlAOmgqU6kOOAwGeOU3LWvXxjaDamDovfc5wYhOXm0te1p8/He9M2N7Ypw/XPt\n",
              "TvaMfxZLjNspqSQ+/G0oAAAqYAAAAaxBm3hJqEFsmUwId//+qZYAAAMAK5p/teFDAAp8o4ngF+2z\n",
              "885a4Zk3QobJZXnfU/FITAHdX/u0Far32a4sDc2BD1KcCHYcnyenN9QMd7LZCWoMsYgs0UYVEix0\n",
              "TKOgnUtP2RCgVA4w6YrOIpZZjhR9xxgSLuMxLD/2EXgz8/x0T4O1IaeprZnGFwLCtMuOXdHpvF8j\n",
              "5ZGrm3OJeQjm71R1VKehrgw2RwSqMrxNLsWpxAZdgvoSdVLofDVKDt3ELRdGqS1lfvOtUR6f/qbq\n",
              "ry813xviII+ce7GAziGdVwJs+llUAN8nWGvPzAFIAXhe1nAtNkTU3NI0oH57ZUmgHW4jLIieU2SQ\n",
              "aM7Z6R6+aths1F2AP9dptRD2U1oluAh3kH5ZoD9bmaiTLg9/02MnbXi1lTuo3zH4F+I7SJRlZpg6\n",
              "hA5X3kpFFLZ1xz8P/FM77BlfTY40OAuwTLHSCnVQKen2rPM7o29yITRfpszxRSK+1+xWXZ7G6fzA\n",
              "fk0eeOY4UOl7xXDCIOzQSluYHj/GB5QyT/I8OZQOtVIQ7DDJJ0ohve65Q+WVkEyEAADAgQAAAPBB\n",
              "n5ZFFSwv/wAAAwAy6wC3duAEKcUy+FXo4C903Xp6r+npoOSgX1CChmLyTedJvj2O5YAJ9STjMfU8\n",
              "U9jKGP29kuGXG5LBqYRRTzH6M3cGY9zT7ffUbfxnsC1PPK+Adx4ewoIQXze9zGPY8D4agCS/+NNv\n",
              "JTg/rSPew7XtzKy843SnEcxeeGKP9nZCIcS156k1KkQ/ijJbqtc57N2jS6A4XDpLamp2gkAlMhn1\n",
              "4PZESRQsDaDtjhB9X3+iV3u0NFJTADWvzBTiPScwIC6CgwKJd3KW23xg6/gKIcqvsla6Eva4qZgN\n",
              "EfZGk+EowAAA44AAAADjAZ+1dEK/AAADAEU0RUAqIAQcXXVJJ5bsUJ62e5I8hDHaXD5gZQnba2H1\n",
              "6YBn4zsvGjVNRGdagwLWG0upoggPh7AUrVHFCBwlcdiZIRZ9odrZYi7UjvBeJXMCtbqvAdz5olMC\n",
              "6Km4UTuUyt+OhmuQrgo4ipQkfpJlv/I0cq08myJqT1MufTf0ONQQv1TDwYIGhrAurJOTTaeKESN3\n",
              "JVZ2PWh5BjSmQitWFd0fM4bWrBNVpl/prnFXXFhwuACTFs2XajXHwLTJEcotTY6ynGpz43rUfC2P\n",
              "M+BZ8xqxnMG2mAAAJuEAAAC+AZ+3akK/AAADAET+65Q6YAJ26TuyDB0NgQZXlS651fk/MRnNFUmy\n",
              "gze8yEiGj855bYwGaCH4Z2SKoB44oEdX9jJjDlAA3mr3sbipmkq3rJ3z6PqpVNy9JAIp0i1y050s\n",
              "dQiOOZeIr0oezYCKYqzIjc9/qO/er7eFGoeo0FJu873H29zyU+77MLfPf1hr0G3iUxvOvB7kw313\n",
              "VnLrgtLlxDp22fG9QquPsQzNBvCLJpMFID1qaEwo0ilUAAAl4QAAAeBBm7xJqEFsmUwId//+qZYA\n",
              "AAMAK4JW4YAHfgHTRoieWrj9/o5HeGEoHlxQEABR8PjgQctE64dmHM6bDultZR2jf3WHg40X60gw\n",
              "HdOdu1gtHUCM3MpH0RBkVf7vr5Jujscb7iT42TZiNR3f10PeeWHODIANqOceaEIvcdGyu1mA1pdJ\n",
              "rbaeoTZ7MB2waaaKyxhCl5z8dzBfTipIZ8alXrDvV2ssfHki1n9pVv6cqx5RZ+oXvC+RnZccvtx7\n",
              "/NOE1SC7L8qn2D4dhk3l1aS1yntRNuuXHWe//3QnbsR6hOCQhEQ0L58Sbz827ZVX0GL8w86C9tC4\n",
              "QntYkS1FYumCn4uuZQ8tQiN6IQvZjYIcXDK7W3fJyFAyX/4uwvWpyc1Ggtto4RMJcDvCI/9Uana4\n",
              "vjkcfqRX5G/OWCuIBcs1mEkeJgSv7ynfnPA0RFL8P09GmbzPSbNjdvI3ItPipN3S/Nk+FQJUtN07\n",
              "ohQhKJKNgGGIF0xfwg6JWSlo7ZVmBAfaNDInJnNdPKBLTqT40D/KQle0rywTW/f1PL/8sD2/bm5F\n",
              "q8WxztVXYlb6arPkaIot6AdqcdCTnYfo3l5k/dQsSOSc1jLTxB0N3vo3xKWmuOwZUzmtKVF81FlB\n",
              "RNOZjIRAU0AAAADjQZ/aRRUsL/8AAAMAM1Ne/GFWADUVruSkRcamFpdt2zMQh1ZbBUs9Zf04BoaA\n",
              "vsuAzAsL9gABhYdy/kMRrEu1Sz4mYBSX7xbI2vdrmbxoprCda5qmFTVWS92k4BCbhebgn7JfFA5E\n",
              "NoAvdl/izXr0bZQUTJCp0nSwRYtdZEp6fAwZW8LsvHoO2WJdKM89M9+OZd93aGAK5LE7DElmN+WG\n",
              "s0xerUVpX6DoMaefTbUIh55/ey2/9X/68TlT0Dd2dA/V0FI6q/a6RgjQYVzdVf4nIpdwirOb9Dgj\n",
              "z2kUjRUAAAMAqYEAAADNAZ/5dEK/AAADAEVLOhEAIFjcmC3Tnif3hCyVzIjpYaKWmucZWCs5hygg\n",
              "WLcDsC7SU9MWr1VHU51u2vtQzW2cBE3bytvr1jEH2Iwd6z+hDQg957oo6HQDIjrctKQsYJo0mZwY\n",
              "YwwgelimaQTd0w9SRFCPsjvLSdeskvA1AJlM/mt0YJ/8OU//uiLhz6TQloQgpBIo69jXCJbJvUqe\n",
              "dZRxG0Bhk1egYmcNe+qlFWJHZG/lOm60PFCJTh9Ze5WGSRJmg6LArFjwSR8sAAAi4AAAALsBn/tq\n",
              "Qr8AAAMARHDkzABD6kGOv5UyCEGIvO0Aidf6dEKFGdQOOePhOlXbmUv5hixmryU+ELuxN2ETx3Au\n",
              "AE9oSsbIeVGmxwsxttxUBL2Qet/P2+TYfrqwTBGecCRgfpfzhk11nXzlpHY5mtqOkcVphY1FDWzr\n",
              "FXaB44CRUVJhQ0UJ3wwz3ValO2PbeO6RKeK6CuY2VKhACBXBpErnBDQvfFc7oeWk+H7xj7yUaaHj\n",
              "OB2QnjTFJTwAAAuJAAAC0kGb4EmoQWyZTAh3//6plgAAAwArhZT1QATRYlbeYT5zzjmU+bmuUeR3\n",
              "+4f4120gmfHfSSv0/zaV/Fwzx1uKifpppFdGcMfnUWideNsAoGdz3VaW4HCPPvzCjp0bnLUAa+hi\n",
              "0/U8sMpJRsViXW2y9tqDHqZcZiZ4Nl5OkKbxNBttkbg3pgh9ECaQd3Xbu+7my5QEv2nMWfUhbHBv\n",
              "mgbcGB7PtDq1bBBNX0EDH1Fs7P+/iPb2TL+Kqg14ipMLX2LX1Yma8OdeLUZ3Ke9gI+BBMff7OWq0\n",
              "5AK22KGjENx0j7u20OptaOIae3Qcpzxb9dsDlarWnqPm1eQnWLxq3O1FWyMPUm7LSfoKfmCMtiqY\n",
              "QA+aEF/gM19lXlicQm+o2wUW0YEN9xjX0ztnQI40rgt6s95L6/GH5U1HdR+H9OXhX7JGKsPW3dnG\n",
              "h3PzxLC7osL3qTpvzLDgZrTDR/+gu3MEmogx1cIwcMQeqYELR8pyalSL2sU1ZgO4iZJHW+eUdEv8\n",
              "H/iNwi91RCy31DWlqFu0gLs4yQhD+B8vnwNA0F6PuUyLosxhWJyey8PykaMG0Oe8GlhZ+N7meMiU\n",
              "W4ZHLmXMhJC766NJNQDdOQO3e07eJbt6xuuuRjHuBhEkGpHBLEMNCeu9leBm9eJFcfVn7moVVCD6\n",
              "qKoi+r4TqEpJNxdDaopnhjv0v+3pS85Qlmj9SqgBqWM8BZPwvTuEBom1VTxOsweZ5uNDJ5atBH3j\n",
              "zXNpgWWfs8+eQlzvQmctJ+e/ZRp1dIRYftxOgvKs3TGXC2HJmRt80hHt44UW0/Ynzp7euXn1ll7h\n",
              "TH91/s/7HKWyUgl508y0rbfRvuJJYLQIPVJxkeIaqLTVWIp5N/r+xUabftcubuUQrIqs7yDThWCk\n",
              "AjCRClxRkFaUy6Q4uVV4MOs0rwr6Oj1mY93fOvTafU3ru8dSAf1eVkLHYQMkrjKYpudciarpAAAA\n",
              "/0GeHkUVLC//AAADADNoDFEAB8pa4Z9+dwWR2je6v4i39plIWejfU8EQqMVSiujZ6jA4ipDtpBN/\n",
              "ePgshLVVtDVsRpFYPcZ46NFdng+LlU6PObU2VYbrpWSrsv0MdY8AdsnqxGqqEbhN6N/rLaHO5lGv\n",
              "AKyF1zf45IvYSITXzePb5OYP8u0cWLbUPyRqKURv5UfrTykjal5ri9s4pAagwWolK/B7heNmBBi3\n",
              "d0BlNqr56B6R7OWLs9P7mls1KwBG6J8ttGcXexnB6n0EnHQL/PO44lEVquKveIU3isQEVkQE2VwY\n",
              "yXZOPVY6Jmjath/HtgowCd8Pl4xQ4EHIAABWwAAAAMQBnj10Qr8AAAMARG0sRBXgASAA2L+qdrMe\n",
              "Os9380jj5MljsMW00EGguTIedOJ0lqhxT9ut82hxuWN7yKgJ0F0+XMuhrR/yvp1ZjgTQfDRspLVB\n",
              "VGUc10L30Dpr60G1oShxZFi3tp2OqAHZcs+p4OHXLfx4Li69iHcBeu3Cq2SVSFDSbAQMts5aOQn7\n",
              "TO6lFQtGCgJ3l/df9LJsQZSV2uai/74zbc/EXNA9O8Gr2Gpd+tOzNcbap4LoXUntTwas9xEAAAj4\n",
              "AAAAvQGeP2pCvwAAAwBFF9QasAEPlAs8hOem48LCKFu0/9lRrkKGAf7mEQSNiEAkcsRsIUdRLx6f\n",
              "n2qoxDJIoRIRzdTeR5NijOGli2YhwcUkgXHnd441s+JDyYbdEuMCKkea5ySvElmTYeEPDc8ssbdC\n",
              "p31/Tqo8aZHcHikwIDoNvFQdD5H5BDwJlHEfeKMnTkTQNeHEN89TuP8rIhOedQRXS987jqCzAmvG\n",
              "dLVVGDA5M2XTHfKni/f+2VRFAAALKQAAAo1BmiRJqEFsmUwId//+qZYAAAMAK3yFoAHYkEIbF9pR\n",
              "wQ0lJv2fszdUH9g6WPrSGp+s5YZHunaVPFZF4mVSIeObDk4XpU4sFkHyNP1FqXuOZWSCH4VJnwnz\n",
              "8QU8GhxumHxc7axV3j/ngwRHCHyz98wk2eFrgs6GmCD7u0MkMdl4g5VN/JPg3LCHiI2nOq6BjNmr\n",
              "5+6uqOQaCjbvPnjr8wy6FOSsdEidN0wDzc3E1jwX19FIWCqNC2p7vtyEzFiGO2My9w8chrkMFFyi\n",
              "wdndGMkqB1wk3AcEWX9xwQLJ8kr6Xl8rBdAmOOCIz8/TQY7U/Z8avxEfsnR7eB57rCt77YYfUNtW\n",
              "41re41I+hmyWIOaCDMhJkEGPN+CtsO3kSyKHJDnVzLv05vXwKMw2LCwHCILRUJhG9jJDjSxC/1B5\n",
              "JcyTjyDfZViP9D1qat5kCTsFq6o7OHPXDhsguWz6erJVZ9NP4ZiIsGtflwYstSHdkcKmVMq8E4H8\n",
              "gZYBpzL59uBnSoeqLIGXyykMxsPq2u8sKNBkyUnX+vYJwa0LrOZksELzjEfJ/e/e6qWylssJWzI3\n",
              "W6PeIvfrQUMdshrJ7wq9Kn1qcAdL5f6vPiJzcCu0HWZlFka1hE5gaDWa5ZCLsD9YBGvqzI0A77oi\n",
              "A6711gjxmE/xw/Nwk1FK/wC9bin2T3kN6G/HeLZW/4s1cFIw3TI6gNsJlSrCW59PWFdMycXoEzj/\n",
              "WFxkJhYG+Jntno6p8Sxa8ViEDQELmOrWr6IgTqTREcHr6KbHTs1R7OwU8rrBhs+Cyxgiy04pScWU\n",
              "fF+YGcmmIkW4zhogy1Y3fxnZoFMOKMN2uNdX2jMQqYrDdPCOqIE7t87L/bPK5/0ZYgRcAQAAAOdB\n",
              "nkJFFSwv/wAAAwAzpMYAIb4GDvDpTjAUfBGbfBbuzXE+sE/bmBnNMo5YcUL2gGhBpWqffF2titUg\n",
              "gzsiMs5+hTJKpR+Y00hpwDwAXUQW6EohIGy+4wmMgy3F6ObrzUtsxbkEO7HmzsR7wIX0/xpr5JdD\n",
              "Kig5HT162yApzRwyVwgFFUbrI1CbYN/eeT7AOItX7bOWdhSrG7K7oxZU2Y6aFIqs8l1Rkyc5fHj/\n",
              "aMGJRlEB3qkz5Mo12y0H2x1hqQAwjoGRe+rJHkTB1s1jxFCOsD0xNaQj7V1S8App/RteQPEAAAMA\n",
              "OqEAAADiAZ5hdEK/AAADAEUePDmtYAIfnW0hTdistqvNsH70yrU9MAqyW4uSlfr9axuko8kaZnr7\n",
              "PqCNcYmGdy2aonD64O+dmOhKlDH1PMO7RQSOb5TO1uU5d9DZLH2ALoijcqH32zQSJ+X77JrdrYef\n",
              "VVfOzXoRkQ8f6zerQHdVrBK5sWJ+ZwyJk1q1B1MtvLUuOy67LoL77/ncQUvFAglUP7lv86rNbOOy\n",
              "zDKMUtzrez6Dojz+0RMr+n3rGNbUO8f8pSD9TOGOhNugQjsXitrNP5cJenGBr//U+EyqvVwZyIAA\n",
              "AAMDZgAAALcBnmNqQr8AAAMARIkXSwARB5wNktb1fTUQ2CyfnUf9b4kqxiOWoP01Exip5SnD6XTA\n",
              "Dp2f+9EQ5K18ki3abHWDHPBhCHsIsnIMcNNUvkWCWPdYRuBGXGG9htaWEtGsHblRoztUVunn/UkG\n",
              "0g3xVZGviymc1pjGb+GoKCJAbznqw8//C+ApOuC3pvNFIVShXuXG9aPegBzAJ4GcN3Oo8z2fPAA+\n",
              "zNdObfTqBQWQu+QwbMFLwAAAJmEAAAIgQZpoSahBbJlMCHf//qmWAAADACu8Lf5WVpPoNABq6aVx\n",
              "4CuId0AEgwgVV0VIuRfO6Jv6V3dvjnt684uuDYadiPaZ7JENMZSZcS5rz7ynG/cNimR7YGz/OF8+\n",
              "NuCRHfp/x0Eb0CNYAxDRbdLlnhLxfo6uVCrjADfnxNR9JssQgVpi2UO0sb8BBA0FxfGsLFNO5DtI\n",
              "c3Ug7Bzi4agZuErU5mwUDoD/ixBFEpZZ2UjLp1FCSag5jCquo2nrsBcd1DFxxoRrzrqR2s/g+Blb\n",
              "13U/+GVxQOmdsXOn2uXAzHPKKB/4QgezwmdGZ31HsPAeisKwYomydWpv/q8+f94nWcUePs7JzuZ2\n",
              "zS6dfNlacwg5OPoqXZCjAb86x/87MRbsjY7aeZOTWxZPQTknH9JtYGSA3gNF8AX68e/NWu6CO3c6\n",
              "z77M5RdEdjm76npD1XRtq0/rKN8Of7BRfkwcNjGSwY6KH2IDMuomZsZl7ii6/pSXyFXHkDh09SlV\n",
              "cu2XqV5V0PETzc8B6MZ+qKS8BlC/UHhCOQ/PnnvmzL/8vdcw8hdqJzAfytoqjv8f8qFHPxX/2Sck\n",
              "+6S+2J8gLqbG76vTOCCaUgm4pRmpUI7/DVW5JF5jgIawU5jjm6voGpYsKT+uRZgL+uxt1Jf7mZ+V\n",
              "aQTv0leUh1Z7uyq2arJMZcJ4kLsu5kiJWHrYLp3CM4bW9ag4Rj7+58PKjQo5HkpVLLqvCoc4yQAA\n",
              "AQ1BnoZFFSwv/wAAAwAy42kMYAJnltjtUDhkw+4xbgo46tLH1WxGc0/lcYrgxh+wI56JvyL73vfA\n",
              "aPwaYUdYzWxsxQV3QTqy/A9BL1c8jgxEZ80TUhTQYvhOFStQNAPdO0FCOLt1AIRDwmz6iaZ5dIWz\n",
              "KITEqvJDjfE/A51nWgVJIRkOEl4FKLSJlom2ts12n5fAuuP4rPFb3BePJqayQOH+xfb0JbjpN3VA\n",
              "w4lDB0O352UDJZUJulGljFE2Raa9QoUDzNh42EDUIAxuWMjELY8K4WdON2a1+I+prF6Cg4zXUtzh\n",
              "paTSbaTE/lGnnExIsZKgYl6Ih1CMsSCPgbo2s+q90UqUEYcj1LAAAAMBswAAAMIBnqV0Qr8AAAMA\n",
              "RW03sAENRr3wQgVgIWOhgy9mKXD8RgJN7ydCuZvbHT0LcjW7SxSGzehtBZaUtxXkwoKcfK3IwrS0\n",
              "DIvP4vmZ9knhkaypK8uGG421HcyGVY0yK9dBlzMGA+g4hEcdIZN0LjcnwK4Iz4fBxcbfEzVeLLJz\n",
              "oMm47cotNu5D80qhWWQpkFWvRBHvBabF6SXmX4+pHIF7uVE5Q2iBtGuFS3+PNBq3KStk/b6ti6nk\n",
              "jhe2bdFzLAAAAwAZcQAAAPoBnqdqQr8AAAMARZ4iAEHRcWzbZZXj7dPHnUFNt4xeZjWlIFBceUMp\n",
              "PDi1/PEpKv3IU76H2t344Nwq/PObyaoJIiLzY7CPzTbGnKHn9SVaT5BRw9cucalC8EC2WsZOYEIe\n",
              "0t5w/PRy9fIqlAhTA8mo62uGg7yEVsThK8iwhQbM8zPjHDTJvcrvqJK8hXd8BKGB82s3x5g6vJFJ\n",
              "WETlhlak/r4JbGH16AU6MZm5egQ0sUgNaJmogTPNPkXHPeXzZclU/kfRpR6ZakTT7Gk7S1EpUtDX\n",
              "GKNvbbl9PjEGRXA6knyFq7xTGoxsPf1uK4AyRU0IVcXoAAADABvQAAACH0GarEmoQWyZTAh3//6p\n",
              "lgAAAwAriuZeg0wAPcT0gPNZat7cn3i6TmtspPr/klfMSYinlrvvAFZNWbSePyOU0vC4wBbvS536\n",
              "IFqfFgjLYyVNOPpJixdCE+KHgYpEo0/qPEyrYU1Vfq8LaUW/J91s/71kBDe1oX8hYTQiN4cTIYyN\n",
              "Lg9V43m6cckDROiR6b4vMLPhLaUOjqwSjH1e+Fv//3fJNyGF7hQzCrOzsQUQpmw/lVcfV+zTxXV9\n",
              "5kdDSoaZj8wDD0LTtzDuWyKh9z4tmqpjeXEK8LSUvqBkb9W10Si+ELwpMO4HbsHQoqm/b9u2kTf7\n",
              "YwV9Q5UDqiSSjHXqbdEhwo1KKKCQ8UN29y/dcp+FSlix68MFHYo68ZL+qQF+kh2eH9G7jA1kLcTV\n",
              "3A33NB0/P3aAM7CEFk3dCtgiXGygWOjjJieqZL+9LU2RYBTKUJC98CdknUvGSENBBRoyrhnsXXA1\n",
              "F5J8nU7GuynfkklhlDuH11sdGa0aERGkGvEADgOzSTIdWl8maS52SA8u83uhnj1xFUC+aCFv2h7K\n",
              "V76IIb8JYGogvNksyvM8dA9gvJAZ4RbJEhoIKlClL/Ajb5kSK32RnkcVD9WrcUoLm6GVQEjDY4r7\n",
              "UnhIH+nw/0NjQN4sT6Z2f3KY96gWZCtmnZDc4o4WLRtMRmsh0TtQuyeqUIhtaeoktOIgcVZEm4K4\n",
              "7n/Zg2q41WArMgAAAwBUwAAAAU1BnspFFSwv/wAAAwAy6h0i4AQftu43DZ58GJf/aGrW+2+EaBJF\n",
              "Rqa+xxQPno8rj9zzR0EjInpHBtURNKPe2kktLEsS6dcN1GRF2QKdV5TqaqU1soKNaco1z7IIzbSo\n",
              "nyK5+2udSPmCrXLhrU2a/R0VZBbm0n7dkJlD54Q/uJk5B7mEgVluSEsJ6ow1qga3F6ldBwnpcMMq\n",
              "u/mDqko9OkTgNCkwAG8YiDeTbn/8aritmNp1S54GWbnOH6tdo+PgmrnAyaGtQ6JOSn7FaBGqWkPL\n",
              "YGTezr/Y13WSqoXe9juSD0NxX93fPsO8SLO0l7EvRsx4ywgMCzP7Os0JUz7+E3z6T5BIu6YupVxs\n",
              "wv+r7UwpVuMBomZk0myA5a71W89JBzvoKISvUoFQaRSTZgJ2LwMCOCeCS3DXE1GRIobZ6dosi6hI\n",
              "CmoUKpgAAAMAh4EAAACkAZ7pdEK/AAADAEUZ1tsAAIYFguQzLfzXDuHOQ+z0zqkunnPChXG6Fp+l\n",
              "Gu8s5vcPhyXnh2NFgngBMIvCUcAdRhI6sk2vqn1Jx6lgnaOIM8CC8al0yz8WSsBU/r678VC/1NRQ\n",
              "6wRWSWuFEkcvJt4KAeWQHcgKQ8u62hgugh6SH2CLAPBeYSH63SCxiD892pwM98OagzcT7vGBRjU5\n",
              "uNoAAAMAzIAAAADHAZ7rakK/AAADAEVJSSDQAG0DN+NT3H+/IGCQYN4T3WbBfDclIWQdNl7FV3LJ\n",
              "Iv9l1BHY8mBk4IkZtQaqeXodla8dRfKUYWGSd7ZK5ka0nzWOsrKcyA9/rS4Aqww/9imcinA2F78r\n",
              "8Uj38XBxDjvZO3/6nXbkG8vmiIf4bOjHkiSE3OxAWnvw6O8NO/1YEqV4Dkb7D27FPoxtOKPgYtCN\n",
              "BcjnFMwxrjpKcx9hBijIujLNLP+l7SLLSP3zkNuXlLXOBULuAAAH+AAAAltBmvBJqEFsmUwId//+\n",
              "qZYAAAMAK3+fFABDFgNfb8VKPx1gEAp/YWVjPd43kfH5BO7FYinbbaUmGlxKfhC65ekatAKOEw0P\n",
              "ws2CJsYKHZyjyQg8+giQNy/PcusBLL7GucUq6zJujV76JChIbImEzAAt45Uf1NbqOqKibtpH2htd\n",
              "t/pVyM/Mep7r7WYnGCA1sgzzErqYqPOCXqk9d1+5WHRIvRWm4On7B6pht0MNf9vDi1inj+psXS8l\n",
              "5AlEijAe0RiS42y71mxOZ2v0XGA51EekkF+IeBUnnHF8nkeHYXY9ohxWkNVS4hw1+5pZdYa1vua1\n",
              "8TUT+NeUdYo5pxH1G6BXb9mOsphQ9YotJJIjjrYxlzGgXJPfGFj/AV1xgkwb6M7ghcdjdhZWxH8Y\n",
              "SxtpWsAuSI9+WHLjNajG3QlKk2LdKBqI+UNcLapcYrKshm7IQvevtWny4loWD8WCPr2f8IdXVwIL\n",
              "gWadj+Gsb/PDNNVJem4g/XeBQTts8Sp3EqzLfZDnT2Xk8I87jEzWsUmz8//l5M1bVxoVnpR2b3vE\n",
              "ChkV8Ws6oK40N4qKjoSjAIXYpJINDKvZr1WZ+h+wZC3Du+Mf7oav6U/IY5oJlBwDc79FG1EDjkof\n",
              "hqXNjLQdZM5Ann91RKEJhG/MpsXXhQe2DVYiuuvPZirOL5edxYW814B0AoXWsdAZCDewntZiJz1i\n",
              "wFQh9q6Y0bfqDYozHvoaYZ2xD0P0aGkYXkrMKQ407l5T+ZZzx2WJxv0FwzvoGY0/5hk2tuXVT2yO\n",
              "O8hl38tS6bv4PpWVMeFVEae27+EAAAD9QZ8ORRUsL/8AAAMAM3awBuAEzvIs5DHikKht2gDKfXHp\n",
              "gsMiwOfDGgL0/xMxMlHBnBDIbFBUqz5BhKv6L+83wGzxFh+29WSswjkeV3NzoeHi+0CyYk9L8KHs\n",
              "4i+cpFcc6cnit7z2Yvqc6bv3Ecncd8z0/fBTvS0vmDR6yptUbVrOB/jwtaDjkoAkkEdi4i2rw5rW\n",
              "FTl2AHIh2Ba3MHbEmGPckzcZElL/HNLd3xnJBEAlHML4bcSL7pINGQAuyHsGDVi1Xhd/k6+m0QBG\n",
              "/ery31GFLa06DTop8s/hb0u6bY2dTnapVow1sPCsepjx3hmHRCCCpOSDvQCegAABQQAAANMBny10\n",
              "Qr8AAAMARPzWP+1gAh6A7UrvDqTYz9fsVK9AgGuLAiMcGhqvvtq4OYk6sPC56JWYtr14sJCT91mp\n",
              "IFVLO0KfFdi6HdxKRBB258uJWA+BoJ273IVb0918BO/VWmOV+lIvIdzRCy6ZI79stseNRQeo3he7\n",
              "1/g+crrpXpTXKBUfD7GPJ1nccl9QMrDebdz1fKoXjTTV4WjZcWLQPsX5kEoECQChdfyuRUsXgTYh\n",
              "HdNv1NG34TyXNaNdE6YgtDjqD0lrsd2Ckia+5/J/pVAAAAtpAAAAwgGfL2pCvwAAAwBEfC0sAENW\n",
              "Fp4GHGzVVvRTntTWWS9aoOVtstM0e/CXj7I1ydWpBc9gwwh7z1gURIWW+pGYnMEDDHNvawKbSJ8a\n",
              "lp7IAv4dv9x4YHzy6oRuBlOr8NRGRAZhQ9CNaWKKAiFtOzPfU+BmQmSVejWL0IbvOckXzEqDYV3U\n",
              "PKWk23oe95EgV0bnjPEx1yoCPGmj9RxvVdjKqlWzFDA8ZR4C2vvUhIj0/s9p15oDmdu1/PuxKmAB\n",
              "HwAAAwH5AAACVkGbNEmoQWyZTAh3//6plgAAAwArj9o2gA2jURYzpO2iXhvqJRJm2IKLvDwOUYVq\n",
              "cSjyzOJrT02MeUUHpCWCpWql5vujJYBxYrxxSZLqH9eNERrPXbkZ2EljJ6bOoJyrLQFswRwAT4GU\n",
              "RfoH+bM079u0L+EPlIzw9o4wM7gmwgRphA3Tdd9gsC2OifcTTwNMN1+/38Fe+0DHrkeKFWfTUjgJ\n",
              "C5CByNQ0ppC7caZNhVo7gdSy4mWU4zLSohwVZjgU3vw3gU1Tu5kwhmZe9l0bgffkm7JHrYkiMfHm\n",
              "sBYLT6ploOPdqv0KoxVFVjBEBcwRztAdPDICHDDx+bZbv9JFBjoifCick7RU29tD5xqcvKn2eFIg\n",
              "OPriat2W1Y+JwPMc/D/mbXN7Dmmg5Pn4yvAox8NESt0U8x2Yepk0nkKRaFbGoSkbMVJ4hawvVYQ6\n",
              "E2RiPrXQkMyX6wuoICTmpE/hHpup0p+efeA2Ohvmq+YlVb1oGTNCWJ1YmH2QXh61OVTSqGY7e81N\n",
              "wr5Q89bHRNTEaaZlk8bmDLgPiYENvdi1YElaFZsmPU5PKJ/3IKbvkP7621SobI2rJqxwxXBVfsVS\n",
              "DIwWnQjfEnga5Anq0Ioo06kh7fy+dxZs5CYSTIL6B/kKHaKge2SzSpeEHTDg4ErKQu3ztbVWhnpu\n",
              "SIR5rc1maGVDEg8EdJHXU1TOkiWvFTFKWjSxBZvLjH80pzVglj/ikBBdKo9kU4pLnDItK8F7ijyF\n",
              "yxcZVnefkgdYp78cDXPk0ek2v5YuU5FT+KPD0g9UgcmI4wnfm4oAAADAQZ9SRRUsL/8AAAMAM4rm\n",
              "QAF67ZRjO9LgnNdRPu/Bdh6nsvJOLphajcxb/fihILphShUwroGsK7lX3gWZg5Bx+20cvKnqe+CR\n",
              "QKAIfcSnG+DNNz79eVjz3e1mJ+pKFAFCApx3tbbOgbUAgAP34T7d8oe/HhIfDSkdAy40xibm0oho\n",
              "Ctt3dyMTbZ+dqTclRl4Zcwi+lRIT4RWUEgrRNC7WSQCyGngkC1uI0XhlZtoBTL/3vFlM2aqY8j7O\n",
              "JZAAAAtpAAAAoAGfcXRCvwAAAwBFniIAQpnA84WBL6fgXss3a4jhbEID3iHg24bfCs9AmzujOTW5\n",
              "xVTyZPyf78QOm0ZvfNkt+yczmWm3awmIAU424AaM5wfPI/6v9o050ZGt5J8KzV7HwHyNO7dv88bE\n",
              "8SW8kOc2dsgXhRYfRpJFDwRdAJi7AVi22+xtUTFXx4z3FRZN/BHQYxgTPQ959SEWi3mf4AAACLgA\n",
              "AAC+AZ9zakK/AAADAESFMVxACBZ1TtWsOkmM+GU07YtAzXjCKoVle/chL6DDBKA358Xx40bZulsk\n",
              "Mram/Ps0v+kKx7bMZfVK8STzIomZSBeTv3AyIqz9H3DoRLPiOEHAlEWuoVuFp5cF0tYffXuiBPCv\n",
              "2iW4VThLJKRoY0V6Evg7NdZPMClORdQ9CuvDiZs4UmBzWJ1UmDi/+qOygVcrtHusCc1eESufBYFP\n",
              "SkbWKPPLCQOR7Z3XojOqR8YgAAAEnAAAAvxBm3hJqEFsmUwId//+qZYAAAMAOkN84Ay26h8O8ASa\n",
              "1WwXyjP/RAxiqz0nkL1ABPCALx4Ak++JRteM0In9t2xFC+/diY/x4WK1Mu/VZ9h2H9Baaz5MXH+u\n",
              "J3tJaA8cEf6/yVTIywHHtVlaTz4+dOUJX6zjFZSx6k960ULxasYAeE1al4JAqw23UCIuYQVTlXvC\n",
              "cJHfO2Vab7v5QKgja8LMThHxhyjI+gqk0Rxo3CKU3Uz33JvTLkJpzHzDWChvPHIkPAED0D1oDdBh\n",
              "Uj8eMU6uX8nuCiCIR+nN1BXt0VBdWSMOp47hCWDoE/avfUXte9BNDCsLehEYQjeaUL8l1lyXq1hq\n",
              "sygFfPxF52V0v8dYFtwV01Osv4wBioPMNtfASldu7ald4y3IHbgCKxgZZWcl/lf1OPWtV9+uwV6d\n",
              "GQrZtL+3yhBe2oJSYq08oBX/9LQzI3uwcpM0YvCKQosMw0BCuQ+3hpycRntoFmk5AWGPeDnx4fso\n",
              "3c+yKw2Yao3xXFr+0WRe9RkfZMpt6/hZrjznc/Bag2VZibmm3CPBIvV6lu81Ae1T3Ifd9Df771gj\n",
              "bqMdfKQOFDmr0YqyLJeYXCDZ+vMlTXlJJgF3aEYmaEvQk3H5kLv7P7kAJ2Lh6FqKqV+juXiGsoGV\n",
              "YaCt2aM0OEKAIDMlbCxbUKTCoXw3xXcc4z/32qOKee1uVe4ZPNAtIHzlzbhk8zjrmpNXWDoclCuB\n",
              "VqSxvt8JhjLLPePE1htFykD97G9+bkQH0NCdES33WWzCiraQImHYGYnpqZ/bKY0lqjqCp4x6FngR\n",
              "voTVRcYx4c+kjS9mQ9jA4gcuPIxeYLeQmmoRugoT6z3pQqSjFW1E+RXfILpw4F0qqGJ3+2wjYhCe\n",
              "XaDoZtfPsLp/UUkNt7Bezvn1jvhBL+EIYaV5sMZDOjEhX88gkTyPWVgP6dD1lp0bdRtWAXNsc9+R\n",
              "0H8wEa5S+lS7g/9QDzaqH5lqrIozDoEfsR2Ue+hl5kcLVTbM1Una+9hJab3j4AABWwAAAPlBn5ZF\n",
              "FSwv/wAAAwBFZzNexRxGsQavf+vj0eIrgBBjrkalwIffNKoetFFj5Obe8S7OugcdgSdhcaAUzCj2\n",
              "wXDaTkYjN7LUj9bIetXJ+mDS2lwPQj+HZ2qy4a2v+fNq4RIEJ3Wk453aPCyC3TKaSYtKG/okW93K\n",
              "54Hc7PgYimodxnFlrF6GOMatIylpbEvWVcT1gEtZJFC8SL1XbRhAs/EoeMjm3pC/EVpywYWc3BIQ\n",
              "2GqyaRaAfPXd7TuEWwqM0yW+KF1vyH99hfREmJwNvDQCaMKJlvnFiy8dgqNdQ92efc++k21lswGs\n",
              "wJdIWtukOKl7pL3oAAADAVMAAAD5AZ+1dEK/AAADAF9/daCpPWcrGUJJosU50wAgWJtNz9MtTaNg\n",
              "5WE2mfIXA555uLssvR+1jozKlqnrO8dHAidZkoYS+AtI+kPGoZU5Ovd/Rnqsf14NGd/pcVjruQY6\n",
              "TaDvJrKziqBkGeQQ+BegYonFoALNxN2qgBw9pcV1fxGnhqnucwzq+qqnPIbhFfoaWIoEXY/x4Mc/\n",
              "gQ3jcDTlOqWJRbralrYM2oXBt5W9dSFVAyROC4R5LA9ab8fNMvyOwmvRlJ5KDJcmT0y3XK8Uj+Ky\n",
              "Z5M+4anSg8M43AMuGLlqfCG28jmtH9fU7eAA9bjSmbUpBNgb5kAAACghAAAA8QGft2pCvwAAAwBC\n",
              "bYcREAIOrHz9YcCW/UOtbmfzamTaJ3kxTf3FakbmSDc8MZFBnEndpXIqVq1rkJq0M/R/DvJvDbPz\n",
              "bDIWjTvZ2T0FrhtKz6YHvZve+ecFbZIb6uXMvsyH1crQQsf2JwixequxsZso5L1XXzy5iOPsNotK\n",
              "nlT8xx/c/JjwfGHfoIgzXiEtM6Kf78YhG/6OYFjJSSdL8roOMgKP0TcTPfh6fYkN747T5oZ/MC5d\n",
              "oV4JQWHLTn8r5i76RtllAqqsXuQuoBbxFwb/r3ZxSECYcOccVgFBXxkHJrjfhrdCzEon1EkAAAMA\n",
              "DwkAAALCQZu8SahBbJlMCHf//qmWAAADACu8Le9BcyOEIAR8t2MFU0BOpD3szHAw8FvV47miEfSI\n",
              "59eyBY24LAKcxpAuDG3w2+WDDmJJay3Vv1elXn5XPPq0sBsKs3HRbMGQN0wyPKrynoxNlwyYnrHW\n",
              "dckLOJ17Nx2ZoHrsPmusaTsmvKOGdmHkWZ5tGnsUdRoL+FY9rQTJW0La4xz7yiPH+hYBvTq67Fwg\n",
              "b/FDSlJVw0jWK+aNYbwtnMR+oDm7VqwBICPyBzDLQEpikdooqECCl1E+0zFE3Xt+s46K5cziLFE8\n",
              "eIepmj/9X070sfvdQ6RsttRXMHn+Ni79LEoXnIZ5r0A75fC52xJER8tzef+Vj9aeoVpQXDo68+S2\n",
              "uBs9bzy20j8CjmP/Z/GBHRnLwwBNO7WqaKKjf8fvOg0gXywoyuK0aduWTF7AC+quWtKa7p+Ly/Ri\n",
              "d0LBfqbl6V03VZbccDF1P4MpekEHO5s9e8rUlR/8a1illgRgp8gsWi8plOlocfAiZLoDAtVHe/mm\n",
              "sRwwTCPC30U5lPkBgFG3jZ34ZxjDdFTa/iXMGrxGyBQY0glHSIzdKxh1x+kjaqTiLrHPSvHsNRgP\n",
              "K9uLSnLquVBrMIHJhBUptnqNC1Zivsg4MGl1rThVSYmCt60kzUP8VAi06yYkgzrLalGkdnwQjqoT\n",
              "rRSVvxfaEmMfbkL0UqCgH70scDRfHHZpDlPMxkDlso8tEdWlOds6nxbfXpWcb0+fPUiHNV6FD7pR\n",
              "uJ13xITzyKQCErA+WVRdu1HtbiQeoJzp8REXgI28LwOeJslkejPC87hMDzCQYxZCjygBwj7dU8Se\n",
              "gt2BHL3bd3Vx9XI61YbM8iIo+TbZKDXWMdxSTTxwNBzE7CoekQS84zwOSCMLFeWl9Fy+zvNOUeK8\n",
              "Tvnrh83IupBqWgY1nTpBLhCod9JHQocHyghRQAAAAOFBn9pFFSwv/wAAAwAzgpgIAShYunRS3cSY\n",
              "r78HhEGIl6jGAeRfRcjaONch+rz4wig1By/6nVogeleemP441PGs+A8Co3ytKpaUhhZAL1Nzzv9o\n",
              "tkBbNKwxiLc9A/iW40qZcIvnI8zQ/MfXGT3tH0TiAOK2rz2tSLFVfQdPwmtMVWBrqFCV/mGQCzvB\n",
              "D4iH/a4elZdls7mAPBSI5lOAJex2NCp6mCHv3di7sEWmvtT74ncmYluU5sGRCz20SY3pLAFYmGtE\n",
              "IeoD8+bhrLpwotrHUlExM/v9rVKEX8oAAAMACTkAAADkAZ/5dEK/AAADAEV71I5keuACAeEKEJoS\n",
              "wHV0djqcfFStT6Y3BQHhd3k0al4KK5bCob4kvKto94IF3X15Aj2raF9dp0Js056Q0rxW5yRqhJC+\n",
              "YUzrwADXxQH8HVapSzOu1XYxkwr/KdhfNgJ2Z8gy0NaD2xzhT6v6ClJnRNW4MNRQpo26ogoS6Biu\n",
              "ec6ctc7WINawJBb4N6h8TesLAqTfZimvJ6SAH5ViTTWfyaFDQ8iPEc+bRQOs7ssW6ElyhJ61UL6J\n",
              "IrytzutcAWilI3FZbrgRtWvniO0L2BkmkVuqRQwAAARMAAAAtwGf+2pCvwAAAwBDNy5rkgBMNJvx\n",
              "X2aFTrn1MGIVHKfpf9v1RwNverL5EzwPjGz5UWWlH/Y0MEezf7R8YqrXk+SGDXjtlhqaEf/7exJz\n",
              "xI/jZ0y5wH55FF1PRiXUDH+E+Cy8tGpgVTyFokbkOi5T5yTvmPHiy3EkfAu1lR+bpuOsMdcxk+10\n",
              "0TPasgZIYgytHqxwV2Cu2VZEigxQYuFYtrDgVmuFWnJ7eZrdZoo35Zo7Rd8yAABSQQAAAjZBm+BJ\n",
              "qEFsmUwId//+qZYAAAMAK59gDUAG+u+otDyk4E8hryRY7SR/U3gcyXUIJjaopkJA8j+Z2FYyppdI\n",
              "4SIfw/gaXwhH/O1oWDCN3ILgksdLthjZmmJgE9nWgcQ/85QZveLetI0oL/y0FN8CSJSaqKOE+1ou\n",
              "wBIMermH2Z6ViLEcXVfZ0VG2aqHwJ3R7tmAmc1fX9UTeM9mWxmBWDaupNrSBcnPc03yixPwC2/lU\n",
              "9NMAvWjut10UyiP2IoxKA0SMGHrVfgeEFkRHNVVSoRHH3pgcHG8msZ+4dDO9X4VkJtjTCCWFEo/F\n",
              "jOfnxH76Qz3d5zIbrikQp18vhIuFbLx1sQlQcGvkNmye168jSngyYJrC8F33lyj2AzxA3MBNXjPp\n",
              "1DESLh62o2Gl3nzSV+XD5UT1OonNh9UIdiqMaT9hqxelwqJ4pQWLz3wc0M48E0roSWTXsEDLfh4V\n",
              "NBrEHY/oyywBfp+DD+sd72LdJjRhbDzTVLL4yXTW5c7347jLfYV2c3quuXGV4UQnVjRmoa61OXnu\n",
              "Uzbb+BIIUiGVvgF899gVlLGzIv1dHg8sA1dIOyC3T0hJBcXHI7dsVOlnzhshdO/6Mo7YBm7vtEQh\n",
              "Uz/qPDd4rGvQHsIcVbv2dwGxF+Tz+84TopM50fa/PXbQcm0Rx+SCKTUonsIy3/NirFetcZjrGtMg\n",
              "+WduMiP+1X9JKGH3DqbdKlpyHcmf1/Fk0zn2QCs56MFaOsKxzRiqlPufTAJ4AABCwQAAANpBnh5F\n",
              "FSwv/wAAAwAzkRJ+tACApJAd5WjpdSeLI7kDYc7jdyuNwdPT9xHzkv1HOaSAylUu1SJql6kdWORb\n",
              "BbFEQ31uDKINBextj07qh7qkv6/hTw6fZ6EZL6XjUr1P0TMbCsBLn1PfF9BrGmnjb89ISGv32OWY\n",
              "yX6VIOXT7bCUb1Fyhr15yXIhrb4FRoEfmBMSQZj6W3Be0z4wfy8/fbAQukQjiZPqK8LI+bjSnCCa\n",
              "CYu1CSODbEHUY3Ct5q8aqXdLYkXigiiP5Jy6vXj8h3/C6flr0BCAAACmgAAAAOQBnj10Qr8AAAMA\n",
              "Q2xxkQAgHd5JXsipRl8Jvof+YWkLoHymK5VvPDU2+gm/lXsFrebFh/OzYEUCQP75xmottKh+Wjn6\n",
              "2W9eb/QVzSCf08p2mPRubN+b8tz1q4enThl/C1mWm8TIpDhxRA5aV/m8pjOAl92dSuZYPQTjARRk\n",
              "id5xndtvIkLhx4SRZBjdpRNmQu3waBfxqjkbOBi/fTXaSxIi3fP9rmIFbcJr6JU6eqOajMmY4xvs\n",
              "baNcI/FogFb4Caxhw/eN1GOpJA48Os9fVPc6470O5Z5DpPv5kOUJNQQAAAMAB1QAAADLAZ4/akK/\n",
              "AAADAEVkFePAA9lAlU2YFsXr7zpppH6KYJX4viyK3w2ix+/3OcknbFRzq+rrOdXuAq/6+/f4x9Cc\n",
              "kKnO0hcYGY+MofyRtP5ml4dduiZYh+uQl6cm7jsAXwd9fcT2LjKxp5HFXog2R7+QeSqCFX6YTX+7\n",
              "jhOgoDAdCnj2NWmc4XHPaqVbYyI/KpS/Ve9IGDxaHSifn3s4b3A7cDvPNJS7PChZdpssn1FaUr4x\n",
              "yPQImB+l8n5tmACY2ILeMYLzwODAAAADApMAAAHzQZokSahBbJlMCG///qeEAAADAFZY2OQA3ZCM\n",
              "btMWNmox75NAgrJmlLgQXeSst9c/zgIrs4p65xy+m/jiugp9DFUCg/g94BeQEI+lGMONjf3XszQM\n",
              "8gPblbnh1V4d4nRR64pTJpnLM2Q8mCyg9jvVNUZ2/ol8RKC1RD6WkoR2c9wwNpSv59r48FVceAEs\n",
              "XgVGjoWg0/MEg0PxWIh38HPREyhwM2VimOW+eaSGp/6Hp+nQ5xupxJP1HUuDaFJ/gBDCLFnM3RbZ\n",
              "53RjwxGq3bRytV2cTyVS527fNiDQb+DPmrPPOGn+dkQ7awxYtqQYoTcvCImMaUpYUlviizZ3ZTv5\n",
              "+x5WZaobBlpqWyMq6vbGOfONg8V7t5krfruOxsucmNDuDDchgw/Uf4o8bROlF8sE/MyjDduVadtx\n",
              "JvJ1oBkLL4SMPNOnXiZkfYW/T+kiGD5rjFk/91QD2qiXamBENFTstj7Cm88u3Ohcst6545tz8Cn5\n",
              "k2l472S6JJfNajvoCeU/VkXqoDVQxj/cTVYsz4xgB2tNR3pF6FA/8gU8nnJz++xXPfFCURPLqTl8\n",
              "07k6fIHrFYAcw++l3/fLUkeZ2yc2s9eJr0VHwFJdEhqleISn6AD9a5ipqdD39/GTU+ek8Zqnflyy\n",
              "ZgV//SRzP4MsKMErgAA/IAAAAPVBnkJFFSwv/wAAAwAzikcGiXB8wAIOljjZRsXQh+/2sHCTdTq6\n",
              "DHeIUrDvet7SDJ/N8oGTqpHrsm43G4nFSbAdT+sMvoA/Oyqc8jjqr3q8DKdN85N5NPwMOs8oLc6X\n",
              "kj0wbB4285k867e/0CYJ6urq6kqBzpVytxDrdRGDR0Rh6etmZDfMj12Etx3lwtpqteZ3zeAG20qq\n",
              "cRGnoDSFL0/J1hwp3iXyN+AfIMM08LllqOqKpQ0huV4aPXj4qa3WxL/e6oFMOTsOZLsd6h0GYfbu\n",
              "RjREAI0IWO9zW0f9tsr7zmaWnaWipFNF3Zxwthe980AAAAMBLwAAALcBnmF0Qr8AAAMAQ1F0qWIA\n",
              "PxYdoX104xA/xCYKHZ1b3TTYuCthuqCKTAerhp59FrI50tiSEPHrRuRZpa7K1TYcYByuht/rpLy0\n",
              "Plwd22GJkgNXLkPVk0myEQF/MitHLqyr++GQpQR5C5HejU4PrAHi8kJWRdm6ektnT/HHOYV1tfT3\n",
              "MmMvNqsXQOpnfZ60GmcheI3+ac2qaOeb6jBHwWlQFAhwHc8WVEp1bohbHc2fZ8SwAAADA2YAAADO\n",
              "AZ5jakK/AAADAEV14uAEACDd4Ig/I6wucL0ExsbSwuitgNh/KF+Xml/wKTscTES4W1knsjzKE5Xr\n",
              "7VVnKyljjdsuSnmwkXHt3eTu6OR4U+bWSH/pr1DT/CSYQprQAgvpXg+dpRF0pnPsidxP1+FDFdcy\n",
              "hByvpB2HT2YzAPcEKG8hHnhmQvYs2DR9DOV3cDk5NzUqmX1+/+sXnf27/1zbtjthJrHaB9SbhTs2\n",
              "MStuuofW3CkXaFIPiBDQM9RGXSXToaN8zjFjPHHqQAAARMEAAAIJQZpoSahBbJlMCG///qeEAAAD\n",
              "AFQDVG4AQG+FqU58PbQduP8Ek7wPG1Ws02xPnUcVGZg6qT1RgTDm5wD1K32vcf5e6p2o/3xZV5E5\n",
              "A4gqUAEEt4eIz+99rXukK64cmhoq3o5QoTE5/rCE+IVSiVXWBZdjA4S1MpELU/ejKC/v8Rb2iB17\n",
              "dscY32XBRp/Novo9ElBOtf82IYeJNT5n53zo92n55MzRBpZqCHZdSgXhwjxKkVTwACqMFGMbAXDi\n",
              "WT/8Jaq3A1j+rSWuctGGij6LM39kbVKFPK4aeZiVOjIPunfrrK6hzx1goIn7wWvRjdYsQRaf1mN3\n",
              "YdZ6ssNdvsp/Q8hkpWiXbiIJK7Ud3i9kxUuO2fxi9kHNCwU1vF3lqbBzqyCWQaEemtWGEP67ZM+w\n",
              "PWIm8HBt+ILGmsXCVoIE6EZGCLR7nkMfMqbiwigfhkR6uFMt2WYnvB5jOVfZ546mqgN/ZM2GmLPC\n",
              "h6l2BJQO+oGP4Aspc7njCJ/nPvA3RltFIw16UIxDwWMWh1vFs0ddEdTluPs2FeR/+DTtaunfxbCV\n",
              "LhmRQ9XIBruL4+WX68TldN3XMebwec03PAHwLffmsSqwEaFJR1AesiVidSbeEO9yMr5xgR9WBWXe\n",
              "0YMf0xx/vrxWHU5f0QSKK+hQWJtid9zJFmAZLScHKl3qXLMi2fTCnQ8wAAADAr8AAADjQZ6GRRUs\n",
              "L/8AAAMAMZ4Q3DeRk4wAQ3hww8KtyO8LVyQhsHje4VWscA3PNnBSDtCfEkO+kDXkgFdqHtA+/Fjk\n",
              "dTtfCxqNinBoxfqK/okOCu9mE/mDhP385xu0AlhjAenyw38+rWmtchaAbgJ6gIuyZP9SBRMkZxBu\n",
              "C+X99T2zpOqotFWFMzJB3yZOpNAIOTBaTl85nfNw07TZBG794KzUTv8FnXPC9xVBslqCR2OjoO4h\n",
              "5LlV3QVy5ny7bbzxTK/IYlVtW7CaJT+wdtX9UDTkS6IwQAiI2oDJC+N6/R8AAAMAS8EAAADJAZ6l\n",
              "dEK/AAADAEKHj3EAICSYLxtWT6JqPqNsasn2BM099egwLmN+FtFM4jCc3awhjSqH0YnjcjHbF4yp\n",
              "6Puq62oxJEJYQGspmyDEaUec5Mm/Kyxs3mQwXa/vCGDuMNSxdkaGT7dYTcpVJ7nBjH/O5oKrmA3k\n",
              "tS5wCytRF4wMCpMt2el1TVDuxXUTKy6B2QX9+4vmWLhUoMQKRKnrEW571Pz44uzri84YWgQsekEd\n",
              "elhYFy76QlgJEepzEJErI36KcTTPDqAAAMuBAAAAygGep2pCvwAAAwBCd+0CAA2YX14JkKn7INgk\n",
              "7NSNd02rbEN7iB11k+iT+oyivboHm6Sing5W/Pr7S7bffn2BTS8zFLzjNp4LDutzB66tAEUW2dlu\n",
              "aWIntoNm+8PftJgBKIU7SznZUVrWf9GyNm9HIxaRnrmVn9K5j/t94/PxbI/PbWvJPeAgyXGp8I0o\n",
              "iRtDaYYBTnDuYqR1KAIuluZPmiY/1AXujRGIdEqf3icdfU1VuxLXSxnYyaETeGa1CCydtLdyzn5A\n",
              "AAADAXcAAAHrQZqsSahBbJlMCF///oywAAADAVTfHlb0027QAeRKQE8enuxHj+a3GiIbz2RyRxlB\n",
              "hlladL4njxiSN1gEZq9WOqttnQWUNZTzTVgqoTUCREMnULV1TL/JmITuxPypWuQlCku2XCv/aOFi\n",
              "X9DZ/kxTOPY1FC9+aGk5p3WmKTpB6V9QpamKTDuN96Wj9tsWKtl8oxPvd/dukGogFfVSjJMnR/qS\n",
              "jiKc982h4FSJzKlRQtv9kovrpYH5zjgT3XWvcYXavms+ssytnaFkPq5QefLsY/EBjVAqJ/+N/U/7\n",
              "FR8uSA/DiY0DcZCzmmAIYa+QKW1/JrHQRdEG236iDAy3cx0uiaZQZJwv9LSvYlO9EXDKV866nonn\n",
              "pdjumzJIDl2/HqJCtWGKnXg6nnzczNPSdCLvpQ03Z439x/v5gDwH20uU54jhddv5ReAQCfEA6ehj\n",
              "y+Z96C5qoGw3RVLlLGOulWlqMf5Lp5J7D6BomxSTJhgM+DPUkr3LoikdOxYW5e6bMdSSNjgWgOTM\n",
              "CHCP6YasnaZapBd61TWtRld89LVQkpxoSkSkd7dJ69Edc4aCH0llT66sockVY1QJi1EondScfRYR\n",
              "xmgnYLmEv6rkg1OZrXIsEqEOIzxXJdONyxZuWZgHsgtqkr5VMlfYiJBodWAAAAEaQZ7KRRUsL/8A\n",
              "AAMAM4FgMFFF1yEQANoNKL4z+JmJc/mlqvUPbyE9Ep1Pp42d8dp51y6dUH/b3zBScjEUCFts82Fm\n",
              "LlLT7LbVBD9i88GJXa06ydC45s1sSpzfGv/vcU1E4sG2LPlvijHGdbbitJ008lvdoD8yYLN1QHuv\n",
              "Z57+aRmz2fxtA29gfm5l3l9Y/Pst3vr2xsdUMXu8WmJXdJuYTgknG9/BVn3WKyDvPk53Bd2ORarm\n",
              "npEPlTrXqeXe+TOk6v92XWMska3FSHaPj2PhzkdQNyqmKUxwVFYz3ZA+x9ZO32V5WEUtWitayYxR\n",
              "8fiyFi/cJ/wgdwBk9PRYMxXCEl0z4uCJTPFn1TrbmO2rnY2Dochhu9IAAAetAAAAsAGe6XRCvwAA\n",
              "AwBFbOr+eAEJzsubYBNQ8xZtF/0WdCnJQdXRgbIcN98Z2eeD1ef+DLbh6Lv/aXapdEbR48SiltEY\n",
              "r1BKJ53LTk54HrqKvJAzwvXEGkbTeQNInuQAvDaowhxjCR6cQRFqy2STRaiDLgB/XEjTtoDVYbdY\n",
              "bCpO8habnxXzUDxJVua2Q8kqtMchuxO9kv33E5NlYrZJbE1PH2FoEklwZD3AJvDtwAAAAwH5AAAA\n",
              "vQGe62pCvwAAAwBDSOH/JWxACD9QLrKjQQS2d12PsypA59pCxN5u8Kt67GFfql9OMjnzB4o2phrg\n",
              "C1nFiQFkurqWvaXLX1W/qG8po/aSxtxJkkDwk9w/wijT3i8O+PfGEmsdpqhelVuq+AcqIMPzizNj\n",
              "fk7Z1LUyZ+GolpD70yg3A4PxVFOq1xYpp9GHTNgwhRai99Sz0aZFDYXXdCq4Hrtam6ndXkTsx9lH\n",
              "1cZCe6luUlMl7XQs0ZuIAAAGzAAAAJZBmu1JqEFsmUwIV//+OEAAAAT7badIAQjeKYEMAcZ5Wvqw\n",
              "Qno7UqI6lS0ToTLzckvt5RY5grbvpeAt2W9sZlE5VYj7YsMo2xKSTKUmgYTjuQPn7zH7eu1tYfl+\n",
              "HHRF6KDr+kvv1BiOCPusCYDu6P7K0t4Qzp4jl3j17HEXCQoQjD8xOnhEFZHCDnCyrhN18d/mIAAA\n",
              "l4EAAAbcbW9vdgAAAGxtdmhkAAAAAAAAAAAAAAAAAAAD6AAADDAAAQAAAQAAAAAAAAAAAAAAAAEA\n",
              "AAAAAAAAAAAAAAAAAAABAAAAAAAAAAAAAAAAAABAAAAAAAAAAAAAAAAAAAAAAAAAAAAAAAAAAAAA\n",
              "AAAAAgAABgZ0cmFrAAAAXHRraGQAAAADAAAAAAAAAAAAAAABAAAAAAAADDAAAAAAAAAAAAAAAAAA\n",
              "AAAAAAEAAAAAAAAAAAAAAAAAAAABAAAAAAAAAAAAAAAAAABAAAAAAlgAAAJYAAAAAAAkZWR0cwAA\n",
              "ABxlbHN0AAAAAAAAAAEAAAwwAAAEAAABAAAAAAV+bWRpYQAAACBtZGhkAAAAAAAAAAAAAAAAAAAy\n",
              "AAAAnABVxAAAAAAALWhkbHIAAAAAAAAAAHZpZGUAAAAAAAAAAAAAAABWaWRlb0hhbmRsZXIAAAAF\n",
              "KW1pbmYAAAAUdm1oZAAAAAEAAAAAAAAAAAAAACRkaW5mAAAAHGRyZWYAAAAAAAAAAQAAAAx1cmwg\n",
              "AAAAAQAABOlzdGJsAAAAuXN0c2QAAAAAAAAAAQAAAKlhdmMxAAAAAAAAAAEAAAAAAAAAAAAAAAAA\n",
              "AAAAAlgCWABIAAAASAAAAAAAAAABAAAAAAAAAAAAAAAAAAAAAAAAAAAAAAAAAAAAAAAAAAAAGP//\n",
              "AAAAN2F2Y0MBZAAe/+EAGmdkAB6s2UCYE3llhAAAAwAEAAADAMg8WLZYAQAGaOvjyyLA/fj4AAAA\n",
              "ABx1dWlka2hA8l8kT8W6OaUbzwMj8wAAAAAAAAAYc3R0cwAAAAAAAAABAAAATgAAAgAAAAAUc3Rz\n",
              "cwAAAAAAAAABAAAAAQAAAoBjdHRzAAAAAAAAAE4AAAABAAAEAAAAAAEAAAoAAAAAAQAABAAAAAAB\n",
              "AAAAAAAAAAEAAAIAAAAAAQAACgAAAAABAAAEAAAAAAEAAAAAAAAAAQAAAgAAAAABAAAKAAAAAAEA\n",
              "AAQAAAAAAQAAAAAAAAABAAACAAAAAAEAAAoAAAAAAQAABAAAAAABAAAAAAAAAAEAAAIAAAAAAQAA\n",
              "CgAAAAABAAAEAAAAAAEAAAAAAAAAAQAAAgAAAAABAAAKAAAAAAEAAAQAAAAAAQAAAAAAAAABAAAC\n",
              "AAAAAAEAAAoAAAAAAQAABAAAAAABAAAAAAAAAAEAAAIAAAAAAQAACgAAAAABAAAEAAAAAAEAAAAA\n",
              "AAAAAQAAAgAAAAABAAAKAAAAAAEAAAQAAAAAAQAAAAAAAAABAAACAAAAAAEAAAoAAAAAAQAABAAA\n",
              "AAABAAAAAAAAAAEAAAIAAAAAAQAACgAAAAABAAAEAAAAAAEAAAAAAAAAAQAAAgAAAAABAAAKAAAA\n",
              "AAEAAAQAAAAAAQAAAAAAAAABAAACAAAAAAEAAAoAAAAAAQAABAAAAAABAAAAAAAAAAEAAAIAAAAA\n",
              "AQAACgAAAAABAAAEAAAAAAEAAAAAAAAAAQAAAgAAAAABAAAKAAAAAAEAAAQAAAAAAQAAAAAAAAAB\n",
              "AAACAAAAAAEAAAoAAAAAAQAABAAAAAABAAAAAAAAAAEAAAIAAAAAAQAACgAAAAABAAAEAAAAAAEA\n",
              "AAAAAAAAAQAAAgAAAAABAAAKAAAAAAEAAAQAAAAAAQAAAAAAAAABAAACAAAAAAEAAAoAAAAAAQAA\n",
              "BAAAAAABAAAAAAAAAAEAAAIAAAAAAQAABAAAAAAcc3RzYwAAAAAAAAABAAAAAQAAAE4AAAABAAAB\n",
              "THN0c3oAAAAAAAAAAAAAAE4AABKiAAADaQAAAX0AAADhAAAA4wAAAwoAAAD0AAAAwAAAAN4AAAH4\n",
              "AAABGAAAAJQAAACYAAABwQAAAR4AAACvAAAAvgAAAbEAAADlAAAAuAAAAJAAAAGwAAAA9AAAAOcA\n",
              "AADCAAAB5AAAAOcAAADRAAAAvwAAAtYAAAEDAAAAyAAAAMEAAAKRAAAA6wAAAOYAAAC7AAACJAAA\n",
              "AREAAADGAAAA/gAAAiMAAAFRAAAAqAAAAMsAAAJfAAABAQAAANcAAADGAAACWgAAAMQAAACkAAAA\n",
              "wgAAAwAAAAD9AAAA/QAAAPUAAALGAAAA5QAAAOgAAAC7AAACOgAAAN4AAADoAAAAzwAAAfcAAAD5\n",
              "AAAAuwAAANIAAAINAAAA5wAAAM0AAADOAAAB7wAAAR4AAAC0AAAAwQAAAJoAAAAUc3RjbwAAAAAA\n",
              "AAABAAAAMAAAAGJ1ZHRhAAAAWm1ldGEAAAAAAAAAIWhkbHIAAAAAAAAAAG1kaXJhcHBsAAAAAAAA\n",
              "AAAAAAAALWlsc3QAAAAlqXRvbwAAAB1kYXRhAAAAAQAAAABMYXZmNTguNzYuMTAw\n",
              "\">\n",
              "  Your browser does not support the video tag.\n",
              "</video>"
            ]
          },
          "metadata": {},
          "execution_count": 51
        },
        {
          "output_type": "display_data",
          "data": {
            "text/plain": [
              "<Figure size 600x600 with 1 Axes>"
            ],
            "image/png": "[encoded data removed]"
          },
          "metadata": {}
        }
      ],
      "source": [
        "# create a figure and axes\n",
        "fig = plt.figure(figsize=(6,6))\n",
        "\n",
        "# Create arrays with the latitude and longitude coordinates for plotting using pcolor\n",
        "from dedalus.extras import plot_tools\n",
        "(X, Y) = plot_tools.quad_mesh(np.squeeze(x), np.squeeze(y))\n",
        "\n",
        "# Define an animation function\n",
        "def drawframe(n):\n",
        "    plt.clf()\n",
        "    concentration = plt.pcolor(X, Y, c_save[n,:,:].T)\n",
        "    # Specify the axis limits and labels\n",
        "    plt.axis('square')\n",
        "    plt.xlim(0, L)\n",
        "    plt.ylim(0, w)\n",
        "    plt.xlabel('x (m)')\n",
        "    plt.ylabel('y (m)')\n",
        "    plt.title('concentration, time = {0:.2f} seconds'.format(t_save[n]))\n",
        "    return (concentration,)\n",
        "\n",
        "from matplotlib import animation\n",
        "# blit=True re-draws only the parts that have changed.\n",
        "anim = animation.FuncAnimation(fig, drawframe, frames=len(t_save), interval=40, blit=True)\n",
        "\n",
        "from IPython.display import HTML\n",
        "HTML(anim.to_html5_video())"
      ]
    },
    {
      "cell_type": "markdown",
      "metadata": {
        "id": "tTI5GiByPj1M"
      },
      "source": [
        "## 2.3 Student investigation\n",
        "<a id='section2pt3'></a>\n",
        "In the boxes below, plot the pollution concentration at a few points as a function of time. Then vary the maximum flow speed and the diffusivity and explore how the pollution levels depend on these parameters. Using dimensional analysis, estimate the time needed for the pollution to reach the opposite side of the river. How far downstream of the source do you expect this to happen (assuming that the domain in the x-direction is infinite)."
      ]
    },
    {
      "cell_type": "code",
      "source": [
        "# plot the polluion concentration against time\n",
        "\n",
        "plt.xlabel('time(s)')\n",
        "plt.ylabel('concentration')\n",
        "plt.title('concentrations at different (x,y), U_0=0.1, kappa=10^-2')\n",
        "\n",
        "# at the middle of the river: (x,y)=(L/2,w/2)\n",
        "plt.plot(t_save,c_save[:,int(Nx/2),int(Ny/2)])\n",
        "\n",
        "# close to a riverside: x=L/2, y close to w\n",
        "plt.plot(t_save,c_save[:,int(Nx/2),Ny-4])\n",
        "\n",
        "# at the end of the river: x close to L, y=w/2\n",
        "plt.plot(t_save,c_save[:,Nx-1,int(Ny/2)])\n",
        "\n",
        "# close to another riverside: x=L/2, y close to 0\n",
        "plt.plot(t_save,c_save[:,Nx-4,4])\n",
        "\n",
        "\n",
        "plt.legend(['middle','riverside1','end','riverside2'])\n",
        "\n"
      ],
      "metadata": {
        "id": "JaBK1Ahqe5As",
        "outputId": "a4b25936-9a77-4cc8-c91a-eea80705eacb",
        "colab": {
          "base_uri": "https://localhost:8080/",
          "height": 490
        }
      },
      "execution_count": 55,
      "outputs": [
        {
          "output_type": "execute_result",
          "data": {
            "text/plain": [
              "<matplotlib.legend.Legend at 0x7c77a8b89480>"
            ]
          },
          "metadata": {},
          "execution_count": 55
        },
        {
          "output_type": "display_data",
          "data": {
            "text/plain": [
              "<Figure size 640x480 with 1 Axes>"
            ],
            "image/png": "[encoded data removed]"
          },
          "metadata": {}
        }
      ]
    },
    {
      "cell_type": "code",
      "source": [
        "# plot the polluion concentration against time\n",
        "\n",
        "plt.xlabel('time(s)')\n",
        "plt.ylabel('concentration')\n",
        "plt.title('concentrations at different (x,y), U_0=0.5, kappa=10^-2')\n",
        "\n",
        "# at the middle of the river: (x,y)=(L/2,w/2)\n",
        "plt.plot(t_save,c_save[:,int(Nx/2),int(Ny/2)])\n",
        "\n",
        "# close to a riverside: x=L/2, y close to w\n",
        "plt.plot(t_save,c_save[:,int(Nx/2),Ny-4])\n",
        "\n",
        "# at the end of the river: x close to L, y=w/2\n",
        "plt.plot(t_save,c_save[:,Nx-1,int(Ny/2)])\n",
        "\n",
        "# close to another riverside: x=L/2, y close to 0\n",
        "plt.plot(t_save,c_save[:,Nx-4,4])\n",
        "\n",
        "\n",
        "plt.legend(['middle','riverside1','end','riverside2'])\n"
      ],
      "metadata": {
        "id": "42DrJOM8mcHx",
        "outputId": "a3846ca0-ccf9-4d8b-90c7-0e58152f45cf",
        "colab": {
          "base_uri": "https://localhost:8080/",
          "height": 490
        }
      },
      "execution_count": 57,
      "outputs": [
        {
          "output_type": "execute_result",
          "data": {
            "text/plain": [
              "<matplotlib.legend.Legend at 0x7c77a9fa6470>"
            ]
          },
          "metadata": {},
          "execution_count": 57
        },
        {
          "output_type": "display_data",
          "data": {
            "text/plain": [
              "<Figure size 640x480 with 1 Axes>"
            ],
            "image/png": "[encoded data removed]"
          },
          "metadata": {}
        }
      ]
    },
    {
      "cell_type": "code",
      "source": [
        "# plot the polluion concentration against time\n",
        "\n",
        "plt.xlabel('time(s)')\n",
        "plt.ylabel('concentration')\n",
        "plt.title('concentrations at different (x,y), U_0=0.05, kappa=10^-2')\n",
        "\n",
        "# at the middle of the river: (x,y)=(L/2,w/2)\n",
        "plt.plot(t_save,c_save[:,int(Nx/2),int(Ny/2)])\n",
        "\n",
        "# close to a riverside: x=L/2, y close to w\n",
        "plt.plot(t_save,c_save[:,int(Nx/2),Ny-4])\n",
        "\n",
        "# at the end of the river: x close to L, y=w/2\n",
        "plt.plot(t_save,c_save[:,Nx-1,int(Ny/2)])\n",
        "\n",
        "# close to another riverside: x=L/2, y close to 0\n",
        "plt.plot(t_save,c_save[:,Nx-4,4])\n",
        "\n",
        "\n",
        "plt.legend(['middle','riverside1','end','riverside2'])\n"
      ],
      "metadata": {
        "id": "aWLdk_H4nX7C",
        "outputId": "dbc06056-af07-4e68-8f63-165ac4393b8b",
        "colab": {
          "base_uri": "https://localhost:8080/",
          "height": 490
        }
      },
      "execution_count": 59,
      "outputs": [
        {
          "output_type": "execute_result",
          "data": {
            "text/plain": [
              "<matplotlib.legend.Legend at 0x7c77a6731240>"
            ]
          },
          "metadata": {},
          "execution_count": 59
        },
        {
          "output_type": "display_data",
          "data": {
            "text/plain": [
              "<Figure size 640x480 with 1 Axes>"
            ],
            "image/png": "[encoded data removed]"
          },
          "metadata": {}
        }
      ]
    },
    {
      "cell_type": "code",
      "source": [
        "# plot the polluion concentration against time\n",
        "\n",
        "plt.xlabel('time(s)')\n",
        "plt.ylabel('concentration')\n",
        "plt.title('concentrations at different (x,y), U_0=0.1, kappa=5*10^-2')\n",
        "\n",
        "# at the middle of the river: (x,y)=(L/2,w/2)\n",
        "plt.plot(t_save,c_save[:,int(Nx/2),int(Ny/2)])\n",
        "\n",
        "# close to a riverside: x=L/2, y close to w\n",
        "plt.plot(t_save,c_save[:,int(Nx/2),Ny-4])\n",
        "\n",
        "# at the end of the river: x close to L, y=w/2\n",
        "plt.plot(t_save,c_save[:,Nx-1,int(Ny/2)])\n",
        "\n",
        "# close to another riverside: x=L/2, y close to 0\n",
        "plt.plot(t_save,c_save[:,Nx-4,4])\n",
        "\n",
        "# at the start of the river: x close to 0, y=w/2\n",
        "plt.plot(t_save,c_save[:,1,int(Ny/2)])\n",
        "\n",
        "\n",
        "plt.legend(['middle','riverside1','end','riverside2','start'])\n"
      ],
      "metadata": {
        "id": "aJTkt9Adn05V",
        "outputId": "aa83a919-1798-44eb-adb1-3d1ce8893780",
        "colab": {
          "base_uri": "https://localhost:8080/",
          "height": 490
        }
      },
      "execution_count": 67,
      "outputs": [
        {
          "output_type": "execute_result",
          "data": {
            "text/plain": [
              "<matplotlib.legend.Legend at 0x7c77a6004ee0>"
            ]
          },
          "metadata": {},
          "execution_count": 67
        },
        {
          "output_type": "display_data",
          "data": {
            "text/plain": [
              "<Figure size 640x480 with 1 Axes>"
            ],
            "image/png": "[encoded data removed]"
          },
          "metadata": {}
        }
      ]
    },
    {
      "cell_type": "code",
      "source": [
        "# plot the polluion concentration against time\n",
        "\n",
        "plt.xlabel('time(s)')\n",
        "plt.ylabel('concentration')\n",
        "plt.title('concentrations at different (x,y), U_0=0.1, kappa=0.5*10^-2')\n",
        "\n",
        "# at the middle of the river: (x,y)=(L/2,w/2)\n",
        "plt.plot(t_save,c_save[:,int(Nx/2),int(Ny/2)])\n",
        "\n",
        "# close to a riverside: x=L/2, y close to w\n",
        "plt.plot(t_save,c_save[:,int(Nx/2),Ny-4])\n",
        "\n",
        "# at the end of the river: x close to L, y=w/2\n",
        "plt.plot(t_save,c_save[:,Nx-1,int(Ny/2)])\n",
        "\n",
        "# close to another riverside: x=L/2, y close to 0\n",
        "plt.plot(t_save,c_save[:,Nx-4,4])\n",
        "\n",
        "\n",
        "plt.legend(['middle','riverside1','end','riverside2'])\n"
      ],
      "metadata": {
        "id": "Id84YPuDoC-n",
        "outputId": "097366fa-8b8a-4b61-e04d-1ae1d32ac286",
        "colab": {
          "base_uri": "https://localhost:8080/",
          "height": 490
        }
      },
      "execution_count": 65,
      "outputs": [
        {
          "output_type": "execute_result",
          "data": {
            "text/plain": [
              "<matplotlib.legend.Legend at 0x7c77ad5666e0>"
            ]
          },
          "metadata": {},
          "execution_count": 65
        },
        {
          "output_type": "display_data",
          "data": {
            "text/plain": [
              "<Figure size 640x480 with 1 Axes>"
            ],
            "image/png": "[encoded data removed]"
          },
          "metadata": {}
        }
      ]
    },
    {
      "cell_type": "markdown",
      "metadata": {
        "id": "6DiQ2pIUPj1M"
      },
      "source": [
        "The 5 plots above are the concentrations at some chosen points in the river respect to time, with different maximum velocity U_0 and diffusivity kappa applied. Increase in U_0 results in a very quick coincide of polution at the middle and the end of the lake, and decrease in U_0 results in a lower pollution at the end of the lake and a higher pollution in the middle of the lake (doesn't have enough velocity to reach the end of the lake); increase in kappa results in a decrease in pollution, decrease in kappa results in an increase in the pollution on the riverside close to the source, since diffusivity is too small for the concentration to diffuse to the other riverside.\n",
        "\n",
        "Using dimensional analysis, assuming L>>w, scaling between the advection term and the diffusion in y-direction gives the timescale of diffusion to the other side of the river: w^2/kappa; then scale the time dependent term with the advection term to get the lengthscale of the river: L~U_0*t, which means that when L approximately equals U_0*w^2/kappa, the pollution reaches the opposite side of the river."
      ]
    },
    {
      "cell_type": "markdown",
      "metadata": {
        "id": "-NRCt8dHPj1M"
      },
      "source": [
        "## 3. Optional further investigations\n",
        "\n",
        "* In the river pollution example, you might notice that the concentration field is mixed more effectively in the x-direction than in the y-direction. The combination of differential advection by the currents and cross-stream diffusion is very effective at mixing the plume in the x-direction. This is an example of Taylor dispersion (Taylor, 1953). Construct numerical experiments to quantify Taylor dispersion and its dependence on the current shear and the diffusivity. You could also separate the diffusivity into parts in the x and y directions with different coefficients.  If you set the x-component of the diffusivity to zero, then any spreading of the concentration in the x-direction should be due to Taylor dispersion.\n",
        "\n",
        "* Try making the river speed a function of time. The easiest way to do this is to add a new equation so that Dedalus solves for the velocity in addition to the concentration field. For example, you could make the river speed decrease exponentially in time, or it could be sinusoidal in time.\n",
        "\n",
        "* In the ocean mixing example, if $\\kappa$ is a function of $x$ and $z$, what would this imply about the velocity field? You could even try writing a Dedalus script to solve the 2D advection/diffusion equation with a prescribed spatially-dependent $\\kappa(x,z)$.\n"
      ]
    },
    {
      "cell_type": "markdown",
      "metadata": {
        "id": "9Nr8jCU0Pj1N"
      },
      "source": [
        "### References\n",
        "\n",
        "Munk, W.H., 1966. Abyssal recipes. In Deep sea research and oceanographic abstracts (Vol. 13, No. 4, pp. 707-730). Elsevier.\n",
        "\n",
        "Ferrari, R., Mashayek, A., McDougall, T.J., Nikurashin, M. and Campin, J.M., 2016. Turning ocean mixing upside down. Journal of Physical Oceanography, 46(7), pp.2239-2261.\n",
        "\n",
        "Taylor, G.I., 1953. Dispersion of soluble matter in solvent flowing slowly through a tube. Proceedings of the Royal Society of London. Series A. Mathematical and Physical Sciences, 219(1137), pp.186-203."
      ]
    }
  ],
  "metadata": {
    "kernelspec": {
      "display_name": "dedalus3",
      "language": "python",
      "name": "python3"
    },
    "language_info": {
      "codemirror_mode": {
        "name": "ipython",
        "version": 3
      },
      "file_extension": ".py",
      "mimetype": "text/x-python",
      "name": "python",
      "nbconvert_exporter": "python",
      "pygments_lexer": "ipython3",
      "version": "3.12.2"
    },
    "colab": {
      "provenance": []
    }
  },
  "nbformat": 4,
  "nbformat_minor": 0
}